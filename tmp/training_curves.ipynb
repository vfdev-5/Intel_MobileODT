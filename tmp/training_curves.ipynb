{
 "cells": [
  {
   "cell_type": "code",
   "execution_count": 2,
   "metadata": {
    "collapsed": false
   },
   "outputs": [
    {
     "name": "stdout",
     "output_type": "stream",
     "text": [
      "../notebooks/weights/training_cnn_cbnr_pool_cervix_class_cvfold=0_opt=adadelta_seed=54321_2017-06-03-19-09.log\r\n",
      "../notebooks/weights/training_cnn_cbnr_pool_cervix_class_cvfold=0_opt=adadelta_seed=54321_2017-06-03-19-32.log\r\n",
      "../notebooks/weights/training_cnn_cbnr_pool_cervix_class_cvfold=0_opt=adam_seed=54321_2017-06-03-15-45.log\r\n",
      "../notebooks/weights/training_conv_dense2_cervix_class_cvfold=0_opt=adadelta_seed=54321_2017-06-04-02-10.log\r\n",
      "../notebooks/weights/training_conv_dense3_cervix_class_cvfold=0_opt=adadelta_seed=54321_2017-06-04-02-13.log\r\n",
      "../notebooks/weights/training_conv_dense3_cervix_class_cvfold=0_opt=adadelta_seed=54321_2017-06-04-16-21.log\r\n",
      "../notebooks/weights/training_conv_dense3_cervix_class_cvfold=0_opt=adadelta_seed=54321_2017-06-04-16-23.log\r\n",
      "../notebooks/weights/training_conv_dense_cervix_class_cvfold=0_opt=adadelta_seed=54321_2017-06-04-00-50.log\r\n",
      "../notebooks/weights/training_custom_vgg16_bn_cervix_class_cvfold=0_opt=adam_seed=54321_2017-06-01-17-10.log\r\n",
      "../notebooks/weights/training_mixed_cnn_cervix_class_cvfold=0_opt=adadelta_seed=54321_2017-06-04-16-48.log\r\n",
      "../notebooks/weights/training_mixed_cnn_cervix_class_cvfold=1_opt=adadelta_seed=54321_2017-06-05-18-44.log\r\n",
      "../notebooks/weights/training_mixed_cnn_cervix_class_cvfold=1_opt=nadam_accum_seed=54321_2017-06-07-20-18.log\r\n",
      "../notebooks/weights/training_mixed_cnn_cervix_class_cvfold=1_opt=nadam_accum_seed=54321_2017-06-08-08-27.log\r\n",
      "../notebooks/weights/training_mixed_cnn_cervix_class_cvfold=2_opt=adadelta_seed=54321_2017-06-06-08-24.log\r\n",
      "../notebooks/weights/training_mixed_cnn_cervix_class_cvfold=2_opt=nadam_accum_seed=54321_2017-06-08-23-49.log\r\n",
      "../notebooks/weights/training_mixed_cnn_cervix_class_cvfold=2_opt=nadam_accum_seed=54321_2017-06-09-01-00.log\r\n",
      "../notebooks/weights/training_mixed_cnn_cervix_class_cvfold=2_opt=nadam_accum_seed=54321_2017-06-09-08-11.log\r\n",
      "../notebooks/weights/training_mixed_cnn_cervix_class_cvfold=3_opt=nadam_accum_seed=54321_2017-06-06-23-54.log\r\n"
     ]
    }
   ],
   "source": [
    "!ls ../notebooks/weights/training*.log"
   ]
  },
  {
   "cell_type": "code",
   "execution_count": 3,
   "metadata": {
    "collapsed": false
   },
   "outputs": [
    {
     "name": "stderr",
     "output_type": "stream",
     "text": [
      "/usr/local/lib/python2.7/site-packages/matplotlib/font_manager.py:273: UserWarning: Matplotlib is building the font cache using fc-list. This may take a moment.\n",
      "  warnings.warn('Matplotlib is building the font cache using fc-list. This may take a moment.')\n"
     ]
    }
   ],
   "source": [
    "import pandas as pd\n",
    "import matplotlib.pylab as plt\n",
    "%matplotlib inline\n"
   ]
  },
  {
   "cell_type": "code",
   "execution_count": 5,
   "metadata": {
    "collapsed": false
   },
   "outputs": [
    {
     "data": {
      "text/plain": [
       "<matplotlib.axes._subplots.AxesSubplot at 0x115d32f10>"
      ]
     },
     "execution_count": 5,
     "metadata": {},
     "output_type": "execute_result"
    },
    {
     "data": {
      "image/png": "[encoded data removed]",
      "text/plain": [
       "<matplotlib.figure.Figure at 0x115d45450>"
      ]
     },
     "metadata": {},
     "output_type": "display_data"
    }
   ],
   "source": [
    "df = pd.read_csv('../notebooks/weights/training_mixed_cnn_cervix_class_cvfold=2_opt=nadam_accum_seed=54321_2017-06-09-01-00.log')\n",
    "df[['loss', 'val_loss']].plot(ylim=(0.4, 2.0))\n"
   ]
  },
  {
   "cell_type": "code",
   "execution_count": null,
   "metadata": {
    "collapsed": true
   },
   "outputs": [],
   "source": []
  },
  {
   "cell_type": "code",
   "execution_count": null,
   "metadata": {
    "collapsed": true
   },
   "outputs": [],
   "source": []
  },
  {
   "cell_type": "code",
   "execution_count": null,
   "metadata": {
    "collapsed": true
   },
   "outputs": [],
   "source": []
  },
  {
   "cell_type": "code",
   "execution_count": null,
   "metadata": {
    "collapsed": true
   },
   "outputs": [],
   "source": []
  }
 ],
 "metadata": {
  "kernelspec": {
   "display_name": "Python 2",
   "language": "python",
   "name": "python2"
  },
  "language_info": {
   "codemirror_mode": {
    "name": "ipython",
    "version": 2
   },
   "file_extension": ".py",
   "mimetype": "text/x-python",
   "name": "python",
   "nbconvert_exporter": "python",
   "pygments_lexer": "ipython2",
   "version": "2.7.13"
  }
 },
 "nbformat": 4,
 "nbformat_minor": 0
}
