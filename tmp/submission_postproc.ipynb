{
 "cells": [
  {
   "cell_type": "markdown",
   "metadata": {},
   "source": [
    "Submission probabilities tweaks"
   ]
  },
  {
   "cell_type": "code",
   "execution_count": 22,
   "metadata": {
    "collapsed": true
   },
   "outputs": [],
   "source": [
    "import numpy as np\n",
    "import pandas as pd"
   ]
  },
  {
   "cell_type": "code",
   "execution_count": 32,
   "metadata": {
    "collapsed": false
   },
   "outputs": [],
   "source": [
    "df = pd.read_csv(\"../results/submission_merge__mean_cv=6_squeezenet_fold=0_mixed_cnn_2017-06-10-11-50.csv\")"
   ]
  },
  {
   "cell_type": "code",
   "execution_count": 31,
   "metadata": {
    "collapsed": false
   },
   "outputs": [
    {
     "data": {
      "text/html": [
       "<div>\n",
       "<table border=\"1\" class=\"dataframe\">\n",
       "  <thead>\n",
       "    <tr style=\"text-align: right;\">\n",
       "      <th></th>\n",
       "      <th>image_name</th>\n",
       "      <th>Type_1</th>\n",
       "      <th>Type_2</th>\n",
       "      <th>Type_3</th>\n",
       "    </tr>\n",
       "  </thead>\n",
       "  <tbody>\n",
       "    <tr>\n",
       "      <th>0</th>\n",
       "      <td>0.jpg</td>\n",
       "      <td>0.235615</td>\n",
       "      <td>0.514373</td>\n",
       "      <td>0.250013</td>\n",
       "    </tr>\n",
       "    <tr>\n",
       "      <th>1</th>\n",
       "      <td>1.jpg</td>\n",
       "      <td>0.409603</td>\n",
       "      <td>0.412734</td>\n",
       "      <td>0.177662</td>\n",
       "    </tr>\n",
       "    <tr>\n",
       "      <th>2</th>\n",
       "      <td>10.jpg</td>\n",
       "      <td>0.251292</td>\n",
       "      <td>0.632521</td>\n",
       "      <td>0.116187</td>\n",
       "    </tr>\n",
       "    <tr>\n",
       "      <th>3</th>\n",
       "      <td>100.jpg</td>\n",
       "      <td>0.231874</td>\n",
       "      <td>0.633217</td>\n",
       "      <td>0.134909</td>\n",
       "    </tr>\n",
       "    <tr>\n",
       "      <th>4</th>\n",
       "      <td>101.jpg</td>\n",
       "      <td>0.452883</td>\n",
       "      <td>0.445858</td>\n",
       "      <td>0.101259</td>\n",
       "    </tr>\n",
       "  </tbody>\n",
       "</table>\n",
       "</div>"
      ],
      "text/plain": [
       "  image_name    Type_1    Type_2    Type_3\n",
       "0      0.jpg  0.235615  0.514373  0.250013\n",
       "1      1.jpg  0.409603  0.412734  0.177662\n",
       "2     10.jpg  0.251292  0.632521  0.116187\n",
       "3    100.jpg  0.231874  0.633217  0.134909\n",
       "4    101.jpg  0.452883  0.445858  0.101259"
      ]
     },
     "execution_count": 31,
     "metadata": {},
     "output_type": "execute_result"
    }
   ],
   "source": [
    "df.head()"
   ]
  },
  {
   "cell_type": "code",
   "execution_count": 45,
   "metadata": {
    "collapsed": true
   },
   "outputs": [],
   "source": [
    "def foo(probas):\n",
    "    imax = np.argmax(probas.values)\n",
    "    indices = range(3)\n",
    "    indices.remove(imax)\n",
    "    probas[imax] = 0.95\n",
    "#     probas[indices] = 0.025\n",
    "    return probas"
   ]
  },
  {
   "cell_type": "code",
   "execution_count": 46,
   "metadata": {
    "collapsed": false
   },
   "outputs": [],
   "source": [
    "cols = ['Type_%i' % i for i in range(1, 4)]\n",
    "df[cols] = df.loc[:, cols].apply(foo, axis=1)"
   ]
  },
  {
   "cell_type": "code",
   "execution_count": 47,
   "metadata": {
    "collapsed": true
   },
   "outputs": [],
   "source": [
    "import os\n",
    "from datetime import datetime\n",
    "\n",
    "info = 'merge__mean_cv=6_squeezenet_fold=0_mixed_cnn'\n",
    "\n",
    "now = datetime.now()\n",
    "sub_file = 'submission_' + info + '_' + str(now.strftime(\"%Y-%m-%d-%H-%M\")) + '_postproc.csv'\n",
    "sub_file = os.path.join('..', 'results', sub_file)\n",
    "df.to_csv(sub_file, index=False)"
   ]
  },
  {
   "cell_type": "code",
   "execution_count": 48,
   "metadata": {
    "collapsed": false
   },
   "outputs": [
    {
     "data": {
      "text/html": [
       "<div>\n",
       "<table border=\"1\" class=\"dataframe\">\n",
       "  <thead>\n",
       "    <tr style=\"text-align: right;\">\n",
       "      <th></th>\n",
       "      <th>image_name</th>\n",
       "      <th>Type_1</th>\n",
       "      <th>Type_2</th>\n",
       "      <th>Type_3</th>\n",
       "    </tr>\n",
       "  </thead>\n",
       "  <tbody>\n",
       "    <tr>\n",
       "      <th>0</th>\n",
       "      <td>0.jpg</td>\n",
       "      <td>0.222587</td>\n",
       "      <td>0.95000</td>\n",
       "      <td>0.244191</td>\n",
       "    </tr>\n",
       "    <tr>\n",
       "      <th>1</th>\n",
       "      <td>1.jpg</td>\n",
       "      <td>0.032502</td>\n",
       "      <td>0.95000</td>\n",
       "      <td>0.281421</td>\n",
       "    </tr>\n",
       "    <tr>\n",
       "      <th>2</th>\n",
       "      <td>10.jpg</td>\n",
       "      <td>0.022474</td>\n",
       "      <td>0.95000</td>\n",
       "      <td>0.002031</td>\n",
       "    </tr>\n",
       "    <tr>\n",
       "      <th>3</th>\n",
       "      <td>100.jpg</td>\n",
       "      <td>0.175312</td>\n",
       "      <td>0.95000</td>\n",
       "      <td>0.054444</td>\n",
       "    </tr>\n",
       "    <tr>\n",
       "      <th>4</th>\n",
       "      <td>101.jpg</td>\n",
       "      <td>0.950000</td>\n",
       "      <td>0.41864</td>\n",
       "      <td>0.057392</td>\n",
       "    </tr>\n",
       "  </tbody>\n",
       "</table>\n",
       "</div>"
      ],
      "text/plain": [
       "  image_name    Type_1   Type_2    Type_3\n",
       "0      0.jpg  0.222587  0.95000  0.244191\n",
       "1      1.jpg  0.032502  0.95000  0.281421\n",
       "2     10.jpg  0.022474  0.95000  0.002031\n",
       "3    100.jpg  0.175312  0.95000  0.054444\n",
       "4    101.jpg  0.950000  0.41864  0.057392"
      ]
     },
     "execution_count": 48,
     "metadata": {},
     "output_type": "execute_result"
    }
   ],
   "source": [
    "df.head()"
   ]
  },
  {
   "cell_type": "code",
   "execution_count": null,
   "metadata": {
    "collapsed": true
   },
   "outputs": [],
   "source": []
  },
  {
   "cell_type": "code",
   "execution_count": null,
   "metadata": {
    "collapsed": true
   },
   "outputs": [],
   "source": []
  },
  {
   "cell_type": "markdown",
   "metadata": {},
   "source": [
    "Merge two submissions"
   ]
  },
  {
   "cell_type": "code",
   "execution_count": 1,
   "metadata": {
    "collapsed": true
   },
   "outputs": [],
   "source": [
    "import numpy as np\n",
    "import pandas as pd"
   ]
  },
  {
   "cell_type": "code",
   "execution_count": 2,
   "metadata": {
    "collapsed": true
   },
   "outputs": [],
   "source": [
    "df1 = pd.read_csv(\"../results/submission_fold=0_mixed_cnn_2017-06-08-21-49.csv\")\n",
    "df2 = pd.read_csv(\"../results/submission_mean_cv=6_squeezenet_2017-05-25-23-30.csv\")"
   ]
  },
  {
   "cell_type": "code",
   "execution_count": 8,
   "metadata": {
    "collapsed": false
   },
   "outputs": [
    {
     "data": {
      "text/html": [
       "<div>\n",
       "<table border=\"1\" class=\"dataframe\">\n",
       "  <thead>\n",
       "    <tr style=\"text-align: right;\">\n",
       "      <th></th>\n",
       "      <th>image_name</th>\n",
       "      <th>Type_1</th>\n",
       "      <th>Type_2</th>\n",
       "      <th>Type_3</th>\n",
       "    </tr>\n",
       "  </thead>\n",
       "  <tbody>\n",
       "    <tr>\n",
       "      <th>0</th>\n",
       "      <td>0.jpg</td>\n",
       "      <td>0.359289</td>\n",
       "      <td>0.511135</td>\n",
       "      <td>0.129576</td>\n",
       "    </tr>\n",
       "    <tr>\n",
       "      <th>1</th>\n",
       "      <td>1.jpg</td>\n",
       "      <td>0.032502</td>\n",
       "      <td>0.686077</td>\n",
       "      <td>0.281421</td>\n",
       "    </tr>\n",
       "    <tr>\n",
       "      <th>2</th>\n",
       "      <td>10.jpg</td>\n",
       "      <td>0.022474</td>\n",
       "      <td>0.975495</td>\n",
       "      <td>0.002031</td>\n",
       "    </tr>\n",
       "    <tr>\n",
       "      <th>3</th>\n",
       "      <td>100.jpg</td>\n",
       "      <td>0.175312</td>\n",
       "      <td>0.770244</td>\n",
       "      <td>0.054444</td>\n",
       "    </tr>\n",
       "    <tr>\n",
       "      <th>4</th>\n",
       "      <td>101.jpg</td>\n",
       "      <td>0.523968</td>\n",
       "      <td>0.418640</td>\n",
       "      <td>0.057392</td>\n",
       "    </tr>\n",
       "  </tbody>\n",
       "</table>\n",
       "</div>"
      ],
      "text/plain": [
       "  image_name    Type_1    Type_2    Type_3\n",
       "0      0.jpg  0.359289  0.511135  0.129576\n",
       "1      1.jpg  0.032502  0.686077  0.281421\n",
       "2     10.jpg  0.022474  0.975495  0.002031\n",
       "3    100.jpg  0.175312  0.770244  0.054444\n",
       "4    101.jpg  0.523968  0.418640  0.057392"
      ]
     },
     "execution_count": 8,
     "metadata": {},
     "output_type": "execute_result"
    }
   ],
   "source": [
    "df1.head()"
   ]
  },
  {
   "cell_type": "code",
   "execution_count": 9,
   "metadata": {
    "collapsed": false
   },
   "outputs": [
    {
     "data": {
      "text/html": [
       "<div>\n",
       "<table border=\"1\" class=\"dataframe\">\n",
       "  <thead>\n",
       "    <tr style=\"text-align: right;\">\n",
       "      <th></th>\n",
       "      <th>image_name</th>\n",
       "      <th>Type_1</th>\n",
       "      <th>Type_2</th>\n",
       "      <th>Type_3</th>\n",
       "    </tr>\n",
       "  </thead>\n",
       "  <tbody>\n",
       "    <tr>\n",
       "      <th>0</th>\n",
       "      <td>0.jpg</td>\n",
       "      <td>0.222587</td>\n",
       "      <td>0.533222</td>\n",
       "      <td>0.244191</td>\n",
       "    </tr>\n",
       "    <tr>\n",
       "      <th>1</th>\n",
       "      <td>1.jpg</td>\n",
       "      <td>0.215771</td>\n",
       "      <td>0.542684</td>\n",
       "      <td>0.241544</td>\n",
       "    </tr>\n",
       "    <tr>\n",
       "      <th>2</th>\n",
       "      <td>10.jpg</td>\n",
       "      <td>0.330304</td>\n",
       "      <td>0.534667</td>\n",
       "      <td>0.135029</td>\n",
       "    </tr>\n",
       "    <tr>\n",
       "      <th>3</th>\n",
       "      <td>100.jpg</td>\n",
       "      <td>0.300007</td>\n",
       "      <td>0.633719</td>\n",
       "      <td>0.066274</td>\n",
       "    </tr>\n",
       "    <tr>\n",
       "      <th>4</th>\n",
       "      <td>101.jpg</td>\n",
       "      <td>0.475317</td>\n",
       "      <td>0.412831</td>\n",
       "      <td>0.111853</td>\n",
       "    </tr>\n",
       "  </tbody>\n",
       "</table>\n",
       "</div>"
      ],
      "text/plain": [
       "  image_name    Type_1    Type_2    Type_3\n",
       "0      0.jpg  0.222587  0.533222  0.244191\n",
       "1      1.jpg  0.215771  0.542684  0.241544\n",
       "2     10.jpg  0.330304  0.534667  0.135029\n",
       "3    100.jpg  0.300007  0.633719  0.066274\n",
       "4    101.jpg  0.475317  0.412831  0.111853"
      ]
     },
     "execution_count": 9,
     "metadata": {},
     "output_type": "execute_result"
    }
   ],
   "source": [
    "df2.head()"
   ]
  },
  {
   "cell_type": "code",
   "execution_count": 69,
   "metadata": {
    "collapsed": true
   },
   "outputs": [],
   "source": [
    "def merge(df1, df2):\n",
    "    types = ['Type_1', 'Type_2', 'Type_3']\n",
    "    ll = min(df1.shape[0], df2.shape[0])\n",
    "    df_out = pd.DataFrame(columns=df1.columns)\n",
    "    for i in range(ll):    \n",
    "        proba1 = df1.loc[i, types]\n",
    "        proba2 = df2.loc[i, types]        \n",
    "        proba = proba1 if np.max(proba1) > np.max(proba2) else proba2    \n",
    "        df_out.loc[i, :] = (df1.loc[i, 'image_name'], ) + tuple(proba)  \n",
    "    return df_out"
   ]
  },
  {
   "cell_type": "code",
   "execution_count": 40,
   "metadata": {
    "collapsed": false
   },
   "outputs": [],
   "source": [
    "df3 = merge(df1, df2)"
   ]
  },
  {
   "cell_type": "code",
   "execution_count": 41,
   "metadata": {
    "collapsed": false
   },
   "outputs": [
    {
     "data": {
      "text/html": [
       "<div>\n",
       "<table border=\"1\" class=\"dataframe\">\n",
       "  <thead>\n",
       "    <tr style=\"text-align: right;\">\n",
       "      <th></th>\n",
       "      <th>image_name</th>\n",
       "      <th>Type_1</th>\n",
       "      <th>Type_2</th>\n",
       "      <th>Type_3</th>\n",
       "    </tr>\n",
       "  </thead>\n",
       "  <tbody>\n",
       "    <tr>\n",
       "      <th>0</th>\n",
       "      <td>0.jpg</td>\n",
       "      <td>0.222587</td>\n",
       "      <td>0.533222</td>\n",
       "      <td>0.244191</td>\n",
       "    </tr>\n",
       "    <tr>\n",
       "      <th>1</th>\n",
       "      <td>1.jpg</td>\n",
       "      <td>0.0325019</td>\n",
       "      <td>0.686077</td>\n",
       "      <td>0.281421</td>\n",
       "    </tr>\n",
       "    <tr>\n",
       "      <th>2</th>\n",
       "      <td>10.jpg</td>\n",
       "      <td>0.0224738</td>\n",
       "      <td>0.975495</td>\n",
       "      <td>0.00203107</td>\n",
       "    </tr>\n",
       "    <tr>\n",
       "      <th>3</th>\n",
       "      <td>100.jpg</td>\n",
       "      <td>0.175312</td>\n",
       "      <td>0.770244</td>\n",
       "      <td>0.0544437</td>\n",
       "    </tr>\n",
       "    <tr>\n",
       "      <th>4</th>\n",
       "      <td>101.jpg</td>\n",
       "      <td>0.523968</td>\n",
       "      <td>0.41864</td>\n",
       "      <td>0.0573924</td>\n",
       "    </tr>\n",
       "  </tbody>\n",
       "</table>\n",
       "</div>"
      ],
      "text/plain": [
       "  image_name     Type_1    Type_2      Type_3\n",
       "0      0.jpg   0.222587  0.533222    0.244191\n",
       "1      1.jpg  0.0325019  0.686077    0.281421\n",
       "2     10.jpg  0.0224738  0.975495  0.00203107\n",
       "3    100.jpg   0.175312  0.770244   0.0544437\n",
       "4    101.jpg   0.523968   0.41864   0.0573924"
      ]
     },
     "execution_count": 41,
     "metadata": {},
     "output_type": "execute_result"
    }
   ],
   "source": [
    "df3.head()"
   ]
  },
  {
   "cell_type": "code",
   "execution_count": 42,
   "metadata": {
    "collapsed": true
   },
   "outputs": [],
   "source": [
    "import os\n",
    "from datetime import datetime\n",
    "\n",
    "info = 'merge__mean_cv=6_squeezenet_fold=0_mixed_cnn'\n",
    "\n",
    "now = datetime.now()\n",
    "sub_file = 'submission_' + info + '_' + str(now.strftime(\"%Y-%m-%d-%H-%M\")) + '.csv'\n",
    "sub_file = os.path.join('..', 'results', sub_file)\n",
    "df3.to_csv(sub_file, index=False)"
   ]
  },
  {
   "cell_type": "code",
   "execution_count": null,
   "metadata": {
    "collapsed": true
   },
   "outputs": [],
   "source": []
  },
  {
   "cell_type": "code",
   "execution_count": null,
   "metadata": {
    "collapsed": true
   },
   "outputs": [],
   "source": []
  },
  {
   "cell_type": "markdown",
   "metadata": {
    "collapsed": true
   },
   "source": [
    "Compare dfs"
   ]
  },
  {
   "cell_type": "code",
   "execution_count": 154,
   "metadata": {
    "collapsed": true
   },
   "outputs": [],
   "source": [
    "def compute_mean(predictions):\n",
    "    df = predictions[0]\n",
    "    for p in predictions[1:]:\n",
    "        df = pd.concat([df, p], axis=0)\n",
    "    df = df.apply(pd.to_numeric, errors='ignore')\n",
    "    gb = df.groupby('image_name')\n",
    "    df2 = gb.agg(np.mean).reset_index()\n",
    "    return df2"
   ]
  },
  {
   "cell_type": "code",
   "execution_count": 164,
   "metadata": {
    "collapsed": false
   },
   "outputs": [],
   "source": [
    "df_d1 = pd.read_csv(\"../../Intel_MobileODT_delivery/results/_submission_mean_cv=6_squeezenet.csv\")\n",
    "#df_d2 = pd.read_csv(\"../../Intel_MobileODT_delivery/results/_submission_mean_mixed_cnn.csv\")\n",
    "df_d21 = pd.read_csv(\"../../Intel_MobileODT_delivery/results/_submission_mixed_cnn_run_counter=1.csv\")\n",
    "df_d22 = pd.read_csv(\"../../Intel_MobileODT_delivery/results/_submission_mixed_cnn_run_counter=2.csv\")\n",
    "df_d2 = compute_mean([df_d21, df_d22])\n",
    "\n",
    "df_t1 = pd.read_csv(\"../results/submission_mean_cv=6_squeezenet_2017-05-25-23-30.csv\")\n",
    "df_t2 = pd.read_csv(\"../results/submission_fold=0_mixed_cnn_2017-06-08-21-49.csv\")\n",
    "\n",
    "df_true = pd.read_csv(\"../results/stage1.csv\")"
   ]
  },
  {
   "cell_type": "code",
   "execution_count": 179,
   "metadata": {
    "collapsed": true
   },
   "outputs": [],
   "source": [
    "df_final = pd.read_csv(\"../../Intel_MobileODT_delivery/results/submission_final_classification.csv\")"
   ]
  },
  {
   "cell_type": "code",
   "execution_count": 165,
   "metadata": {
    "collapsed": true
   },
   "outputs": [],
   "source": [
    "df_m2 = pd.merge(df_d22, df_t2, left_index=True, right_index=True)"
   ]
  },
  {
   "cell_type": "code",
   "execution_count": 166,
   "metadata": {
    "collapsed": false
   },
   "outputs": [
    {
     "data": {
      "text/html": [
       "<div>\n",
       "<table border=\"1\" class=\"dataframe\">\n",
       "  <thead>\n",
       "    <tr style=\"text-align: right;\">\n",
       "      <th></th>\n",
       "      <th>image_name_x</th>\n",
       "      <th>Type_1_x</th>\n",
       "      <th>Type_2_x</th>\n",
       "      <th>Type_3_x</th>\n",
       "      <th>image_name_y</th>\n",
       "      <th>Type_1_y</th>\n",
       "      <th>Type_2_y</th>\n",
       "      <th>Type_3_y</th>\n",
       "    </tr>\n",
       "  </thead>\n",
       "  <tbody>\n",
       "    <tr>\n",
       "      <th>0</th>\n",
       "      <td>0.jpg</td>\n",
       "      <td>0.283605</td>\n",
       "      <td>0.577240</td>\n",
       "      <td>0.139154</td>\n",
       "      <td>0.jpg</td>\n",
       "      <td>0.359289</td>\n",
       "      <td>0.511135</td>\n",
       "      <td>0.129576</td>\n",
       "    </tr>\n",
       "    <tr>\n",
       "      <th>1</th>\n",
       "      <td>1.jpg</td>\n",
       "      <td>0.030557</td>\n",
       "      <td>0.686122</td>\n",
       "      <td>0.283321</td>\n",
       "      <td>1.jpg</td>\n",
       "      <td>0.032502</td>\n",
       "      <td>0.686077</td>\n",
       "      <td>0.281421</td>\n",
       "    </tr>\n",
       "    <tr>\n",
       "      <th>2</th>\n",
       "      <td>10.jpg</td>\n",
       "      <td>0.023010</td>\n",
       "      <td>0.969214</td>\n",
       "      <td>0.007775</td>\n",
       "      <td>10.jpg</td>\n",
       "      <td>0.022474</td>\n",
       "      <td>0.975495</td>\n",
       "      <td>0.002031</td>\n",
       "    </tr>\n",
       "    <tr>\n",
       "      <th>3</th>\n",
       "      <td>100.jpg</td>\n",
       "      <td>0.369781</td>\n",
       "      <td>0.591814</td>\n",
       "      <td>0.038404</td>\n",
       "      <td>100.jpg</td>\n",
       "      <td>0.175312</td>\n",
       "      <td>0.770244</td>\n",
       "      <td>0.054444</td>\n",
       "    </tr>\n",
       "    <tr>\n",
       "      <th>4</th>\n",
       "      <td>101.jpg</td>\n",
       "      <td>0.262556</td>\n",
       "      <td>0.674967</td>\n",
       "      <td>0.062477</td>\n",
       "      <td>101.jpg</td>\n",
       "      <td>0.523968</td>\n",
       "      <td>0.418640</td>\n",
       "      <td>0.057392</td>\n",
       "    </tr>\n",
       "    <tr>\n",
       "      <th>5</th>\n",
       "      <td>102.jpg</td>\n",
       "      <td>0.172298</td>\n",
       "      <td>0.731564</td>\n",
       "      <td>0.096138</td>\n",
       "      <td>102.jpg</td>\n",
       "      <td>0.159052</td>\n",
       "      <td>0.769726</td>\n",
       "      <td>0.071222</td>\n",
       "    </tr>\n",
       "    <tr>\n",
       "      <th>6</th>\n",
       "      <td>103.jpg</td>\n",
       "      <td>0.128565</td>\n",
       "      <td>0.058112</td>\n",
       "      <td>0.813323</td>\n",
       "      <td>103.jpg</td>\n",
       "      <td>0.052909</td>\n",
       "      <td>0.023470</td>\n",
       "      <td>0.923622</td>\n",
       "    </tr>\n",
       "    <tr>\n",
       "      <th>7</th>\n",
       "      <td>104.jpg</td>\n",
       "      <td>0.049999</td>\n",
       "      <td>0.853241</td>\n",
       "      <td>0.096759</td>\n",
       "      <td>104.jpg</td>\n",
       "      <td>0.035460</td>\n",
       "      <td>0.882915</td>\n",
       "      <td>0.081624</td>\n",
       "    </tr>\n",
       "    <tr>\n",
       "      <th>8</th>\n",
       "      <td>105.jpg</td>\n",
       "      <td>0.058712</td>\n",
       "      <td>0.091677</td>\n",
       "      <td>0.849611</td>\n",
       "      <td>105.jpg</td>\n",
       "      <td>0.044025</td>\n",
       "      <td>0.101189</td>\n",
       "      <td>0.854786</td>\n",
       "    </tr>\n",
       "    <tr>\n",
       "      <th>9</th>\n",
       "      <td>106.jpg</td>\n",
       "      <td>0.025777</td>\n",
       "      <td>0.871318</td>\n",
       "      <td>0.102905</td>\n",
       "      <td>106.jpg</td>\n",
       "      <td>0.050637</td>\n",
       "      <td>0.827829</td>\n",
       "      <td>0.121534</td>\n",
       "    </tr>\n",
       "  </tbody>\n",
       "</table>\n",
       "</div>"
      ],
      "text/plain": [
       "  image_name_x  Type_1_x  Type_2_x  Type_3_x image_name_y  Type_1_y  Type_2_y  \\\n",
       "0        0.jpg  0.283605  0.577240  0.139154        0.jpg  0.359289  0.511135   \n",
       "1        1.jpg  0.030557  0.686122  0.283321        1.jpg  0.032502  0.686077   \n",
       "2       10.jpg  0.023010  0.969214  0.007775       10.jpg  0.022474  0.975495   \n",
       "3      100.jpg  0.369781  0.591814  0.038404      100.jpg  0.175312  0.770244   \n",
       "4      101.jpg  0.262556  0.674967  0.062477      101.jpg  0.523968  0.418640   \n",
       "5      102.jpg  0.172298  0.731564  0.096138      102.jpg  0.159052  0.769726   \n",
       "6      103.jpg  0.128565  0.058112  0.813323      103.jpg  0.052909  0.023470   \n",
       "7      104.jpg  0.049999  0.853241  0.096759      104.jpg  0.035460  0.882915   \n",
       "8      105.jpg  0.058712  0.091677  0.849611      105.jpg  0.044025  0.101189   \n",
       "9      106.jpg  0.025777  0.871318  0.102905      106.jpg  0.050637  0.827829   \n",
       "\n",
       "   Type_3_y  \n",
       "0  0.129576  \n",
       "1  0.281421  \n",
       "2  0.002031  \n",
       "3  0.054444  \n",
       "4  0.057392  \n",
       "5  0.071222  \n",
       "6  0.923622  \n",
       "7  0.081624  \n",
       "8  0.854786  \n",
       "9  0.121534  "
      ]
     },
     "execution_count": 166,
     "metadata": {},
     "output_type": "execute_result"
    }
   ],
   "source": [
    "df_m2.head(10)"
   ]
  },
  {
   "cell_type": "code",
   "execution_count": 167,
   "metadata": {
    "collapsed": false
   },
   "outputs": [
    {
     "data": {
      "text/html": [
       "<div>\n",
       "<table border=\"1\" class=\"dataframe\">\n",
       "  <thead>\n",
       "    <tr style=\"text-align: right;\">\n",
       "      <th></th>\n",
       "      <th>image_name</th>\n",
       "      <th>Type_1</th>\n",
       "      <th>Type_2</th>\n",
       "      <th>Type_3</th>\n",
       "    </tr>\n",
       "  </thead>\n",
       "  <tbody>\n",
       "    <tr>\n",
       "      <th>0</th>\n",
       "      <td>0.jpg</td>\n",
       "      <td>0.0</td>\n",
       "      <td>1.0</td>\n",
       "      <td>0.0</td>\n",
       "    </tr>\n",
       "    <tr>\n",
       "      <th>1</th>\n",
       "      <td>1.jpg</td>\n",
       "      <td>0.0</td>\n",
       "      <td>1.0</td>\n",
       "      <td>0.0</td>\n",
       "    </tr>\n",
       "    <tr>\n",
       "      <th>10</th>\n",
       "      <td>10.jpg</td>\n",
       "      <td>0.0</td>\n",
       "      <td>1.0</td>\n",
       "      <td>0.0</td>\n",
       "    </tr>\n",
       "    <tr>\n",
       "      <th>100</th>\n",
       "      <td>100.jpg</td>\n",
       "      <td>1.0</td>\n",
       "      <td>0.0</td>\n",
       "      <td>0.0</td>\n",
       "    </tr>\n",
       "    <tr>\n",
       "      <th>101</th>\n",
       "      <td>101.jpg</td>\n",
       "      <td>0.0</td>\n",
       "      <td>1.0</td>\n",
       "      <td>0.0</td>\n",
       "    </tr>\n",
       "    <tr>\n",
       "      <th>102</th>\n",
       "      <td>102.jpg</td>\n",
       "      <td>0.0</td>\n",
       "      <td>1.0</td>\n",
       "      <td>0.0</td>\n",
       "    </tr>\n",
       "    <tr>\n",
       "      <th>103</th>\n",
       "      <td>103.jpg</td>\n",
       "      <td>1.0</td>\n",
       "      <td>0.0</td>\n",
       "      <td>0.0</td>\n",
       "    </tr>\n",
       "    <tr>\n",
       "      <th>104</th>\n",
       "      <td>104.jpg</td>\n",
       "      <td>0.0</td>\n",
       "      <td>1.0</td>\n",
       "      <td>0.0</td>\n",
       "    </tr>\n",
       "    <tr>\n",
       "      <th>105</th>\n",
       "      <td>105.jpg</td>\n",
       "      <td>0.0</td>\n",
       "      <td>1.0</td>\n",
       "      <td>0.0</td>\n",
       "    </tr>\n",
       "    <tr>\n",
       "      <th>106</th>\n",
       "      <td>106.jpg</td>\n",
       "      <td>0.0</td>\n",
       "      <td>1.0</td>\n",
       "      <td>0.0</td>\n",
       "    </tr>\n",
       "  </tbody>\n",
       "</table>\n",
       "</div>"
      ],
      "text/plain": [
       "    image_name  Type_1  Type_2  Type_3\n",
       "0        0.jpg     0.0     1.0     0.0\n",
       "1        1.jpg     0.0     1.0     0.0\n",
       "10      10.jpg     0.0     1.0     0.0\n",
       "100    100.jpg     1.0     0.0     0.0\n",
       "101    101.jpg     0.0     1.0     0.0\n",
       "102    102.jpg     0.0     1.0     0.0\n",
       "103    103.jpg     1.0     0.0     0.0\n",
       "104    104.jpg     0.0     1.0     0.0\n",
       "105    105.jpg     0.0     1.0     0.0\n",
       "106    106.jpg     0.0     1.0     0.0"
      ]
     },
     "execution_count": 167,
     "metadata": {},
     "output_type": "execute_result"
    }
   ],
   "source": [
    "df_true = df_true.sort_values('image_name')\n",
    "df_true.head(10)"
   ]
  },
  {
   "cell_type": "code",
   "execution_count": 168,
   "metadata": {
    "collapsed": false
   },
   "outputs": [],
   "source": [
    "import os\n",
    "import sys\n",
    "# Project\n",
    "project_common_path = os.path.dirname('.')\n",
    "project_common_path = os.path.abspath(os.path.join(project_common_path, '..', 'common'))\n",
    "if not project_common_path in sys.path:\n",
    "    sys.path.append(project_common_path)"
   ]
  },
  {
   "cell_type": "code",
   "execution_count": 169,
   "metadata": {
    "collapsed": true
   },
   "outputs": [],
   "source": [
    "import numpy as np\n",
    "from metrics import logloss_mc"
   ]
  },
  {
   "cell_type": "code",
   "execution_count": 170,
   "metadata": {
    "collapsed": true
   },
   "outputs": [],
   "source": [
    "types = ['Type_1', 'Type_2', 'Type_3']"
   ]
  },
  {
   "cell_type": "code",
   "execution_count": 171,
   "metadata": {
    "collapsed": false
   },
   "outputs": [],
   "source": [
    "df_true = df_true.sort_values('image_name')"
   ]
  },
  {
   "cell_type": "code",
   "execution_count": 172,
   "metadata": {
    "collapsed": false
   },
   "outputs": [
    {
     "data": {
      "text/plain": [
       "array([[0, 1, 0],\n",
       "       [0, 1, 0],\n",
       "       [0, 1, 0],\n",
       "       ..., \n",
       "       [0, 0, 1],\n",
       "       [0, 1, 0],\n",
       "       [0, 0, 1]], dtype=uint8)"
      ]
     },
     "execution_count": 172,
     "metadata": {},
     "output_type": "execute_result"
    }
   ],
   "source": [
    "df_true[types].values.astype(np.uint8)"
   ]
  },
  {
   "cell_type": "code",
   "execution_count": 173,
   "metadata": {
    "collapsed": false
   },
   "outputs": [],
   "source": [
    "df5 = merge(df_d1, df_d2)"
   ]
  },
  {
   "cell_type": "code",
   "execution_count": 174,
   "metadata": {
    "collapsed": true
   },
   "outputs": [],
   "source": [
    "# Crop between [0.02, 0.98]\n",
    "for t in ['Type_1', 'Type_2', 'Type_3']:\n",
    "    mask = df5[t] < 0.03\n",
    "    df5.loc[mask, t] = 0.03\n",
    "    mask = df5[t] > 0.97\n",
    "    df5.loc[mask, t] = 0.97"
   ]
  },
  {
   "cell_type": "code",
   "execution_count": 180,
   "metadata": {
    "collapsed": false
   },
   "outputs": [
    {
     "data": {
      "text/plain": [
       "0.7877617354581079"
      ]
     },
     "execution_count": 180,
     "metadata": {},
     "output_type": "execute_result"
    }
   ],
   "source": [
    "logloss_mc(df_true[types].values.astype(np.uint8), df5[types].values)"
   ]
  },
  {
   "cell_type": "code",
   "execution_count": 51,
   "metadata": {
    "collapsed": true
   },
   "outputs": [],
   "source": [
    "logloss_mc??"
   ]
  },
  {
   "cell_type": "code",
   "execution_count": 178,
   "metadata": {
    "collapsed": true
   },
   "outputs": [],
   "source": [
    "import os\n",
    "from datetime import datetime\n",
    "\n",
    "info = 'merge_regularized__mean_cv=5_squeezenet+fold=0_mixed_cnn'\n",
    "\n",
    "now = datetime.now()\n",
    "sub_file = 'submission_' + info + '_' + str(now.strftime(\"%Y-%m-%d-%H-%M\")) + '.csv'\n",
    "sub_file = os.path.join('..', 'results', sub_file)\n",
    "df5.to_csv(sub_file, index=False)"
   ]
  },
  {
   "cell_type": "code",
   "execution_count": null,
   "metadata": {
    "collapsed": true
   },
   "outputs": [],
   "source": []
  },
  {
   "cell_type": "code",
   "execution_count": 177,
   "metadata": {
    "collapsed": true
   },
   "outputs": [],
   "source": [
    "info = 'mean_mixed_cnn'\n",
    "now = datetime.now()\n",
    "sub_file = 'submission_' + info + '.csv'\n",
    "sub_file = os.path.join('..', 'results', sub_file)\n",
    "df_d2.to_csv(sub_file, index=False)"
   ]
  },
  {
   "cell_type": "code",
   "execution_count": null,
   "metadata": {
    "collapsed": true
   },
   "outputs": [],
   "source": []
  },
  {
   "cell_type": "code",
   "execution_count": null,
   "metadata": {
    "collapsed": true
   },
   "outputs": [],
   "source": []
  },
  {
   "cell_type": "code",
   "execution_count": null,
   "metadata": {
    "collapsed": true
   },
   "outputs": [],
   "source": []
  },
  {
   "cell_type": "markdown",
   "metadata": {},
   "source": [
    "Play with logloss function"
   ]
  },
  {
   "cell_type": "code",
   "execution_count": 39,
   "metadata": {
    "collapsed": false
   },
   "outputs": [],
   "source": [
    "import os\n",
    "import sys\n",
    "# Project\n",
    "project_common_path = os.path.dirname('.')\n",
    "project_common_path = os.path.abspath(os.path.join(project_common_path, '..', 'common'))\n",
    "if not project_common_path in sys.path:\n",
    "    sys.path.append(project_common_path)"
   ]
  },
  {
   "cell_type": "code",
   "execution_count": 40,
   "metadata": {
    "collapsed": true
   },
   "outputs": [],
   "source": [
    "import numpy as np\n",
    "from metrics import logloss_mc"
   ]
  },
  {
   "cell_type": "code",
   "execution_count": 17,
   "metadata": {
    "collapsed": true
   },
   "outputs": [],
   "source": [
    "n=100"
   ]
  },
  {
   "cell_type": "code",
   "execution_count": 18,
   "metadata": {
    "collapsed": false
   },
   "outputs": [],
   "source": [
    "y_true = np.zeros((n, 3), dtype=np.uint8)\n",
    "y_true[:, 0] = 1"
   ]
  },
  {
   "cell_type": "code",
   "execution_count": 58,
   "metadata": {
    "collapsed": true
   },
   "outputs": [],
   "source": [
    "y_pred = 0.33 * np.ones((n, 3))\n",
    "index = np.random.randint(0, 3, size=n)"
   ]
  },
  {
   "cell_type": "code",
   "execution_count": 59,
   "metadata": {
    "collapsed": false
   },
   "outputs": [
    {
     "data": {
      "text/plain": [
       "1.0986122886681107"
      ]
     },
     "execution_count": 59,
     "metadata": {},
     "output_type": "execute_result"
    }
   ],
   "source": [
    "logloss_mc(y_true, y_pred)"
   ]
  },
  {
   "cell_type": "code",
   "execution_count": null,
   "metadata": {
    "collapsed": true
   },
   "outputs": [],
   "source": []
  },
  {
   "cell_type": "code",
   "execution_count": 95,
   "metadata": {
    "collapsed": true
   },
   "outputs": [],
   "source": [
    "y_pred = 0.2 * np.ones((n, 3))\n",
    "index = np.random.randint(0, 3, size=n)\n",
    "y_pred[np.arange(n), index] = 0.85"
   ]
  },
  {
   "cell_type": "code",
   "execution_count": 96,
   "metadata": {
    "collapsed": false
   },
   "outputs": [
    {
     "data": {
      "text/plain": [
       "1.3406290095499604"
      ]
     },
     "execution_count": 96,
     "metadata": {},
     "output_type": "execute_result"
    }
   ],
   "source": [
    "logloss_mc(y_true, y_pred)"
   ]
  },
  {
   "cell_type": "code",
   "execution_count": null,
   "metadata": {
    "collapsed": true
   },
   "outputs": [],
   "source": []
  }
 ],
 "metadata": {
  "kernelspec": {
   "display_name": "Python 2",
   "language": "python",
   "name": "python2"
  },
  "language_info": {
   "codemirror_mode": {
    "name": "ipython",
    "version": 2
   },
   "file_extension": ".py",
   "mimetype": "text/x-python",
   "name": "python",
   "nbconvert_exporter": "python",
   "pygments_lexer": "ipython2",
   "version": "2.7.13"
  }
 },
 "nbformat": 4,
 "nbformat_minor": 0
}
