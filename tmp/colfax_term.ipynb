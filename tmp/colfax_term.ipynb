{
 "cells": [
  {
   "cell_type": "markdown",
   "metadata": {},
   "source": [
    "Various cmd used on Colfax"
   ]
  },
  {
   "cell_type": "code",
   "execution_count": 2,
   "metadata": {
    "collapsed": false
   },
   "outputs": [
    {
     "name": "stdout",
     "output_type": "stream",
     "text": [
      "build_opencv\t     err.log\t       opencv_source\t test_launch\r\n",
      "DIGITS\t\t     Intel_MobileODT   start_digits.sh\t test.py\r\n",
      "digits_dependencies  interactive_qsub  start_digits.sh~  tmp\r\n",
      "digits-jobs\t     keras_source      STDIN.e3535\r\n",
      "env.local\t     opencv\t       STDIN.o3535\r\n"
     ]
    }
   ],
   "source": [
    "!ls ~/"
   ]
  },
  {
   "cell_type": "code",
   "execution_count": 5,
   "metadata": {
    "collapsed": false
   },
   "outputs": [
    {
     "name": "stdout",
     "output_type": "stream",
     "text": [
      "Get DetectNet ...\n",
      "-- network file\n",
      "--2017-03-22 06:24:42--  https://raw.githubusercontent.com/NVIDIA/caffe/caffe-0.15/examples/kitti/detectnet_network.prototxt\n",
      "Resolving raw.githubusercontent.com (raw.githubusercontent.com)... 151.101.192.133, 151.101.64.133, 151.101.128.133, ...\n",
      "Connecting to raw.githubusercontent.com (raw.githubusercontent.com)|151.101.192.133|:443... connected.\n",
      "HTTP request sent, awaiting response... 200 OK\n",
      "Length: 42929 (42K) [text/plain]\n",
      "Saving to: ‘detectnet_network.prototxt.1’\n",
      "\n",
      "100%[======================================>] 42,929      --.-K/s   in 0.008s  \n",
      "\n",
      "2017-03-22 06:24:42 (5.20 MB/s) - ‘detectnet_network.prototxt.1’ saved [42929/42929]\n",
      "\n",
      "-- model weights - GoogleNet\n",
      "--2017-03-22 06:24:42--  http://dl.caffe.berkeleyvision.org/bvlc_googlenet.caffemodel\n",
      "Resolving dl.caffe.berkeleyvision.org (dl.caffe.berkeleyvision.org)... 169.229.222.251\n",
      "Connecting to dl.caffe.berkeleyvision.org (dl.caffe.berkeleyvision.org)|169.229.222.251|:80... connected.\n",
      "HTTP request sent, awaiting response... 200 OK\n",
      "Length: 53533754 (51M) [application/octet-stream]\n",
      "Saving to: ‘bvlc_googlenet.caffemodel’\n",
      "\n",
      "100%[======================================>] 53,533,754  10.7MB/s   in 4.7s   \n",
      "\n",
      "2017-03-22 06:24:50 (10.8 MB/s) - ‘bvlc_googlenet.caffemodel’ saved [53533754/53533754]\n",
      "\n"
     ]
    }
   ],
   "source": [
    "!cd /home/u2459/Intel_MobileODT/resources/ ; sh get_detectnet.sh"
   ]
  },
  {
   "cell_type": "code",
   "execution_count": 8,
   "metadata": {
    "collapsed": false
   },
   "outputs": [
    {
     "name": "stdout",
     "output_type": "stream",
     "text": [
      "-rw-rw-r--. 1 u2459 u2459 53533754 Dec 18  2014 /home/u2459/Intel_MobileODT/resources/bvlc_googlenet.caffemodel\r\n"
     ]
    }
   ],
   "source": [
    "!ls -all /home/u2459/Intel_MobileODT/resources/bvlc_googlenet.caffemodel"
   ]
  },
  {
   "cell_type": "code",
   "execution_count": null,
   "metadata": {
    "collapsed": true
   },
   "outputs": [],
   "source": []
  },
  {
   "cell_type": "code",
   "execution_count": 12,
   "metadata": {
    "collapsed": false
   },
   "outputs": [
    {
     "name": "stdout",
     "output_type": "stream",
     "text": [
      "Job ID                    Name             User            Time Use S Queue\r\n",
      "------------------------- ---------------- --------------- -------- - -----\r\n",
      "4689.c001                  ..._os_detection u2459           02:22:42 R batch          \r\n"
     ]
    }
   ],
   "source": [
    "!qstat"
   ]
  },
  {
   "cell_type": "code",
   "execution_count": null,
   "metadata": {
    "collapsed": true
   },
   "outputs": [],
   "source": []
  },
  {
   "cell_type": "code",
   "execution_count": 19,
   "metadata": {
    "collapsed": true
   },
   "outputs": [],
   "source": [
    "!qdel 4232"
   ]
  },
  {
   "cell_type": "code",
   "execution_count": 14,
   "metadata": {
    "collapsed": false
   },
   "outputs": [
    {
     "name": "stdout",
     "output_type": "stream",
     "text": [
      "total 0\r\n",
      "drwxrwxr-x. 2 u2459 u2459 10 Mar 23  2017 .\r\n",
      "drwxrwxr-x. 3 u2459 u2459 32 Mar 23  2017 ..\r\n"
     ]
    }
   ],
   "source": [
    "!ls -all  \"../resources/SSD_300x300/data/ssd_out/VOC2007/SSD_300x300/\""
   ]
  },
  {
   "cell_type": "code",
   "execution_count": 11,
   "metadata": {
    "collapsed": false
   },
   "outputs": [
    {
     "name": "stdout",
     "output_type": "stream",
     "text": [
      "cat: ../resources/SSD_300x300/data/ssd_out/: Is a directory\r\n"
     ]
    }
   ],
   "source": [
    "!ls \"../resources/SSD_300x300/data/ssd_out/\""
   ]
  },
  {
   "cell_type": "code",
   "execution_count": null,
   "metadata": {
    "collapsed": true
   },
   "outputs": [],
   "source": []
  },
  {
   "cell_type": "code",
   "execution_count": 1,
   "metadata": {
    "collapsed": true
   },
   "outputs": [],
   "source": [
    "import matplotlib.pylab as plt\n",
    "%matplotlib inline"
   ]
  },
  {
   "cell_type": "code",
   "execution_count": 8,
   "metadata": {
    "collapsed": false,
    "scrolled": true
   },
   "outputs": [
    {
     "name": "stdout",
     "output_type": "stream",
     "text": [
      "labels_gray  os_cervix_stats.npz\r\n"
     ]
    }
   ],
   "source": [
    "!ls /home/u2459/Intel_MobileODT/input/generated/"
   ]
  },
  {
   "cell_type": "code",
   "execution_count": null,
   "metadata": {
    "collapsed": true
   },
   "outputs": [],
   "source": []
  },
  {
   "cell_type": "code",
   "execution_count": null,
   "metadata": {
    "collapsed": true
   },
   "outputs": [],
   "source": []
  },
  {
   "cell_type": "code",
   "execution_count": 13,
   "metadata": {
    "collapsed": true
   },
   "outputs": [],
   "source": [
    "!cd /home/u2459/Intel_MobileODT/notebooks/ && rm -rf old"
   ]
  },
  {
   "cell_type": "code",
   "execution_count": null,
   "metadata": {
    "collapsed": true
   },
   "outputs": [],
   "source": []
  },
  {
   "cell_type": "code",
   "execution_count": null,
   "metadata": {
    "collapsed": true
   },
   "outputs": [],
   "source": []
  },
  {
   "cell_type": "code",
   "execution_count": null,
   "metadata": {
    "collapsed": true
   },
   "outputs": [],
   "source": []
  },
  {
   "cell_type": "code",
   "execution_count": 14,
   "metadata": {
    "collapsed": false
   },
   "outputs": [
    {
     "name": "stdout",
     "output_type": "stream",
     "text": [
      "build\t\t data\t     include\t\t      matlab\t tools\r\n",
      "caffe.cloc\t distribute  INSTALL.md\t\t      models\t xbyak\r\n",
      "cmake\t\t docker      LICENSE\t\t      python\r\n",
      "CMakeLists.txt\t docs\t     Makefile\t\t      README.md\r\n",
      "CONTRIBUTING.md  examples    Makefile.config\t      scripts\r\n",
      "CONTRIBUTORS.md  external    Makefile.config.example  src\r\n"
     ]
    }
   ],
   "source": [
    "!ls /opt/caffe-mlsl/"
   ]
  },
  {
   "cell_type": "code",
   "execution_count": null,
   "metadata": {
    "collapsed": true
   },
   "outputs": [],
   "source": []
  },
  {
   "cell_type": "code",
   "execution_count": 16,
   "metadata": {
    "collapsed": false
   },
   "outputs": [
    {
     "name": "stdout",
     "output_type": "stream",
     "text": [
      "--2017-03-22 08:33:02--  http://host.robots.ox.ac.uk/pascal/VOC/voc2012/VOCdevkit_18-May-2011.tar\n",
      "Resolving host.robots.ox.ac.uk (host.robots.ox.ac.uk)... 129.67.94.152\n",
      "Connecting to host.robots.ox.ac.uk (host.robots.ox.ac.uk)|129.67.94.152|:80... connected.\n",
      "HTTP request sent, awaiting response... 200 OK\n",
      "Length: 511488 (500K) [application/x-tar]\n",
      "Saving to: ‘VOCdevkit_18-May-2011.tar’\n",
      "\n",
      "100%[======================================>] 511,488      416KB/s   in 1.2s   \n",
      "\n",
      "2017-03-22 08:33:04 (416 KB/s) - ‘VOCdevkit_18-May-2011.tar’ saved [511488/511488]\n",
      "\n"
     ]
    }
   ],
   "source": [
    "!cd /home/u2459/; wget http://host.robots.ox.ac.uk/pascal/VOC/voc2012/VOCdevkit_18-May-2011.tar"
   ]
  },
  {
   "cell_type": "code",
   "execution_count": 17,
   "metadata": {
    "collapsed": false
   },
   "outputs": [
    {
     "name": "stdout",
     "output_type": "stream",
     "text": [
      "build_opencv\t     interactive_qsub  STDIN.e3535\r\n",
      "DIGITS\t\t     keras_source      STDIN.o3535\r\n",
      "digits_dependencies  opencv\t       test_launch\r\n",
      "digits-jobs\t     opencv_source     test.py\r\n",
      "env.local\t     start_digits.sh   tmp\r\n",
      "Intel_MobileODT      start_digits.sh~  VOCdevkit_18-May-2011.tar\r\n"
     ]
    }
   ],
   "source": [
    "!ls ~/"
   ]
  },
  {
   "cell_type": "code",
   "execution_count": 2,
   "metadata": {
    "collapsed": false
   },
   "outputs": [],
   "source": [
    "#!cd /home/u2459/; tar -xvf /home/u2459/VOCdevkit_18-May-2011.tar"
   ]
  },
  {
   "cell_type": "code",
   "execution_count": 24,
   "metadata": {
    "collapsed": false
   },
   "outputs": [
    {
     "name": "stdout",
     "output_type": "stream",
     "text": [
      "create_segmentations_from_detections.m\texample_detector.m   viewanno.m\r\n",
      "devkit_doc.pdf\t\t\t\texample_layout.m     viewdet.m\r\n",
      "example_action.m\t\t\texample_segmenter.m  VOCcode\r\n",
      "example_action_nobb.m\t\t\tlocal\r\n",
      "example_classifier.m\t\t\tresults\r\n"
     ]
    }
   ],
   "source": [
    "!ls /home/u2459/VOCdevkit/"
   ]
  },
  {
   "cell_type": "code",
   "execution_count": 7,
   "metadata": {
    "collapsed": false
   },
   "outputs": [
    {
     "name": "stdout",
     "output_type": "stream",
     "text": [
      "models/VGGNet/VOC0712/SSD_512x512/\n",
      "models/VGGNet/VOC0712/SSD_512x512/deploy.prototxt\n",
      "models/VGGNet/VOC0712/SSD_512x512/score_ssd_pascal_512.py\n",
      "models/VGGNet/VOC0712/SSD_512x512/solver.prototxt\n",
      "models/VGGNet/VOC0712/SSD_512x512/ssd_pascal_512.py\n",
      "models/VGGNet/VOC0712/SSD_512x512/test.prototxt\n",
      "models/VGGNet/VOC0712/SSD_512x512/train.prototxt\n",
      "models/VGGNet/VOC0712/SSD_512x512/VGG_VOC0712_SSD_512x512_iter_120000.caffemodel\n"
     ]
    }
   ],
   "source": [
    "# !cd /home/u2459/Intel_MobileODT/resources/; tar -xvf /home/u2459/Intel_MobileODT/resources/models_VGGNet_VOC0712_SSD_512x512.tar.gz"
   ]
  },
  {
   "cell_type": "code",
   "execution_count": 21,
   "metadata": {
    "collapsed": false
   },
   "outputs": [
    {
     "name": "stdout",
     "output_type": "stream",
     "text": [
      "total 4\r\n",
      "drwxrwxr-x. 2 u2459 u2459   10 Mar 22  2017 .\r\n",
      "drwxrwxr-x. 6 u2459 u2459 4096 Mar 22  2017 ..\r\n"
     ]
    }
   ],
   "source": [
    "!ls -all /home/u2459/Intel_MobileODT/resources/models/"
   ]
  },
  {
   "cell_type": "code",
   "execution_count": 19,
   "metadata": {
    "collapsed": false
   },
   "outputs": [
    {
     "name": "stdout",
     "output_type": "stream",
     "text": [
      "rm: cannot remove ‘home/u2459/Intel_MobileODT/resources/models/’: No such file or directory\r\n"
     ]
    }
   ],
   "source": []
  },
  {
   "cell_type": "code",
   "execution_count": 1,
   "metadata": {
    "collapsed": true
   },
   "outputs": [],
   "source": [
    "!cp /opt/caffe-mlsl/scripts/create_annoset.py /home/u2459/Intel_MobileODT/tmp/"
   ]
  },
  {
   "cell_type": "code",
   "execution_count": null,
   "metadata": {
    "collapsed": true
   },
   "outputs": [],
   "source": []
  },
  {
   "cell_type": "code",
   "execution_count": null,
   "metadata": {
    "collapsed": true
   },
   "outputs": [],
   "source": []
  },
  {
   "cell_type": "code",
   "execution_count": null,
   "metadata": {
    "collapsed": true
   },
   "outputs": [],
   "source": []
  },
  {
   "cell_type": "code",
   "execution_count": 18,
   "metadata": {
    "collapsed": false
   },
   "outputs": [
    {
     "name": "stdout",
     "output_type": "stream",
     "text": [
      "total 36\n",
      "drwxrwxr-x.  3 u2459 u2459 4096 Mar 23  2017 .\n",
      "drwx------. 24 u2459 u2459 4096 Mar 23  2017 ..\n",
      "-rw-rw-r--.  1 u2459 u2459 1014 Mar 15 17:45 device_test.py\n",
      "-rw-rw-r--.  1 u2459 u2459    0 Mar 23  2017 hello_world_on_nodes.cc\n",
      "drwxr-xr-x.  2 u2459 u2459   42 Mar 20 12:12 .ipynb_checkpoints\n",
      "-rw-rw-r--.  1 u2459 u2459  654 Mar 20 10:16 mpi-test.py\n",
      "-rw-rw-r--.  1 u2459 u2459 2474 Mar 20 12:54 qsub.ipynb\n",
      "-rw-------.  1 u2459 u2459   75 Mar 20 09:17 STDIN.e3762\n",
      "-rw-------.  1 u2459 u2459  163 Mar 20 09:17 STDIN.e3763\n",
      "-rw-------.  1 u2459 u2459  634 Mar 20 09:17 STDIN.o3762\n",
      "-rw-------.  1 u2459 u2459  634 Mar 20 09:18 STDIN.o3763\n",
      "/usr/lib/gcc/x86_64-redhat-linux/4.8.5/../../../../lib64/crt1.o: In function `_start':\n",
      "(.text+0x20): undefined reference to `main'\n"
     ]
    }
   ],
   "source": [
    "!cd /home/u2459/tmp && ls -all && mpiicpc -o /home/u2459/tmp/hello_world_on_nodes.o /home/u2459/tmp/hello_world_on_nodes.cc"
   ]
  },
  {
   "cell_type": "code",
   "execution_count": 6,
   "metadata": {
    "collapsed": false
   },
   "outputs": [
    {
     "name": "stdout",
     "output_type": "stream",
     "text": [
      "Error: Command line argument is needed!\r\n",
      "Simple script to compile and/or link MPI programs.\r\n",
      "Usage: mpiicpc [options] <files>\r\n",
      "----------------------------------------------------------------------------\r\n",
      "The following options are supported:\r\n",
      "   -cxx=<name>     specify a C++ compiler name: i.e. -cxx=icpc\r\n",
      "   -echo           print the scripts during their execution\r\n",
      "   -show           show command lines without real calling\r\n",
      "   -config=<name>  specify a configuration file: i.e. -config=icpc for mpicc-icpc.conf file\r\n",
      "   -v              print version info of mpiicpc and its native compiler\r\n",
      "   -profile=<name> specify a profile configuration file (an MPI profiling\r\n",
      "                   library): i.e. -profile=myprofile for the myprofile.cfg file.\r\n",
      "                   As a special case, lib<name>.so or lib<name>.a may be used\r\n",
      "                   if the library is found\r\n",
      "   -check_mpi      link against the Intel(R) Trace Collector (-profile=vtmc).\r\n",
      "   -static_mpi     link the Intel(R) MPI Library statically\r\n",
      "   -mt_mpi         link the thread safe version of the Intel(R) MPI Library\r\n",
      "   -ilp64          link the ILP64 support of the Intel(R) MPI Library\r\n",
      "   -fast           the same as -static_mpi + pass -fast option to a compiler\r\n",
      "   -t or -trace\r\n",
      "                   link against the Intel(R) Trace Collector\r\n",
      "   -trace-imbalance\r\n",
      "                   link against the Intel(R) Trace Collector imbalance library\r\n",
      "                   (-profile=vtim)\r\n",
      "   -static         use static linkage method\r\n",
      "   -nostrip        turn off the debug information stripping during static linking\r\n",
      "   -dynamic_log    link against the Intel(R) Trace Collector dynamically\r\n",
      "   -O              enable optimization\r\n",
      "   -link_mpi=<name>\r\n",
      "                   link against the specified version of the Intel(R) MPI Library\r\n",
      "All other options will be passed to the compiler without changing.\r\n",
      "----------------------------------------------------------------------------\r\n",
      "The following environment variables are used:\r\n",
      "   I_MPI_ROOT      the Intel(R) MPI Library installation directory path\r\n",
      "   I_MPI_CXX or MPICH_CXX\r\n",
      "                   the path/name of the underlying compiler to be used\r\n",
      "   I_MPI_CXX_PROFILE or MPICXX_PROFILE\r\n",
      "                   the name of profile file (without extension)\r\n",
      "   I_MPI_COMPILER_CONFIG_DIR\r\n",
      "                   the folder which contains configuration files *.conf\r\n",
      "   I_MPI_TRACE_PROFILE\r\n",
      "                   specify a default profile for the -trace option\r\n",
      "   I_MPI_CHECK_PROFILE\r\n",
      "                   specify a default profile for the -check_mpi option\r\n",
      "   I_MPI_CHECK_COMPILER\r\n",
      "                   enable compiler setup checks\r\n",
      "   I_MPI_LINK      specify the version of the Intel(R) MPI Library\r\n",
      "   I_MPI_DEBUG_INFO_STRIP\r\n",
      "                   turn on/off the debug information stripping during static linking\r\n",
      "----------------------------------------------------------------------------\r\n"
     ]
    }
   ],
   "source": [
    "!mpiicpc"
   ]
  },
  {
   "cell_type": "code",
   "execution_count": 1,
   "metadata": {
    "collapsed": false
   },
   "outputs": [
    {
     "name": "stdout",
     "output_type": "stream",
     "text": [
      "/opt/intel/compilers_and_libraries_2017.2.174/linux/mkl\r\n"
     ]
    }
   ],
   "source": [
    "!echo $MKLROOT"
   ]
  },
  {
   "cell_type": "code",
   "execution_count": 2,
   "metadata": {
    "collapsed": false
   },
   "outputs": [
    {
     "name": "stdout",
     "output_type": "stream",
     "text": [
      "ls: cannot access /opt/intel/compilers_and_libraries_2016.3.170/: No such file or directory\r\n"
     ]
    }
   ],
   "source": [
    "!ls /opt/intel/compilers_and_libraries_2017.2.174/linux/mkl/"
   ]
  },
  {
   "cell_type": "code",
   "execution_count": null,
   "metadata": {
    "collapsed": true
   },
   "outputs": [],
   "source": []
  },
  {
   "cell_type": "code",
   "execution_count": null,
   "metadata": {
    "collapsed": true
   },
   "outputs": [],
   "source": []
  },
  {
   "cell_type": "code",
   "execution_count": 15,
   "metadata": {
    "collapsed": true
   },
   "outputs": [],
   "source": [
    "!cp -R /home/u2459/Intel_MobileODT/common/preprocessing/ /home/u2459/keras-contrib/keras_contrib/"
   ]
  },
  {
   "cell_type": "code",
   "execution_count": null,
   "metadata": {
    "collapsed": true
   },
   "outputs": [],
   "source": []
  },
  {
   "cell_type": "code",
   "execution_count": null,
   "metadata": {
    "collapsed": true
   },
   "outputs": [],
   "source": []
  },
  {
   "cell_type": "code",
   "execution_count": null,
   "metadata": {
    "collapsed": true
   },
   "outputs": [],
   "source": []
  },
  {
   "cell_type": "code",
   "execution_count": 16,
   "metadata": {
    "collapsed": false
   },
   "outputs": [
    {
     "name": "stdout",
     "output_type": "stream",
     "text": [
      "# On branch master\r\n",
      "# Changes not staged for commit:\r\n",
      "#   (use \"git add <file>...\" to update what will be committed)\r\n",
      "#   (use \"git checkout -- <file>...\" to discard changes in working directory)\r\n",
      "#\r\n",
      "#\tmodified:   keras_contrib/preprocessing/image/generators.py\r\n",
      "#\tmodified:   keras_contrib/preprocessing/image/iterators.py\r\n",
      "#\r\n",
      "no changes added to commit (use \"git add\" and/or \"git commit -a\")\r\n"
     ]
    }
   ],
   "source": [
    "!cd /home/u2459/keras-contrib/ && git status"
   ]
  },
  {
   "cell_type": "code",
   "execution_count": null,
   "metadata": {
    "collapsed": true
   },
   "outputs": [],
   "source": []
  },
  {
   "cell_type": "code",
   "execution_count": 25,
   "metadata": {
    "collapsed": false
   },
   "outputs": [],
   "source": [
    "!rm -rf /home/u2459/Intel_MobileODT/input/generated/annotated_images/"
   ]
  },
  {
   "cell_type": "code",
   "execution_count": null,
   "metadata": {
    "collapsed": true
   },
   "outputs": [],
   "source": []
  }
 ],
 "metadata": {
  "kernelspec": {
   "display_name": "Python 2",
   "language": "python",
   "name": "python2"
  },
  "language_info": {
   "codemirror_mode": {
    "name": "ipython",
    "version": 2
   },
   "file_extension": ".py",
   "mimetype": "text/x-python",
   "name": "python",
   "nbconvert_exporter": "python",
   "pygments_lexer": "ipython2",
   "version": "2.7.12"
  }
 },
 "nbformat": 4,
 "nbformat_minor": 1
}
