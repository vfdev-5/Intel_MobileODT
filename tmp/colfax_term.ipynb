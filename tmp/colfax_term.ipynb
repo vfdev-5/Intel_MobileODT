{
 "cells": [
  {
   "cell_type": "markdown",
   "metadata": {},
   "source": [
    "Various cmd used on Colfax"
   ]
  },
  {
   "cell_type": "code",
   "execution_count": 15,
   "metadata": {
    "collapsed": false
   },
   "outputs": [],
   "source": [
    "# !ln -s /data/kaggle_3.27/additional/Type_3_v2/ /home/u2459/Intel_MobileODT/input/additional/Type_3"
   ]
  },
  {
   "cell_type": "code",
   "execution_count": 20,
   "metadata": {
    "collapsed": false
   },
   "outputs": [
    {
     "name": "stdout",
     "output_type": "stream",
     "text": [
      "[global]\r\n",
      "device = cpu\r\n",
      "floatX = float32\r\n",
      "cxx = icpc\r\n",
      "mode = FAST_RUN\r\n",
      "openmp = True\r\n",
      "openmp_elemwise_minsize = 10\r\n",
      "allow_gc = False\r\n",
      "[dnn]\r\n",
      "enabled = mkl\r\n",
      "[gcc]\r\n",
      "cxxflags = -qopenmp -march=native -O3  -qopt-report=3 -fno-alias -qopt-prefetch=2 -fp-trap=none\r\n",
      "[blas]\r\n",
      "ldflags = -lmkl_rt\r\n"
     ]
    }
   ],
   "source": [
    "!cat /opt/theano/theanorc_icc_mkl"
   ]
  },
  {
   "cell_type": "code",
   "execution_count": 19,
   "metadata": {
    "collapsed": false
   },
   "outputs": [
    {
     "name": "stdout",
     "output_type": "stream",
     "text": [
      "[global]\r\n",
      "device = cpu\r\n",
      "floatX = float32\r\n",
      "cxx = g++\r\n",
      "mode = FAST_RUN\r\n",
      "openmp = True\r\n",
      "openmp_elemwise_minsize = 10\r\n",
      "allow_gc = False\r\n",
      "[gcc]\r\n",
      "cxxflags = -fopenmp -O3 -opt-prefetch=2 -funroll-loops\r\n",
      "[blas]\r\n",
      "ldflags = -lmkl_rt\r\n"
     ]
    }
   ],
   "source": [
    "#!ls -all ~/\n",
    "!cat ~/.theanorc"
   ]
  },
  {
   "cell_type": "code",
   "execution_count": 17,
   "metadata": {
    "collapsed": false
   },
   "outputs": [
    {
     "name": "stdout",
     "output_type": "stream",
     "text": [
      "total 0\r\n",
      "drwxrwxr-x. 2 u2459 u2459 61 Apr 26  2017 .\r\n",
      "drwxrwxr-x. 4 u2459 u2459 82 Apr 26  2017 ..\r\n",
      "lrwxrwxrwx. 1 u2459 u2459 39 Apr 26  2017 Type_1 -> /data/kaggle_3.27/additional/Type_1_v2/\r\n",
      "lrwxrwxrwx. 1 u2459 u2459 39 Apr 26  2017 Type_2 -> /data/kaggle_3.27/additional/Type_2_v2/\r\n",
      "lrwxrwxrwx. 1 u2459 u2459 39 Apr 26  2017 Type_3 -> /data/kaggle_3.27/additional/Type_3_v2/\r\n"
     ]
    }
   ],
   "source": [
    "!ls -all /home/u2459/Intel_MobileODT/input/additional/"
   ]
  },
  {
   "cell_type": "code",
   "execution_count": 5,
   "metadata": {
    "collapsed": false
   },
   "outputs": [
    {
     "name": "stdout",
     "output_type": "stream",
     "text": [
      "Get DetectNet ...\n",
      "-- network file\n",
      "--2017-03-22 06:24:42--  https://raw.githubusercontent.com/NVIDIA/caffe/caffe-0.15/examples/kitti/detectnet_network.prototxt\n",
      "Resolving raw.githubusercontent.com (raw.githubusercontent.com)... 151.101.192.133, 151.101.64.133, 151.101.128.133, ...\n",
      "Connecting to raw.githubusercontent.com (raw.githubusercontent.com)|151.101.192.133|:443... connected.\n",
      "HTTP request sent, awaiting response... 200 OK\n",
      "Length: 42929 (42K) [text/plain]\n",
      "Saving to: ‘detectnet_network.prototxt.1’\n",
      "\n",
      "100%[======================================>] 42,929      --.-K/s   in 0.008s  \n",
      "\n",
      "2017-03-22 06:24:42 (5.20 MB/s) - ‘detectnet_network.prototxt.1’ saved [42929/42929]\n",
      "\n",
      "-- model weights - GoogleNet\n",
      "--2017-03-22 06:24:42--  http://dl.caffe.berkeleyvision.org/bvlc_googlenet.caffemodel\n",
      "Resolving dl.caffe.berkeleyvision.org (dl.caffe.berkeleyvision.org)... 169.229.222.251\n",
      "Connecting to dl.caffe.berkeleyvision.org (dl.caffe.berkeleyvision.org)|169.229.222.251|:80... connected.\n",
      "HTTP request sent, awaiting response... 200 OK\n",
      "Length: 53533754 (51M) [application/octet-stream]\n",
      "Saving to: ‘bvlc_googlenet.caffemodel’\n",
      "\n",
      "100%[======================================>] 53,533,754  10.7MB/s   in 4.7s   \n",
      "\n",
      "2017-03-22 06:24:50 (10.8 MB/s) - ‘bvlc_googlenet.caffemodel’ saved [53533754/53533754]\n",
      "\n"
     ]
    }
   ],
   "source": [
    "!cd /home/u2459/Intel_MobileODT/resources/ ; sh get_detectnet.sh"
   ]
  },
  {
   "cell_type": "code",
   "execution_count": 8,
   "metadata": {
    "collapsed": false
   },
   "outputs": [
    {
     "name": "stdout",
     "output_type": "stream",
     "text": [
      "-rw-rw-r--. 1 u2459 u2459 53533754 Dec 18  2014 /home/u2459/Intel_MobileODT/resources/bvlc_googlenet.caffemodel\r\n"
     ]
    }
   ],
   "source": [
    "!ls -all /home/u2459/Intel_MobileODT/resources/bvlc_googlenet.caffemodel"
   ]
  },
  {
   "cell_type": "code",
   "execution_count": null,
   "metadata": {
    "collapsed": true
   },
   "outputs": [],
   "source": []
  },
  {
   "cell_type": "code",
   "execution_count": 12,
   "metadata": {
    "collapsed": false
   },
   "outputs": [
    {
     "name": "stdout",
     "output_type": "stream",
     "text": [
      "Job ID                    Name             User            Time Use S Queue\r\n",
      "------------------------- ---------------- --------------- -------- - -----\r\n",
      "4689.c001                  ..._os_detection u2459           02:22:42 R batch          \r\n"
     ]
    }
   ],
   "source": [
    "!qstat"
   ]
  },
  {
   "cell_type": "code",
   "execution_count": null,
   "metadata": {
    "collapsed": true
   },
   "outputs": [],
   "source": []
  },
  {
   "cell_type": "code",
   "execution_count": 19,
   "metadata": {
    "collapsed": true
   },
   "outputs": [],
   "source": [
    "!qdel 4232"
   ]
  },
  {
   "cell_type": "code",
   "execution_count": 14,
   "metadata": {
    "collapsed": false
   },
   "outputs": [
    {
     "name": "stdout",
     "output_type": "stream",
     "text": [
      "total 0\r\n",
      "drwxrwxr-x. 2 u2459 u2459 10 Mar 23  2017 .\r\n",
      "drwxrwxr-x. 3 u2459 u2459 32 Mar 23  2017 ..\r\n"
     ]
    }
   ],
   "source": [
    "!ls -all  \"../resources/SSD_300x300/data/ssd_out/VOC2007/SSD_300x300/\""
   ]
  },
  {
   "cell_type": "code",
   "execution_count": 11,
   "metadata": {
    "collapsed": false
   },
   "outputs": [
    {
     "name": "stdout",
     "output_type": "stream",
     "text": [
      "cat: ../resources/SSD_300x300/data/ssd_out/: Is a directory\r\n"
     ]
    }
   ],
   "source": [
    "!ls \"../resources/SSD_300x300/data/ssd_out/\""
   ]
  },
  {
   "cell_type": "code",
   "execution_count": null,
   "metadata": {
    "collapsed": true
   },
   "outputs": [],
   "source": []
  },
  {
   "cell_type": "code",
   "execution_count": 1,
   "metadata": {
    "collapsed": true
   },
   "outputs": [],
   "source": [
    "import matplotlib.pylab as plt\n",
    "%matplotlib inline"
   ]
  },
  {
   "cell_type": "code",
   "execution_count": 29,
   "metadata": {
    "collapsed": false,
    "scrolled": true
   },
   "outputs": [
    {
     "name": "stdout",
     "output_type": "stream",
     "text": [
      "total 8\r\n",
      "drwxrwxr-x.  3 u2459 u2459   30 Mar 30  2017 .\r\n",
      "drwxrwxr-x. 11 u2459 u2459 4096 Mar 22 07:16 ..\r\n",
      "drwxrwxr-x.  6 u2459 u2459 4096 Mar 30  2017 generated\r\n"
     ]
    }
   ],
   "source": [
    "!ls -all /home/u2459/Intel_MobileODT/input/"
   ]
  },
  {
   "cell_type": "code",
   "execution_count": 28,
   "metadata": {
    "collapsed": true
   },
   "outputs": [],
   "source": [
    "!rm /home/u2459/Intel_MobileODT/input/train"
   ]
  },
  {
   "cell_type": "code",
   "execution_count": 5,
   "metadata": {
    "collapsed": true
   },
   "outputs": [],
   "source": [
    "!cd /home/u2459/Intel_MobileODT/notebooks/"
   ]
  },
  {
   "cell_type": "code",
   "execution_count": null,
   "metadata": {
    "collapsed": true
   },
   "outputs": [],
   "source": []
  },
  {
   "cell_type": "code",
   "execution_count": 3,
   "metadata": {
    "collapsed": false
   },
   "outputs": [
    {
     "name": "stdout",
     "output_type": "stream",
     "text": [
      "Job ID                    Name             User            Time Use S Queue\r\n",
      "------------------------- ---------------- --------------- -------- - -----\r\n",
      "4808.c001                  ...ask_generator u2459           00:00:08 R batch          \r\n"
     ]
    }
   ],
   "source": [
    "!qstat"
   ]
  },
  {
   "cell_type": "code",
   "execution_count": null,
   "metadata": {
    "collapsed": true
   },
   "outputs": [],
   "source": []
  },
  {
   "cell_type": "code",
   "execution_count": null,
   "metadata": {
    "collapsed": true
   },
   "outputs": [],
   "source": []
  },
  {
   "cell_type": "code",
   "execution_count": 1,
   "metadata": {
    "collapsed": false
   },
   "outputs": [
    {
     "name": "stdout",
     "output_type": "stream",
     "text": [
      "total 92\r\n",
      "drwxr-xr-x. 5 root root 16384 Mar 27 21:16 .\r\n",
      "drwxr-xr-x. 4 root root  4096 Mar 28 13:58 ..\r\n",
      "drwxr-xr-x. 5 root root  4096 Mar 15 15:47 additional\r\n",
      "-rw-r--r--. 1 root root 33202 Mar  9 16:38 sample_submission.csv\r\n",
      "drwxr-xr-x. 2 root root 16384 Mar  8 14:37 test\r\n",
      "drwxr-xr-x. 5 root root 16384 Mar 15 15:47 train\r\n"
     ]
    }
   ],
   "source": [
    "!ls -all /data/kaggle"
   ]
  },
  {
   "cell_type": "code",
   "execution_count": 2,
   "metadata": {
    "collapsed": false
   },
   "outputs": [
    {
     "name": "stdout",
     "output_type": "stream",
     "text": [
      "total 27186284\r\n",
      "drwxr-xr-x. 6 root root        4096 Mar 30 10:04 .\r\n",
      "drwxr-xr-x. 4 root root        4096 Mar 28 13:58 ..\r\n",
      "-rw-r--r--. 1 root root  4545076026 Mar 27 15:30 additional_Type_1.7z\r\n",
      "-rw-r--r--. 1 root root 15871727173 Mar 27 16:11 additional_Type_2.7z\r\n",
      "-rw-r--r--. 1 root root  7421705239 Mar 27 15:38 additional_Type_3.7z\r\n",
      "-rw-r--r--. 1 root root       42538 Mar 27 14:38 fixed_labels.csv\r\n",
      "-rw-r--r--. 1 root root        4505 Mar 27 14:38 removed_files.csv\r\n",
      "drwxr-xr-x. 2 root root        4096 Mar 30 10:04 test\r\n",
      "drwxr-xr-x. 2 root root       32768 Mar 27 14:35 Type_1\r\n",
      "drwxr-xr-x. 2 root root       73728 Mar 27 14:35 Type_2\r\n",
      "drwxr-xr-x. 2 root root       49152 Mar 27 14:35 Type_3\r\n"
     ]
    }
   ],
   "source": [
    "!ls -all /data/kaggle_3.27/"
   ]
  },
  {
   "cell_type": "code",
   "execution_count": 4,
   "metadata": {
    "collapsed": false,
    "scrolled": true
   },
   "outputs": [
    {
     "name": "stdout",
     "output_type": "stream",
     "text": [
      "filename,old_label,new_label\r\n",
      "1015.jpg,Type_3,remove\r\n",
      "1018.jpg,Type_2,remove\r\n",
      "1028.jpg,Type_1,remove\r\n",
      "1042.jpg,Type_2,remove\r\n",
      "1090.jpg,Type_3,remove\r\n",
      "1094.jpg,Type_2,remove\r\n",
      "114.jpg,Type_2,remove\r\n",
      "1175.jpg,Type_2,remove\r\n",
      "1186.jpg,Type_2,remove\r\n",
      "1205.jpg,Type_3,remove\r\n",
      "1220.jpg,Type_2,remove\r\n",
      "1252.jpg,Type_3,remove\r\n",
      "1261.jpg,Type_3,remove\r\n",
      "128.jpg,Type_2,remove\r\n",
      "1285.jpg,Type_3,remove\r\n",
      "1295.jpg,Type_3,remove\r\n",
      "1319.jpg,Type_2,remove\r\n",
      "1331.jpg,Type_2,remove\r\n",
      "1347.jpg,Type_2,remove\r\n",
      "136.jpg,Type_2,remove\r\n",
      "1444.jpg,Type_3,remove\r\n",
      "145.jpg,Type_3,remove\r\n",
      "1468.jpg,Type_2,remove\r\n",
      "1479.jpg,Type_3,remove\r\n",
      "1490.jpg,Type_3,remove\r\n",
      "1509.jpg,Type_3,remove\r\n",
      "1510.jpg,Type_2,remove\r\n",
      "1537.jpg,Type_2,remove\r\n",
      "1550.jpg,Type_1,remove\r\n",
      "1551.jpg,Type_3,remove\r\n",
      "1563.jpg,Type_3,remove\r\n",
      "1575.jpg,Type_3,remove\r\n",
      "1600.jpg,Type_1,remove\r\n",
      "1605.jpg,Type_2,remove\r\n",
      "1638.jpg,Type_2,remove\r\n",
      "1668.jpg,Type_3,remove\r\n",
      "1702.jpg,Type_1,remove\r\n",
      "1739.jpg,Type_3,remove\r\n",
      "1762.jpg,Type_3,remove\r\n",
      "1794.jpg,Type_2,remove\r\n",
      "1799.jpg,Type_2,remove\r\n",
      "1822.jpg,Type_3,remove\r\n",
      "1825.jpg,Type_1,remove\r\n",
      "1835.jpg,Type_2,remove\r\n",
      "1843.jpg,Type_2,remove\r\n",
      "1844.jpg,Type_3,remove\r\n",
      "1850.jpg,Type_1,remove\r\n",
      "1854.jpg,Type_3,remove\r\n",
      "1856.jpg,Type_3,remove\r\n",
      "186.jpg,Type_2,remove\r\n",
      "1861.jpg,Type_2,remove\r\n",
      "1865.jpg,Type_3,remove\r\n",
      "1876.jpg,Type_1,remove\r\n",
      "1913.jpg,Type_2,remove\r\n",
      "1914.jpg,Type_3,remove\r\n",
      "1916.jpg,Type_1,remove\r\n",
      "1952.jpg,Type_3,remove\r\n",
      "199.jpg,Type_3,remove\r\n",
      "2006.jpg,Type_3,remove\r\n",
      "2010.jpg,Type_2,remove\r\n",
      "2047.jpg,Type_1,remove\r\n",
      "2060.jpg,Type_3,remove\r\n",
      "2064.jpg,Type_3,remove\r\n",
      "2071.jpg,Type_1,remove\r\n",
      "2151.jpg,Type_1,remove\r\n",
      "2163.jpg,Type_2,remove\r\n",
      "2177.jpg,Type_2,remove\r\n",
      "2185.jpg,Type_3,remove\r\n",
      "2189.jpg,Type_3,remove\r\n",
      "2195.jpg,Type_2,remove\r\n",
      "2218.jpg,Type_2,remove\r\n",
      "2233.jpg,Type_3,remove\r\n",
      "2240.jpg,Type_2,remove\r\n",
      "2273.jpg,Type_2,remove\r\n",
      "2320.jpg,Type_1,remove\r\n",
      "238.jpg,Type_2,remove\r\n",
      "2400.jpg,Type_3,remove\r\n",
      "2414.jpg,Type_1,remove\r\n",
      "2452.jpg,Type_1,remove\r\n",
      "247.jpg,Type_1,remove\r\n",
      "248.jpg,Type_2,remove\r\n",
      "2491.jpg,Type_3,remove\r\n",
      "2511.jpg,Type_3,remove\r\n",
      "253.jpg,Type_3,remove\r\n",
      "2538.jpg,Type_2,remove\r\n",
      "2559.jpg,Type_3,remove\r\n",
      "2562.jpg,Type_2,remove\r\n",
      "2581.jpg,Type_2,remove\r\n",
      "259.jpg,Type_2,remove\r\n",
      "2592.jpg,Type_3,remove\r\n",
      "2610.jpg,Type_2,remove\r\n",
      "2613.jpg,Type_3,remove\r\n",
      "2618.jpg,Type_2,remove\r\n",
      "2619.jpg,Type_3,remove\r\n",
      "2627.jpg,Type_2,remove\r\n",
      "2655.jpg,Type_2,remove\r\n",
      "2663.jpg,Type_2,remove\r\n",
      "2685.jpg,Type_2,remove\r\n",
      "2744.jpg,Type_2,remove\r\n",
      "2759.jpg,Type_2,remove\r\n",
      "2791.jpg,Type_2,remove\r\n",
      "285.jpg,Type_3,remove\r\n",
      "286.jpg,Type_2,remove\r\n",
      "2860.jpg,Type_2,remove\r\n",
      "2881.jpg,Type_2,remove\r\n",
      "2914.jpg,Type_3,remove\r\n",
      "2937.jpg,Type_2,remove\r\n",
      "2993.jpg,Type_1,remove\r\n",
      "2998.jpg,Type_3,remove\r\n",
      "3017.jpg,Type_2,remove\r\n",
      "3018.jpg,Type_2,remove\r\n",
      "302.jpg,Type_2,remove\r\n",
      "304.jpg,Type_3,remove\r\n",
      "3052.jpg,Type_3,remove\r\n",
      "3119.jpg,Type_3,remove\r\n",
      "316.jpg,Type_2,remove\r\n",
      "3172.jpg,Type_2,remove\r\n",
      "3204.jpg,Type_2,remove\r\n",
      "3210.jpg,Type_2,remove\r\n",
      "323.jpg,Type_3,remove\r\n",
      "3293.jpg,Type_2,remove\r\n",
      "3300.jpg,Type_1,remove\r\n",
      "3350.jpg,Type_2,remove\r\n",
      "3355.jpg,Type_1,remove\r\n",
      "34.jpg,Type_1,remove\r\n",
      "343.jpg,Type_2,remove\r\n",
      "3470.jpg,Type_2,remove\r\n",
      "3486.jpg,Type_3,remove\r\n",
      "3489.jpg,Type_2,remove\r\n",
      "351.jpg,Type_2,remove\r\n",
      "3592.jpg,Type_1,remove\r\n",
      "3597.jpg,Type_2,remove\r\n",
      "3614.jpg,Type_1,remove\r\n",
      "3615.jpg,Type_2,remove\r\n",
      "3640.jpg,Type_2,remove\r\n",
      "3651.jpg,Type_1,remove\r\n",
      "3662.jpg,Type_1,remove\r\n",
      "368.jpg,Type_3,remove\r\n",
      "3692.jpg,Type_3,remove\r\n",
      "3722.jpg,Type_3,remove\r\n",
      "3766.jpg,Type_3,remove\r\n",
      "3767.jpg,Type_2,remove\r\n",
      "3783.jpg,Type_1,remove\r\n",
      "3849.jpg,Type_3,remove\r\n",
      "3856.jpg,Type_3,remove\r\n",
      "3881.jpg,Type_2,remove\r\n",
      "3882.jpg,Type_2,remove\r\n",
      "389.jpg,Type_1,remove\r\n",
      "3897.jpg,Type_1,remove\r\n",
      "3899.jpg,Type_2,remove\r\n",
      "412.jpg,Type_2,remove\r\n",
      "423.jpg,Type_3,remove\r\n",
      "448.jpg,Type_2,remove\r\n",
      "452.jpg,Type_3,remove\r\n",
      "461.jpg,Type_1,remove\r\n",
      "462.jpg,Type_3,remove\r\n",
      "474.jpg,Type_2,remove\r\n",
      "502.jpg,Type_2,remove\r\n",
      "609.jpg,Type_3,remove\r\n",
      "610.jpg,Type_1,remove\r\n",
      "614.jpg,Type_3,remove\r\n",
      "6574.jpg,Type_1,remove\r\n",
      "6575.jpg,Type_1,remove\r\n",
      "6576.jpg,Type_1,remove\r\n",
      "664.jpg,Type_2,remove\r\n",
      "670.jpg,Type_1,remove\r\n",
      "671.jpg,Type_2,remove\r\n",
      "6719.jpg,Type_3,remove\r\n",
      "6720.jpg,Type_3,remove\r\n",
      "6721.jpg,Type_3,remove\r\n",
      "6722.jpg,Type_3,remove\r\n",
      "6761.jpg,Type_3,remove\r\n",
      "68.jpg,Type_2,remove\r\n",
      "6818.jpg,Type_3,remove\r\n",
      "682.jpg,Type_3,remove\r\n",
      "6821.jpg,Type_3,remove\r\n",
      "6821.jpg,Type_3,remove\r\n",
      "6875.jpg,Type_3,remove\r\n",
      "6876.jpg,Type_3,remove\r\n",
      "6877.jpg,Type_3,remove\r\n",
      "6878.jpg,Type_3,remove\r\n",
      "6890.jpg,Type_2,remove\r\n",
      "6903.jpg,Type_1,remove\r\n",
      "702.jpg,Type_3,remove\r\n",
      "708.jpg,Type_3,remove\r\n",
      "713.jpg,Type_2,remove\r\n",
      "734.jpg,Type_2,remove\r\n",
      "811.jpg,Type_2,remove\r\n",
      "821.jpg,Type_3,remove\r\n",
      "859.jpg,Type_2,remove\r\n",
      "871.jpg,Type_1,remove\r\n",
      "875.jpg,Type_3,remove\r\n",
      "880.jpg,Type_3,remove\r\n",
      "959.jpg,Type_2,remove\r\n",
      "978.jpg,Type_3,remove\r\n",
      "98.jpg,Type_3,remove\r\n",
      "989.jpg,Type_2,remove\r\n"
     ]
    }
   ],
   "source": [
    "!cat /data/kaggle_3.27/removed_files.csv"
   ]
  },
  {
   "cell_type": "code",
   "execution_count": null,
   "metadata": {
    "collapsed": true
   },
   "outputs": [],
   "source": []
  },
  {
   "cell_type": "code",
   "execution_count": null,
   "metadata": {
    "collapsed": true
   },
   "outputs": [],
   "source": []
  },
  {
   "cell_type": "code",
   "execution_count": null,
   "metadata": {
    "collapsed": true
   },
   "outputs": [],
   "source": []
  },
  {
   "cell_type": "code",
   "execution_count": 14,
   "metadata": {
    "collapsed": false
   },
   "outputs": [
    {
     "name": "stdout",
     "output_type": "stream",
     "text": [
      "build\t\t data\t     include\t\t      matlab\t tools\r\n",
      "caffe.cloc\t distribute  INSTALL.md\t\t      models\t xbyak\r\n",
      "cmake\t\t docker      LICENSE\t\t      python\r\n",
      "CMakeLists.txt\t docs\t     Makefile\t\t      README.md\r\n",
      "CONTRIBUTING.md  examples    Makefile.config\t      scripts\r\n",
      "CONTRIBUTORS.md  external    Makefile.config.example  src\r\n"
     ]
    }
   ],
   "source": [
    "!ls /opt/caffe-mlsl/"
   ]
  },
  {
   "cell_type": "code",
   "execution_count": null,
   "metadata": {
    "collapsed": true
   },
   "outputs": [],
   "source": []
  },
  {
   "cell_type": "code",
   "execution_count": 16,
   "metadata": {
    "collapsed": false
   },
   "outputs": [
    {
     "name": "stdout",
     "output_type": "stream",
     "text": [
      "--2017-03-22 08:33:02--  http://host.robots.ox.ac.uk/pascal/VOC/voc2012/VOCdevkit_18-May-2011.tar\n",
      "Resolving host.robots.ox.ac.uk (host.robots.ox.ac.uk)... 129.67.94.152\n",
      "Connecting to host.robots.ox.ac.uk (host.robots.ox.ac.uk)|129.67.94.152|:80... connected.\n",
      "HTTP request sent, awaiting response... 200 OK\n",
      "Length: 511488 (500K) [application/x-tar]\n",
      "Saving to: ‘VOCdevkit_18-May-2011.tar’\n",
      "\n",
      "100%[======================================>] 511,488      416KB/s   in 1.2s   \n",
      "\n",
      "2017-03-22 08:33:04 (416 KB/s) - ‘VOCdevkit_18-May-2011.tar’ saved [511488/511488]\n",
      "\n"
     ]
    }
   ],
   "source": [
    "!cd /home/u2459/; wget http://host.robots.ox.ac.uk/pascal/VOC/voc2012/VOCdevkit_18-May-2011.tar"
   ]
  },
  {
   "cell_type": "code",
   "execution_count": 17,
   "metadata": {
    "collapsed": false
   },
   "outputs": [
    {
     "name": "stdout",
     "output_type": "stream",
     "text": [
      "build_opencv\t     interactive_qsub  STDIN.e3535\r\n",
      "DIGITS\t\t     keras_source      STDIN.o3535\r\n",
      "digits_dependencies  opencv\t       test_launch\r\n",
      "digits-jobs\t     opencv_source     test.py\r\n",
      "env.local\t     start_digits.sh   tmp\r\n",
      "Intel_MobileODT      start_digits.sh~  VOCdevkit_18-May-2011.tar\r\n"
     ]
    }
   ],
   "source": [
    "!ls ~/"
   ]
  },
  {
   "cell_type": "code",
   "execution_count": 2,
   "metadata": {
    "collapsed": false
   },
   "outputs": [],
   "source": [
    "#!cd /home/u2459/; tar -xvf /home/u2459/VOCdevkit_18-May-2011.tar"
   ]
  },
  {
   "cell_type": "code",
   "execution_count": 24,
   "metadata": {
    "collapsed": false
   },
   "outputs": [
    {
     "name": "stdout",
     "output_type": "stream",
     "text": [
      "create_segmentations_from_detections.m\texample_detector.m   viewanno.m\r\n",
      "devkit_doc.pdf\t\t\t\texample_layout.m     viewdet.m\r\n",
      "example_action.m\t\t\texample_segmenter.m  VOCcode\r\n",
      "example_action_nobb.m\t\t\tlocal\r\n",
      "example_classifier.m\t\t\tresults\r\n"
     ]
    }
   ],
   "source": [
    "!ls /home/u2459/VOCdevkit/"
   ]
  },
  {
   "cell_type": "code",
   "execution_count": 7,
   "metadata": {
    "collapsed": false
   },
   "outputs": [
    {
     "name": "stdout",
     "output_type": "stream",
     "text": [
      "models/VGGNet/VOC0712/SSD_512x512/\n",
      "models/VGGNet/VOC0712/SSD_512x512/deploy.prototxt\n",
      "models/VGGNet/VOC0712/SSD_512x512/score_ssd_pascal_512.py\n",
      "models/VGGNet/VOC0712/SSD_512x512/solver.prototxt\n",
      "models/VGGNet/VOC0712/SSD_512x512/ssd_pascal_512.py\n",
      "models/VGGNet/VOC0712/SSD_512x512/test.prototxt\n",
      "models/VGGNet/VOC0712/SSD_512x512/train.prototxt\n",
      "models/VGGNet/VOC0712/SSD_512x512/VGG_VOC0712_SSD_512x512_iter_120000.caffemodel\n"
     ]
    }
   ],
   "source": [
    "# !cd /home/u2459/Intel_MobileODT/resources/; tar -xvf /home/u2459/Intel_MobileODT/resources/models_VGGNet_VOC0712_SSD_512x512.tar.gz"
   ]
  },
  {
   "cell_type": "code",
   "execution_count": 21,
   "metadata": {
    "collapsed": false
   },
   "outputs": [
    {
     "name": "stdout",
     "output_type": "stream",
     "text": [
      "total 4\r\n",
      "drwxrwxr-x. 2 u2459 u2459   10 Mar 22  2017 .\r\n",
      "drwxrwxr-x. 6 u2459 u2459 4096 Mar 22  2017 ..\r\n"
     ]
    }
   ],
   "source": [
    "!ls -all /home/u2459/Intel_MobileODT/resources/models/"
   ]
  },
  {
   "cell_type": "code",
   "execution_count": 19,
   "metadata": {
    "collapsed": false
   },
   "outputs": [
    {
     "name": "stdout",
     "output_type": "stream",
     "text": [
      "rm: cannot remove ‘home/u2459/Intel_MobileODT/resources/models/’: No such file or directory\r\n"
     ]
    }
   ],
   "source": []
  },
  {
   "cell_type": "code",
   "execution_count": 1,
   "metadata": {
    "collapsed": true
   },
   "outputs": [],
   "source": [
    "!cp /opt/caffe-mlsl/scripts/create_annoset.py /home/u2459/Intel_MobileODT/tmp/"
   ]
  },
  {
   "cell_type": "code",
   "execution_count": null,
   "metadata": {
    "collapsed": true
   },
   "outputs": [],
   "source": []
  },
  {
   "cell_type": "code",
   "execution_count": null,
   "metadata": {
    "collapsed": true
   },
   "outputs": [],
   "source": []
  },
  {
   "cell_type": "code",
   "execution_count": null,
   "metadata": {
    "collapsed": true
   },
   "outputs": [],
   "source": []
  },
  {
   "cell_type": "code",
   "execution_count": 18,
   "metadata": {
    "collapsed": false
   },
   "outputs": [
    {
     "name": "stdout",
     "output_type": "stream",
     "text": [
      "total 36\n",
      "drwxrwxr-x.  3 u2459 u2459 4096 Mar 23  2017 .\n",
      "drwx------. 24 u2459 u2459 4096 Mar 23  2017 ..\n",
      "-rw-rw-r--.  1 u2459 u2459 1014 Mar 15 17:45 device_test.py\n",
      "-rw-rw-r--.  1 u2459 u2459    0 Mar 23  2017 hello_world_on_nodes.cc\n",
      "drwxr-xr-x.  2 u2459 u2459   42 Mar 20 12:12 .ipynb_checkpoints\n",
      "-rw-rw-r--.  1 u2459 u2459  654 Mar 20 10:16 mpi-test.py\n",
      "-rw-rw-r--.  1 u2459 u2459 2474 Mar 20 12:54 qsub.ipynb\n",
      "-rw-------.  1 u2459 u2459   75 Mar 20 09:17 STDIN.e3762\n",
      "-rw-------.  1 u2459 u2459  163 Mar 20 09:17 STDIN.e3763\n",
      "-rw-------.  1 u2459 u2459  634 Mar 20 09:17 STDIN.o3762\n",
      "-rw-------.  1 u2459 u2459  634 Mar 20 09:18 STDIN.o3763\n",
      "/usr/lib/gcc/x86_64-redhat-linux/4.8.5/../../../../lib64/crt1.o: In function `_start':\n",
      "(.text+0x20): undefined reference to `main'\n"
     ]
    }
   ],
   "source": [
    "!cd /home/u2459/tmp && ls -all && mpiicpc -o /home/u2459/tmp/hello_world_on_nodes.o /home/u2459/tmp/hello_world_on_nodes.cc"
   ]
  },
  {
   "cell_type": "code",
   "execution_count": 6,
   "metadata": {
    "collapsed": false
   },
   "outputs": [
    {
     "name": "stdout",
     "output_type": "stream",
     "text": [
      "Error: Command line argument is needed!\r\n",
      "Simple script to compile and/or link MPI programs.\r\n",
      "Usage: mpiicpc [options] <files>\r\n",
      "----------------------------------------------------------------------------\r\n",
      "The following options are supported:\r\n",
      "   -cxx=<name>     specify a C++ compiler name: i.e. -cxx=icpc\r\n",
      "   -echo           print the scripts during their execution\r\n",
      "   -show           show command lines without real calling\r\n",
      "   -config=<name>  specify a configuration file: i.e. -config=icpc for mpicc-icpc.conf file\r\n",
      "   -v              print version info of mpiicpc and its native compiler\r\n",
      "   -profile=<name> specify a profile configuration file (an MPI profiling\r\n",
      "                   library): i.e. -profile=myprofile for the myprofile.cfg file.\r\n",
      "                   As a special case, lib<name>.so or lib<name>.a may be used\r\n",
      "                   if the library is found\r\n",
      "   -check_mpi      link against the Intel(R) Trace Collector (-profile=vtmc).\r\n",
      "   -static_mpi     link the Intel(R) MPI Library statically\r\n",
      "   -mt_mpi         link the thread safe version of the Intel(R) MPI Library\r\n",
      "   -ilp64          link the ILP64 support of the Intel(R) MPI Library\r\n",
      "   -fast           the same as -static_mpi + pass -fast option to a compiler\r\n",
      "   -t or -trace\r\n",
      "                   link against the Intel(R) Trace Collector\r\n",
      "   -trace-imbalance\r\n",
      "                   link against the Intel(R) Trace Collector imbalance library\r\n",
      "                   (-profile=vtim)\r\n",
      "   -static         use static linkage method\r\n",
      "   -nostrip        turn off the debug information stripping during static linking\r\n",
      "   -dynamic_log    link against the Intel(R) Trace Collector dynamically\r\n",
      "   -O              enable optimization\r\n",
      "   -link_mpi=<name>\r\n",
      "                   link against the specified version of the Intel(R) MPI Library\r\n",
      "All other options will be passed to the compiler without changing.\r\n",
      "----------------------------------------------------------------------------\r\n",
      "The following environment variables are used:\r\n",
      "   I_MPI_ROOT      the Intel(R) MPI Library installation directory path\r\n",
      "   I_MPI_CXX or MPICH_CXX\r\n",
      "                   the path/name of the underlying compiler to be used\r\n",
      "   I_MPI_CXX_PROFILE or MPICXX_PROFILE\r\n",
      "                   the name of profile file (without extension)\r\n",
      "   I_MPI_COMPILER_CONFIG_DIR\r\n",
      "                   the folder which contains configuration files *.conf\r\n",
      "   I_MPI_TRACE_PROFILE\r\n",
      "                   specify a default profile for the -trace option\r\n",
      "   I_MPI_CHECK_PROFILE\r\n",
      "                   specify a default profile for the -check_mpi option\r\n",
      "   I_MPI_CHECK_COMPILER\r\n",
      "                   enable compiler setup checks\r\n",
      "   I_MPI_LINK      specify the version of the Intel(R) MPI Library\r\n",
      "   I_MPI_DEBUG_INFO_STRIP\r\n",
      "                   turn on/off the debug information stripping during static linking\r\n",
      "----------------------------------------------------------------------------\r\n"
     ]
    }
   ],
   "source": [
    "!mpiicpc"
   ]
  },
  {
   "cell_type": "code",
   "execution_count": 1,
   "metadata": {
    "collapsed": false
   },
   "outputs": [
    {
     "name": "stdout",
     "output_type": "stream",
     "text": [
      "/opt/intel/compilers_and_libraries_2017.2.174/linux/mkl\r\n"
     ]
    }
   ],
   "source": [
    "!echo $MKLROOT"
   ]
  },
  {
   "cell_type": "code",
   "execution_count": 2,
   "metadata": {
    "collapsed": false
   },
   "outputs": [
    {
     "name": "stdout",
     "output_type": "stream",
     "text": [
      "ls: cannot access /opt/intel/compilers_and_libraries_2016.3.170/: No such file or directory\r\n"
     ]
    }
   ],
   "source": [
    "!ls /opt/intel/compilers_and_libraries_2017.2.174/linux/mkl/"
   ]
  },
  {
   "cell_type": "code",
   "execution_count": null,
   "metadata": {
    "collapsed": true
   },
   "outputs": [],
   "source": []
  },
  {
   "cell_type": "code",
   "execution_count": null,
   "metadata": {
    "collapsed": true
   },
   "outputs": [],
   "source": []
  },
  {
   "cell_type": "code",
   "execution_count": 15,
   "metadata": {
    "collapsed": true
   },
   "outputs": [],
   "source": [
    "!cp -R /home/u2459/Intel_MobileODT/common/preprocessing/ /home/u2459/keras-contrib/keras_contrib/"
   ]
  },
  {
   "cell_type": "code",
   "execution_count": null,
   "metadata": {
    "collapsed": true
   },
   "outputs": [],
   "source": []
  },
  {
   "cell_type": "code",
   "execution_count": 4,
   "metadata": {
    "collapsed": false
   },
   "outputs": [],
   "source": [
    "!rm /home/u2459/Intel_MobileODT/resources/unet_cervix_os_detection_with_keras.o4862"
   ]
  },
  {
   "cell_type": "code",
   "execution_count": null,
   "metadata": {
    "collapsed": true
   },
   "outputs": [],
   "source": []
  },
  {
   "cell_type": "code",
   "execution_count": 16,
   "metadata": {
    "collapsed": false
   },
   "outputs": [
    {
     "name": "stdout",
     "output_type": "stream",
     "text": [
      "# On branch master\r\n",
      "# Changes not staged for commit:\r\n",
      "#   (use \"git add <file>...\" to update what will be committed)\r\n",
      "#   (use \"git checkout -- <file>...\" to discard changes in working directory)\r\n",
      "#\r\n",
      "#\tmodified:   keras_contrib/preprocessing/image/generators.py\r\n",
      "#\tmodified:   keras_contrib/preprocessing/image/iterators.py\r\n",
      "#\r\n",
      "no changes added to commit (use \"git add\" and/or \"git commit -a\")\r\n"
     ]
    }
   ],
   "source": [
    "!cd /home/u2459/keras-contrib/ && git status"
   ]
  },
  {
   "cell_type": "code",
   "execution_count": null,
   "metadata": {
    "collapsed": true
   },
   "outputs": [],
   "source": []
  },
  {
   "cell_type": "code",
   "execution_count": 25,
   "metadata": {
    "collapsed": false
   },
   "outputs": [],
   "source": [
    "!rm -rf /home/u2459/Intel_MobileODT/input/generated/annotated_images/"
   ]
  },
  {
   "cell_type": "code",
   "execution_count": null,
   "metadata": {
    "collapsed": true
   },
   "outputs": [],
   "source": []
  },
  {
   "cell_type": "code",
   "execution_count": null,
   "metadata": {
    "collapsed": true
   },
   "outputs": [],
   "source": []
  },
  {
   "cell_type": "code",
   "execution_count": 3,
   "metadata": {
    "collapsed": false
   },
   "outputs": [
    {
     "data": {
      "text/plain": [
       "'unet_os_cervix_detector_seed=54321_lr=0.01_a=0.875'"
      ]
     },
     "execution_count": 3,
     "metadata": {},
     "output_type": "execute_result"
    }
   ],
   "source": [
    "lr_2 = 1e-2\n",
    "a_2 = 0.875\n",
    "'unet_os_cervix_detector_seed=54321_lr=%.2f_a=%.3f' % (lr_2, a_2) # + datetime.now().strftime(\"%Y-%m-%d-%H-%M\")"
   ]
  },
  {
   "cell_type": "code",
   "execution_count": null,
   "metadata": {
    "collapsed": true
   },
   "outputs": [],
   "source": []
  },
  {
   "cell_type": "code",
   "execution_count": null,
   "metadata": {
    "collapsed": true
   },
   "outputs": [],
   "source": []
  },
  {
   "cell_type": "code",
   "execution_count": null,
   "metadata": {
    "collapsed": false
   },
   "outputs": [
    {
     "name": "stdout",
     "output_type": "stream",
     "text": [
      "0\n",
      "1\n",
      "2\n",
      "3\n",
      "4\n",
      "5\n",
      "6\n",
      "7\n",
      "8\n",
      "9\n",
      "10\n",
      "11\n",
      "12\n",
      "13\n",
      "14\n"
     ]
    }
   ],
   "source": [
    "import time \n",
    "\n",
    "for i in range(100):\n",
    "    print i\n",
    "    time.sleep(1)"
   ]
  },
  {
   "cell_type": "code",
   "execution_count": null,
   "metadata": {
    "collapsed": true
   },
   "outputs": [],
   "source": []
  },
  {
   "cell_type": "code",
   "execution_count": null,
   "metadata": {
    "collapsed": true
   },
   "outputs": [],
   "source": []
  },
  {
   "cell_type": "code",
   "execution_count": null,
   "metadata": {
    "collapsed": true
   },
   "outputs": [],
   "source": []
  }
 ],
 "metadata": {
  "kernelspec": {
   "display_name": "Python 2",
   "language": "python",
   "name": "python2"
  },
  "language_info": {
   "codemirror_mode": {
    "name": "ipython",
    "version": 2
   },
   "file_extension": ".py",
   "mimetype": "text/x-python",
   "name": "python",
   "nbconvert_exporter": "python",
   "pygments_lexer": "ipython2",
   "version": "2.7.12"
  }
 },
 "nbformat": 4,
 "nbformat_minor": 1
}
