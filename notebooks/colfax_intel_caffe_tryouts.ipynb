{
 "cells": [
  {
   "cell_type": "markdown",
   "metadata": {},
   "source": [
    "# Tryout intel-caffe"
   ]
  },
  {
   "cell_type": "code",
   "execution_count": 9,
   "metadata": {
    "collapsed": false
   },
   "outputs": [],
   "source": [
    "import os\n",
    "import sys\n",
    "from datetime import datetime\n",
    "RESOURCES_PATH = os.path.join(os.path.abspath(os.path.dirname('.')), '..', 'resources')"
   ]
  },
  {
   "cell_type": "code",
   "execution_count": 10,
   "metadata": {
    "collapsed": true
   },
   "outputs": [],
   "source": [
    "env=\"\"\n",
    "\n",
    "def submit_job(cmd, env=env, name=\"STDIN\"):\n",
    "    job_id = !echo {env} {cmd} | qsub -l nodes=4:knl -d /home/u2459 -N {name}\n",
    "    return job_id \n",
    "\n",
    "def checkout_job(job_id, name=\"STDIN\", full=False):\n",
    "    print(job_id[0])\n",
    "    if not full:\n",
    "        !qstat\n",
    "    else:\n",
    "        !qstat -f {job_id[0].split('.')[0]}\n",
    "    !cat ~/{name}.o{job_id[0].split('.')[0]}\n",
    "    !cat ~/{name}.e{job_id[0].split('.')[0]}"
   ]
  },
  {
   "cell_type": "code",
   "execution_count": 11,
   "metadata": {
    "collapsed": false
   },
   "outputs": [
    {
     "name": "stdout",
     "output_type": "stream",
     "text": [
      "CCS_ResNet_50_solver.prototxt\t  ResNet-50-model.caffemodel\r\n",
      "CCS_ResNet_50_train_val.prototxt  ResNet_50_solver.prototxt\r\n",
      "digits\t\t\t\t  ResNet_50_train_val.prototxt\r\n",
      "get_resnet50.sh\t\t\t  ResNet_mean.binaryproto\r\n",
      "ResNet-50-deploy.prototxt\r\n"
     ]
    }
   ],
   "source": [
    "!ls {RESOURCES_PATH}"
   ]
  },
  {
   "cell_type": "markdown",
   "metadata": {},
   "source": [
    "## Create solver file\n",
    "\n",
    "- Define parameters and save as a .prototxt file"
   ]
  },
  {
   "cell_type": "code",
   "execution_count": null,
   "metadata": {
    "collapsed": true
   },
   "outputs": [],
   "source": [
    "nb_train_images = 550\n",
    "nb_val_images = 250"
   ]
  },
  {
   "cell_type": "code",
   "execution_count": null,
   "metadata": {
    "collapsed": true
   },
   "outputs": [],
   "source": [
    "solver_params = {\n",
    "    # Specify the network\n",
    "    'net': ''\n",
    "    # Specify nb epochs\n",
    "    'max_iter: 10000': ''\n",
    "}\n",
    "\n",
    "now = datetime.now()\n",
    "solver_filename = os.path.join(RESOURCES_PATH, 'solver_%s.prototxt' % (str(now.strftime(\"%Y-%m-%d-%H-%M\"))))\n"
   ]
  },
  {
   "cell_type": "code",
   "execution_count": null,
   "metadata": {
    "collapsed": true
   },
   "outputs": [],
   "source": [
    "assert not os.path.exists(solver_filename), \"Solver configuration file already exists\"\n",
    "\n",
    "with open(solver_filename, 'w') as w:\n",
    "    w"
   ]
  },
  {
   "cell_type": "code",
   "execution_count": 19,
   "metadata": {
    "collapsed": false
   },
   "outputs": [
    {
     "name": "stdout",
     "output_type": "stream",
     "text": [
      "config\t\t  job.py\t     static\t\t   test_version.py\r\n",
      "dataset\t\t  job.pyc\t     status.py\t\t   test_views.py\r\n",
      "device_query.py   jobs\t\t     status.pyc\t\t   tools\r\n",
      "device_query.pyc  log.py\t     store\t\t   utils\r\n",
      "digits.log\t  log.pyc\t     task.py\t\t   version.py\r\n",
      "download_data\t  __main__.py\t     task.pyc\t\t   version.pyc\r\n",
      "extensions\t  model\t\t     templates\t\t   views.py\r\n",
      "frameworks\t  pretrained_model   test_device_query.py  views.pyc\r\n",
      "inference\t  scheduler.py\t     test_scheduler.py\t   webapp.py\r\n",
      "__init__.py\t  scheduler.pyc      test_status.py\t   webapp.pyc\r\n",
      "__init__.pyc\t  standard-networks  test_utils.py\r\n"
     ]
    }
   ],
   "source": [
    "!ls /home/u2459/DIGITS/digits/"
   ]
  },
  {
   "cell_type": "code",
   "execution_count": 20,
   "metadata": {
    "collapsed": false
   },
   "outputs": [
    {
     "name": "stdout",
     "output_type": "stream",
     "text": [
      "# Copyright (c) 2014-2017, NVIDIA CORPORATION.  All rights reserved.\r\n",
      "\r\n",
      "import argparse\r\n",
      "import os.path\r\n",
      "import sys\r\n",
      "\r\n",
      "\r\n",
      "# Update PATH to include the local DIGITS directory\r\n",
      "PARENT_DIR = os.path.dirname(os.path.dirname(os.path.abspath(__file__)))\r\n",
      "found_parent_dir = False\r\n",
      "for p in sys.path:\r\n",
      "    if os.path.abspath(p) == PARENT_DIR:\r\n",
      "        found_parent_dir = True\r\n",
      "        break\r\n",
      "if not found_parent_dir:\r\n",
      "    sys.path.insert(0, PARENT_DIR)\r\n",
      "\r\n",
      "\r\n",
      "def main():\r\n",
      "    parser = argparse.ArgumentParser(description='DIGITS server')\r\n",
      "    parser.add_argument(\r\n",
      "        '-p', '--port',\r\n",
      "        type=int,\r\n",
      "        default=5000,\r\n",
      "        help='Port to run app on (default 5000)'\r\n",
      "    )\r\n",
      "    parser.add_argument(\r\n",
      "        '-d', '--debug',\r\n",
      "        action='store_true',\r\n",
      "        help=('Run the application in debug mode (reloads when the source '\r\n",
      "              'changes and gives more detailed error messages)')\r\n",
      "    )\r\n",
      "    parser.add_argument(\r\n",
      "        '--version',\r\n",
      "        action='store_true',\r\n",
      "        help='Print the version number and exit'\r\n",
      "    )\r\n",
      "\r\n",
      "    args = vars(parser.parse_args())\r\n",
      "\r\n",
      "    import digits\r\n",
      "\r\n",
      "    if args['version']:\r\n",
      "        print digits.__version__\r\n",
      "        sys.exit()\r\n",
      "\r\n",
      "    print '  ___ ___ ___ ___ _____ ___'\r\n",
      "    print ' |   \\_ _/ __|_ _|_   _/ __|'\r\n",
      "    print ' | |) | | (_ || |  | | \\__ \\\\'\r\n",
      "    print ' |___/___\\___|___| |_| |___/', digits.__version__\r\n",
      "    print\r\n",
      "\r\n",
      "    import digits.config\r\n",
      "    import digits.log\r\n",
      "    import digits.webapp\r\n",
      "\r\n",
      "    try:\r\n",
      "        if not digits.webapp.scheduler.start():\r\n",
      "            print 'ERROR: Scheduler would not start'\r\n",
      "        else:\r\n",
      "            digits.webapp.app.debug = args['debug']\r\n",
      "            digits.webapp.socketio.run(digits.webapp.app, '0.0.0.0', args['port'])\r\n",
      "    except KeyboardInterrupt:\r\n",
      "        pass\r\n",
      "    finally:\r\n",
      "        digits.webapp.scheduler.stop()\r\n",
      "\r\n",
      "\r\n",
      "if __name__ == '__main__':\r\n",
      "    main()\r\n"
     ]
    }
   ],
   "source": [
    "!cat /home/u2459/DIGITS/digits/__main__.py"
   ]
  },
  {
   "cell_type": "code",
   "execution_count": 18,
   "metadata": {
    "collapsed": false
   },
   "outputs": [
    {
     "name": "stdout",
     "output_type": "stream",
     "text": [
      "#!/bin/sh\r\n",
      "\r\n",
      "source ~/env.local\r\n",
      "\r\n",
      "export PYTHONPATH=$PYTHONPATH:~/digits_dependencies/lib/python2.7/site-packages/\r\n",
      "\r\n",
      "export CAFFE_ROOT=/opt/caffe-master/\r\n",
      "\r\n",
      "## START DIGITS SERVER at localhost:5000\r\n",
      "pushd DIGITS\r\n",
      "\r\n",
      "set -e\r\n",
      "python2 -m digits $@\r\n",
      "\r\n",
      "popd\r\n"
     ]
    }
   ],
   "source": [
    "!cat /home/u2459/start_digits.sh"
   ]
  },
  {
   "cell_type": "markdown",
   "metadata": {},
   "source": [
    "## Start training"
   ]
  },
  {
   "cell_type": "code",
   "execution_count": 43,
   "metadata": {
    "collapsed": false
   },
   "outputs": [],
   "source": [
    "caffe_train_cmd = [\n",
    "    \"/opt/caffe-master/build/tools/caffe\",\n",
    "    \"train\", \n",
    "    \"--solver=\"+solver_filename,\n",
    "    \"--weights=\"+os.path.join(RESOURCES_PATH, 'ResNet-50-model.caffemodel'),\n",
    "]\n",
    "caffe_train_cmd = ' '.join(caffe_train_cmd)\n",
    "\n",
    "caffe_help_cmd = [\n",
    "    \"/opt/caffe-master/build/tools/caffe\",\n",
    "    \"--help\", \n",
    "]\n",
    "caffe_help_cmd = ' '.join(caffe_help_cmd)"
   ]
  },
  {
   "cell_type": "code",
   "execution_count": 83,
   "metadata": {
    "collapsed": true
   },
   "outputs": [],
   "source": [
    "job_id = submit_job(caffe_train_cmd, name='caffe_train')\n",
    "# job_id = submit_job(caffe_help_cmd)"
   ]
  },
  {
   "cell_type": "code",
   "execution_count": 120,
   "metadata": {
    "collapsed": false
   },
   "outputs": [
    {
     "name": "stdout",
     "output_type": "stream",
     "text": [
      "3535.c001\n",
      "Job ID                    Name             User            Time Use S Queue\n",
      "------------------------- ---------------- --------------- -------- - -----\n",
      "3535.c001                  STDIN            u2459           12:27:20 R batch          \n",
      "cat: /home/u2459/STDIN.o3535: No such file or directory\n",
      "cat: /home/u2459/STDIN.e3535: No such file or directory\n"
     ]
    }
   ],
   "source": [
    "checkout_job(job_id, full=False)"
   ]
  },
  {
   "cell_type": "code",
   "execution_count": null,
   "metadata": {
    "collapsed": true
   },
   "outputs": [],
   "source": []
  },
  {
   "cell_type": "code",
   "execution_count": null,
   "metadata": {
    "collapsed": true
   },
   "outputs": [],
   "source": []
  }
 ],
 "metadata": {
  "kernelspec": {
   "display_name": "Python 2",
   "language": "python",
   "name": "python2"
  },
  "language_info": {
   "codemirror_mode": {
    "name": "ipython",
    "version": 2
   },
   "file_extension": ".py",
   "mimetype": "text/x-python",
   "name": "python",
   "nbconvert_exporter": "python",
   "pygments_lexer": "ipython2",
   "version": "2.7.12"
  }
 },
 "nbformat": 4,
 "nbformat_minor": 1
}
