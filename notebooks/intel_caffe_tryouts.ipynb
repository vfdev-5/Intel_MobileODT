{
 "cells": [
  {
   "cell_type": "markdown",
   "metadata": {},
   "source": [
    "# Tryout intel-caffe"
   ]
  },
  {
   "cell_type": "code",
   "execution_count": 2,
   "metadata": {
    "collapsed": false
   },
   "outputs": [],
   "source": [
    "import os\n",
    "import sys\n",
    "RESOURCES_PATH = os.path.join(os.path.abspath(os.path.dirname('.')), '..', 'resources')"
   ]
  },
  {
   "cell_type": "code",
   "execution_count": 116,
   "metadata": {
    "collapsed": true
   },
   "outputs": [],
   "source": [
    "env=\"\"\n",
    "\n",
    "def submit_job(cmd, env=env, name=\"STDIN\"):\n",
    "    job_id = !echo {env} {cmd} | qsub -l nodes=4:knl -d /home/u2459 -N {name}\n",
    "    return job_id \n",
    "\n",
    "def checkout_job(job_id, full=False):\n",
    "    print(job_id[0])\n",
    "    if not full:\n",
    "        !qstat\n",
    "    else:\n",
    "        !qstat -f {job_id[0].split('.')[0]}\n",
    "    !cat ~/STDIN.o{job_id[0].split('.')[0]}\n",
    "    !cat ~/STDIN.e{job_id[0].split('.')[0]}"
   ]
  },
  {
   "cell_type": "code",
   "execution_count": 22,
   "metadata": {
    "collapsed": false
   },
   "outputs": [
    {
     "name": "stdout",
     "output_type": "stream",
     "text": [
      "CCS_ResNet_50_solver.prototxt\t       ResNet-50-deploy.prototxt\r\n",
      "CCS_ResNet_50_train_val.prototxt       ResNet-50-model.caffemodel\r\n",
      "CCS_ResNet_50_train_val.prototxt.save  ResNet_50_solver.prototxt\r\n",
      "digits\t\t\t\t       ResNet_50_train_val.prototxt\r\n",
      "get_resnet50.sh\t\t\t       ResNet_mean.binaryproto\r\n"
     ]
    }
   ],
   "source": [
    "!ls {RESOURCES_PATH}"
   ]
  },
  {
   "cell_type": "markdown",
   "metadata": {},
   "source": [
    "## Start training"
   ]
  },
  {
   "cell_type": "code",
   "execution_count": 43,
   "metadata": {
    "collapsed": false
   },
   "outputs": [],
   "source": [
    "caffe_train_cmd = [\n",
    "    \"/opt/caffe-master/build/tools/caffe\",\n",
    "    \"train\", \n",
    "    \"--solver=\"+os.path.join(RESOURCES_PATH, 'CCS_ResNet_50_solver.prototxt'),\n",
    "    \"--weights=\"+os.path.join(RESOURCES_PATH, 'ResNet-50-model.caffemodel'),\n",
    "]\n",
    "caffe_train_cmd = ' '.join(caffe_train_cmd)\n",
    "\n",
    "caffe_help_cmd = [\n",
    "    \"/opt/caffe-master/build/tools/caffe\",\n",
    "    \"--help\", \n",
    "]\n",
    "caffe_help_cmd = ' '.join(caffe_help_cmd)"
   ]
  },
  {
   "cell_type": "code",
   "execution_count": 83,
   "metadata": {
    "collapsed": true
   },
   "outputs": [],
   "source": [
    "job_id = submit_job(caffe_train_cmd, name='caffe_train')\n",
    "# job_id = submit_job(caffe_help_cmd)"
   ]
  },
  {
   "cell_type": "code",
   "execution_count": 120,
   "metadata": {
    "collapsed": false
   },
   "outputs": [
    {
     "name": "stdout",
     "output_type": "stream",
     "text": [
      "3535.c001\n",
      "Job ID                    Name             User            Time Use S Queue\n",
      "------------------------- ---------------- --------------- -------- - -----\n",
      "3535.c001                  STDIN            u2459           12:27:20 R batch          \n",
      "cat: /home/u2459/STDIN.o3535: No such file or directory\n",
      "cat: /home/u2459/STDIN.e3535: No such file or directory\n"
     ]
    }
   ],
   "source": [
    "checkout_job(job_id, full=False)"
   ]
  },
  {
   "cell_type": "code",
   "execution_count": null,
   "metadata": {
    "collapsed": true
   },
   "outputs": [],
   "source": []
  },
  {
   "cell_type": "code",
   "execution_count": null,
   "metadata": {
    "collapsed": true
   },
   "outputs": [],
   "source": []
  }
 ],
 "metadata": {
  "kernelspec": {
   "display_name": "Python 2",
   "language": "python",
   "name": "python2"
  },
  "language_info": {
   "codemirror_mode": {
    "name": "ipython",
    "version": 2
   },
   "file_extension": ".py",
   "mimetype": "text/x-python",
   "name": "python",
   "nbconvert_exporter": "python",
   "pygments_lexer": "ipython2",
   "version": "2.7.12"
  }
 },
 "nbformat": 4,
 "nbformat_minor": 1
}
