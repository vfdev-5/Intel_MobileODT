{
 "cells": [
  {
   "cell_type": "markdown",
   "metadata": {},
   "source": [
    "# Very basic `qsub`, `qstat`, `qdel` Python wrapper"
   ]
  },
  {
   "cell_type": "markdown",
   "metadata": {},
   "source": [
    "## Basic code"
   ]
  },
  {
   "cell_type": "code",
   "execution_count": 110,
   "metadata": {
    "collapsed": false
   },
   "outputs": [],
   "source": [
    "# qsub_utils\n",
    "\n",
    "import os\n",
    "import subprocess\n",
    "import platform\n",
    "\n",
    "\n",
    "PBS_CONFIGURATION=\"\"\n",
    "\n",
    "def setup_configuration(nodes='', stdout='', stderr=''):\n",
    "    \"\"\"\n",
    "    Method to setup PBS configuration\n",
    "    :param nodes: specify nodes with list of features. `-l nodes={nodes}`\n",
    "    :param stdout: specify stdout file. `-o {stdout}`\n",
    "    :param stderr: specify stderr file. `-e {stderr}`\n",
    "    \"\"\"\n",
    "    global PBS_CONFIGURATION\n",
    "    conf = \"#PBS\"\n",
    "    if len(nodes) > 0:\n",
    "        conf += \" -l nodes=%s\" % nodes        \n",
    "    if len(stdout) > 0:\n",
    "        conf += \" -o %s\" % stdout\n",
    "    if len(stderr) > 0:\n",
    "        conf += \" -e %s\" % stderr\n",
    "        \n",
    "    PBS_CONFIGURATION=conf\n",
    "\n",
    "    \n",
    "def write_launch_file(cmd_str, name, cwd='', env=''):    \n",
    "    \"\"\"\n",
    "    Method to write a PBS launch file for qsub\n",
    "    \n",
    "    :param cmd_str: list of \n",
    "    \"\"\"\n",
    "    assert len(cmd_str) > 0, \"Job command can't be empty\"\n",
    "    assert len(name) > 0, \"Job name can't be empty\"\n",
    "    filename = os.path.join(cwd, \"job_%s.launch\" % name)\n",
    "    with open(filename, 'w') as w:\n",
    "        conf = PBS_CONFIGURATION\n",
    "        conf += \" -N %s\" % name\n",
    "        if len(cwd) > 0:\n",
    "            conf += \" -d %s\" % cwd        \n",
    "        w.write(conf + '\\n')        \n",
    "        if len(env) > 0:\n",
    "            w.write(env + '\\n')\n",
    "        w.write(cmd_str)    \n",
    "        \n",
    "    return filename\n",
    "    \n",
    "    \n",
    "def submit_job(cmd, name, cwd='', env=''):\n",
    "    \"\"\"\n",
    "    Method to submit a job writing a launch file and using qsub\n",
    "    `qsub job_{name}.launch`\n",
    "    \n",
    "    :param cmd:\n",
    "    \"\"\"\n",
    "                    \n",
    "    filename = write_launch_file(' '.join(cmd), name, cwd, env)    \n",
    "    program = ['qsub', filename]\n",
    "    process = subprocess.Popen(program, \n",
    "                               stdout=subprocess.PIPE,\n",
    "                               stderr=subprocess.STDOUT,\n",
    "                               close_fds=False if platform.system() == 'Windows' else True)\n",
    "    process.wait()    \n",
    "    job_id = process.stdout.read()\n",
    "    assert job_id is not None and len(job_id) > 0, \"Failed to fetch job id from qsub\"        \n",
    "    return job_id, filename   \n",
    "\n",
    "\n",
    "def delete_job(job_id):\n",
    "    pass\n",
    "\n",
    "\n",
    "def get_stats(job_id):\n",
    "    _id = job_id.split('.')[0]\n",
    "    \n",
    "    program = ['qstat', '-f', _id]\n",
    "    process = subprocess.Popen(program, \n",
    "                               stdout=subprocess.PIPE,\n",
    "                               stderr=subprocess.PIPE,\n",
    "                               close_fds=False if platform.system() == 'Windows' else True)\n",
    "    process.wait() \n",
    "    out = process.stdout.read()\n",
    "    err = process.stderr.read()    \n",
    "    out = out.replace(r'(\\t|\\s)', '').split('\\n')\n",
    "    print \"out split\", out\n",
    "    out\n",
    "    stats = {}\n",
    "    for line in out:\n",
    "        kv = line.split(' = ')\n",
    "        if len(kv) > 1:\n",
    "            stats[kv[0]] = kv[1]\n",
    "    print stats\n",
    "    \n",
    "    print \"OUT: \", out\n",
    "    print \"ERR: \", err\n",
    "\n",
    "    \n",
    "def job_is_running(job_id):\n",
    "    return False\n",
    "    "
   ]
  },
  {
   "cell_type": "code",
   "execution_count": null,
   "metadata": {
    "collapsed": true
   },
   "outputs": [],
   "source": [
    "a = '  \\ta = vb, \\t b = ccc '\n",
    "a.replace(r'(\\t|\\s)')"
   ]
  },
  {
   "cell_type": "markdown",
   "metadata": {},
   "source": [
    "## Example"
   ]
  },
  {
   "cell_type": "code",
   "execution_count": 111,
   "metadata": {
    "collapsed": true
   },
   "outputs": [],
   "source": [
    "setup_configuration(nodes='1:knl7210:ram96gb', stdout='/home/u2459', stderr='/home/u2459')"
   ]
  },
  {
   "cell_type": "code",
   "execution_count": 107,
   "metadata": {
    "collapsed": false
   },
   "outputs": [],
   "source": [
    "caffe_help_cmd = [\n",
    "    \"caffe\",\n",
    "    \"--help\", \n",
    "]\n",
    "job_id, filename = submit_job(caffe_help_cmd, 'caffe_help', env='export PATH=$PATH:/opt/caffe-master/build/tools/')\n",
    "\n",
    "# while job_is_running(job_id):\n",
    "#     pass\n"
   ]
  },
  {
   "cell_type": "code",
   "execution_count": 108,
   "metadata": {
    "collapsed": false
   },
   "outputs": [
    {
     "data": {
      "text/plain": [
       "'#PBS -l nodes=1:knl7210:ram96gb -o /home/u2459 -e /home/u2459'"
      ]
     },
     "execution_count": 108,
     "metadata": {},
     "output_type": "execute_result"
    }
   ],
   "source": [
    "PBS_CONFIGURATION"
   ]
  },
  {
   "cell_type": "code",
   "execution_count": 112,
   "metadata": {
    "collapsed": false
   },
   "outputs": [
    {
     "name": "stdout",
     "output_type": "stream",
     "text": [
      "out split ['Job Id: 3820.c001', '    Job_Name = python_inf', '    Job_Owner = u2459@c001', '    job_state = Q', '    queue = batch', '    server = c001', '    Checkpoint = u', '    ctime = Mon Mar 20 18:52:10 2017', '    Error_Path = c001:/home/u2459/python_inf.e3820', '    Hold_Types = n', '    Join_Path = n', '    Keep_Files = n', '    Mail_Points = n', '    mtime = Mon Mar 20 18:52:10 2017', '    Output_Path = c001:/home/u2459/python_inf.o3820', '    Priority = 0', '    qtime = Mon Mar 20 18:52:10 2017', '    Rerunable = True', '    Resource_List.nodect = 1', '    Resource_List.nodes = 1:knl7210:ram96gb', '    Resource_List.walltime = 24:00:00', '    Variable_List = PBS_O_QUEUE=batch,PBS_O_HOME=/home/u2459,', 'PBS_O_LOGNAME=u2459,', 'PBS_O_PATH=/opt/intel/intelpython27/bin/:/opt/intel/intelpython35/bin', '/:/opt/intel/compilers_and_libraries_2017.0.098/linux/mpi/intel64/bin:', '/opt/intel/compilers_and_libraries_2017.0.098/linux/bin/intel64:/opt/i', 'ntel/compilers_and_libraries_2017.0.098/linux/mpi/intel64/bin:/opt/int', 'el/debugger_2017/gdb/intel64_mic/bin:/usr/local/bin:/usr/bin:/usr/loca', 'l/sbin:/usr/sbin:/home/u2459/.local/bin:/home/u2459/bin,', 'PBS_O_MAIL=/var/spool/mail/u2459,PBS_O_SHELL=/bin/bash,', 'PBS_O_LANG=en_US.UTF-8,', 'PBS_O_SUBMIT_FILTER=/usr/local/sbin/torque_submitfilter,', 'PBS_O_WORKDIR=/home/u2459/Intel_MobileODT/notebooks,PBS_O_HOST=c001,', 'PBS_O_SERVER=c001', '    euser = u2459', '    egroup = u2459', '    queue_type = E', '    etime = Mon Mar 20 18:52:10 2017', '    submit_args = job_python_inf.launch', '    fault_tolerant = False', '    job_radix = 0', '    submit_host = c001', '', '']\n",
      "{'    qtime': 'Mon Mar 20 18:52:10 2017', '    Hold_Types': 'n', '    Resource_List.walltime': '24:00:00', '    Checkpoint': 'u', '    fault_tolerant': 'False', '    Join_Path': 'n', '    Error_Path': 'c001:/home/u2459/python_inf.e3820', '    mtime': 'Mon Mar 20 18:52:10 2017', '    etime': 'Mon Mar 20 18:52:10 2017', '    egroup': 'u2459', '    submit_host': 'c001', '    job_state': 'Q', '    Resource_List.nodes': '1:knl7210:ram96gb', '    job_radix': '0', '    Keep_Files': 'n', '    Mail_Points': 'n', '    Job_Owner': 'u2459@c001', '    euser': 'u2459', '    Rerunable': 'True', '    Job_Name': 'python_inf', '    submit_args': 'job_python_inf.launch', '    Variable_List': 'PBS_O_QUEUE=batch,PBS_O_HOME=/home/u2459,', '    server': 'c001', '    ctime': 'Mon Mar 20 18:52:10 2017', '    Output_Path': 'c001:/home/u2459/python_inf.o3820', '    queue_type': 'E', '    Priority': '0', '    Resource_List.nodect': '1', '    queue': 'batch'}\n",
      "OUT:  ['Job Id: 3820.c001', '    Job_Name = python_inf', '    Job_Owner = u2459@c001', '    job_state = Q', '    queue = batch', '    server = c001', '    Checkpoint = u', '    ctime = Mon Mar 20 18:52:10 2017', '    Error_Path = c001:/home/u2459/python_inf.e3820', '    Hold_Types = n', '    Join_Path = n', '    Keep_Files = n', '    Mail_Points = n', '    mtime = Mon Mar 20 18:52:10 2017', '    Output_Path = c001:/home/u2459/python_inf.o3820', '    Priority = 0', '    qtime = Mon Mar 20 18:52:10 2017', '    Rerunable = True', '    Resource_List.nodect = 1', '    Resource_List.nodes = 1:knl7210:ram96gb', '    Resource_List.walltime = 24:00:00', '    Variable_List = PBS_O_QUEUE=batch,PBS_O_HOME=/home/u2459,', 'PBS_O_LOGNAME=u2459,', 'PBS_O_PATH=/opt/intel/intelpython27/bin/:/opt/intel/intelpython35/bin', '/:/opt/intel/compilers_and_libraries_2017.0.098/linux/mpi/intel64/bin:', '/opt/intel/compilers_and_libraries_2017.0.098/linux/bin/intel64:/opt/i', 'ntel/compilers_and_libraries_2017.0.098/linux/mpi/intel64/bin:/opt/int', 'el/debugger_2017/gdb/intel64_mic/bin:/usr/local/bin:/usr/bin:/usr/loca', 'l/sbin:/usr/sbin:/home/u2459/.local/bin:/home/u2459/bin,', 'PBS_O_MAIL=/var/spool/mail/u2459,PBS_O_SHELL=/bin/bash,', 'PBS_O_LANG=en_US.UTF-8,', 'PBS_O_SUBMIT_FILTER=/usr/local/sbin/torque_submitfilter,', 'PBS_O_WORKDIR=/home/u2459/Intel_MobileODT/notebooks,PBS_O_HOST=c001,', 'PBS_O_SERVER=c001', '    euser = u2459', '    egroup = u2459', '    queue_type = E', '    etime = Mon Mar 20 18:52:10 2017', '    submit_args = job_python_inf.launch', '    fault_tolerant = False', '    job_radix = 0', '    submit_host = c001', '', '']\n",
      "ERR:  \n"
     ]
    }
   ],
   "source": [
    "python_inf_cmd = [\n",
    "    \"python\",\n",
    "    \"-c \\\"import time;time.sleep(1000000000)\\\"\", \n",
    "]\n",
    "job_id, filename = submit_job(python_inf_cmd, 'python_inf', env='export PATH=$PATH:/opt/caffe-master/build/tools/')\n",
    "\n",
    "# while job_is_running(job_id):\n",
    "#     pass\n",
    "\n",
    "get_stats(job_id)"
   ]
  },
  {
   "cell_type": "code",
   "execution_count": 100,
   "metadata": {
    "collapsed": false
   },
   "outputs": [
    {
     "name": "stdout",
     "output_type": "stream",
     "text": [
      "#PBS -l nodes=1:knl7210:ram96gb -o /home/u2459 -e /home/u2459 -N python_inf\r\n",
      "export PATH=$PATH:/opt/caffe-master/build/tools/\r\n",
      "python -c \"import time;time.sleep(1000000000)\""
     ]
    }
   ],
   "source": [
    "!cat {filename}"
   ]
  },
  {
   "cell_type": "code",
   "execution_count": 95,
   "metadata": {
    "collapsed": false
   },
   "outputs": [],
   "source": [
    "!rm ~/python_inf.*"
   ]
  },
  {
   "cell_type": "code",
   "execution_count": 96,
   "metadata": {
    "collapsed": false
   },
   "outputs": [
    {
     "name": "stdout",
     "output_type": "stream",
     "text": [
      "build_opencv\t     Intel_MobileODT  start_digits.sh\ttest_launch\r\n",
      "DIGITS\t\t     keras_source     start_digits.sh~\ttest.py\r\n",
      "digits_dependencies  opencv\t      STDIN.e3535\ttmp\r\n",
      "env.local\t     opencv_source    STDIN.o3535\r\n"
     ]
    }
   ],
   "source": [
    "!ls ~/"
   ]
  },
  {
   "cell_type": "code",
   "execution_count": 97,
   "metadata": {
    "collapsed": false
   },
   "outputs": [
    {
     "name": "stdout",
     "output_type": "stream",
     "text": [
      "Job Id: 3815.c001\r\n",
      "    Job_Name = python_inf\r\n",
      "    Job_Owner = u2459@c001\r\n",
      "    job_state = R\r\n",
      "    queue = batch\r\n",
      "    server = c001\r\n",
      "    Checkpoint = u\r\n",
      "    ctime = Mon Mar 20 18:47:53 2017\r\n",
      "    Error_Path = c001:/home/u2459/python_inf.e3815\r\n",
      "    exec_host = c001-n029/0\r\n",
      "    Hold_Types = n\r\n",
      "    Join_Path = n\r\n",
      "    Keep_Files = n\r\n",
      "    Mail_Points = n\r\n",
      "    mtime = Mon Mar 20 18:47:54 2017\r\n",
      "    Output_Path = c001:/home/u2459/python_inf.o3815\r\n",
      "    Priority = 0\r\n",
      "    qtime = Mon Mar 20 18:47:53 2017\r\n",
      "    Rerunable = True\r\n",
      "    Resource_List.nodect = 1\r\n",
      "    Resource_List.nodes = 1:knl7210:ram96gb\r\n",
      "    Resource_List.walltime = 24:00:00\r\n",
      "    session_id = 235977\r\n",
      "    Variable_List = PBS_O_QUEUE=batch,PBS_O_HOME=/home/u2459,\r\n",
      "\tPBS_O_LOGNAME=u2459,\r\n",
      "\tPBS_O_PATH=/opt/intel/intelpython27/bin/:/opt/intel/intelpython35/bin\r\n",
      "\t/:/opt/intel/compilers_and_libraries_2017.0.098/linux/mpi/intel64/bin:\r\n",
      "\t/opt/intel/compilers_and_libraries_2017.0.098/linux/bin/intel64:/opt/i\r\n",
      "\tntel/compilers_and_libraries_2017.0.098/linux/mpi/intel64/bin:/opt/int\r\n",
      "\tel/debugger_2017/gdb/intel64_mic/bin:/usr/local/bin:/usr/bin:/usr/loca\r\n",
      "\tl/sbin:/usr/sbin:/home/u2459/.local/bin:/home/u2459/bin,\r\n",
      "\tPBS_O_MAIL=/var/spool/mail/u2459,PBS_O_SHELL=/bin/bash,\r\n",
      "\tPBS_O_LANG=en_US.UTF-8,\r\n",
      "\tPBS_O_SUBMIT_FILTER=/usr/local/sbin/torque_submitfilter,\r\n",
      "\tPBS_O_WORKDIR=/home/u2459/Intel_MobileODT/notebooks,PBS_O_HOST=c001,\r\n",
      "\tPBS_O_SERVER=c001\r\n",
      "    euser = u2459\r\n",
      "    egroup = u2459\r\n",
      "    queue_type = E\r\n",
      "    etime = Mon Mar 20 18:47:53 2017\r\n",
      "    submit_args = job_python_inf.launch\r\n",
      "    start_time = Mon Mar 20 18:47:54 2017\r\n",
      "    Walltime.Remaining = 86399\r\n",
      "    start_count = 1\r\n",
      "    fault_tolerant = False\r\n",
      "    job_radix = 0\r\n",
      "    submit_host = c001\r\n",
      "\r\n"
     ]
    }
   ],
   "source": [
    "!qstat -f {job_id.split(\".\")[0]}"
   ]
  },
  {
   "cell_type": "code",
   "execution_count": 98,
   "metadata": {
    "collapsed": false
   },
   "outputs": [
    {
     "name": "stdout",
     "output_type": "stream",
     "text": [
      "out split ['']\n"
     ]
    },
    {
     "ename": "ValueError",
     "evalue": "need more than 1 value to unpack",
     "output_type": "error",
     "traceback": [
      "\u001b[1;31m---------------------------------------------------------------------------\u001b[0m",
      "\u001b[1;31mValueError\u001b[0m                                Traceback (most recent call last)",
      "\u001b[1;32m<ipython-input-98-7a434fa49e9c>\u001b[0m in \u001b[0;36m<module>\u001b[1;34m()\u001b[0m\n\u001b[1;32m----> 1\u001b[1;33m \u001b[0mget_stats\u001b[0m\u001b[1;33m(\u001b[0m\u001b[0mjob_id\u001b[0m\u001b[1;33m)\u001b[0m\u001b[1;33m\u001b[0m\u001b[0m\n\u001b[0m",
      "\u001b[1;32m<ipython-input-90-f9a8b0aefb68>\u001b[0m in \u001b[0;36mget_stats\u001b[1;34m(job_id)\u001b[0m\n\u001b[0;32m     89\u001b[0m     \u001b[0mstats\u001b[0m \u001b[1;33m=\u001b[0m \u001b[1;33m{\u001b[0m\u001b[1;33m}\u001b[0m\u001b[1;33m\u001b[0m\u001b[0m\n\u001b[0;32m     90\u001b[0m     \u001b[1;32mfor\u001b[0m \u001b[0mline\u001b[0m \u001b[1;32min\u001b[0m \u001b[0mout\u001b[0m\u001b[1;33m:\u001b[0m\u001b[1;33m\u001b[0m\u001b[0m\n\u001b[1;32m---> 91\u001b[1;33m         \u001b[0mk\u001b[0m\u001b[1;33m,\u001b[0m \u001b[0mv\u001b[0m \u001b[1;33m=\u001b[0m \u001b[0mline\u001b[0m\u001b[1;33m.\u001b[0m\u001b[0msplit\u001b[0m\u001b[1;33m(\u001b[0m\u001b[1;34m'='\u001b[0m\u001b[1;33m)\u001b[0m\u001b[1;33m\u001b[0m\u001b[0m\n\u001b[0m\u001b[0;32m     92\u001b[0m         \u001b[0mstats\u001b[0m\u001b[1;33m[\u001b[0m\u001b[0mk\u001b[0m\u001b[1;33m]\u001b[0m \u001b[1;33m=\u001b[0m \u001b[0mv\u001b[0m\u001b[1;33m\u001b[0m\u001b[0m\n\u001b[0;32m     93\u001b[0m     \u001b[1;32mprint\u001b[0m \u001b[0mstats\u001b[0m\u001b[1;33m\u001b[0m\u001b[0m\n",
      "\u001b[1;31mValueError\u001b[0m: need more than 1 value to unpack"
     ]
    }
   ],
   "source": [
    "get_stats(job_id)"
   ]
  },
  {
   "cell_type": "code",
   "execution_count": 89,
   "metadata": {
    "collapsed": true
   },
   "outputs": [],
   "source": [
    "!qstat"
   ]
  }
 ],
 "metadata": {
  "kernelspec": {
   "display_name": "Python 2",
   "language": "python",
   "name": "python2"
  },
  "language_info": {
   "codemirror_mode": {
    "name": "ipython",
    "version": 2
   },
   "file_extension": ".py",
   "mimetype": "text/x-python",
   "name": "python",
   "nbconvert_exporter": "python",
   "pygments_lexer": "ipython2",
   "version": "2.7.12"
  }
 },
 "nbformat": 4,
 "nbformat_minor": 0
}
