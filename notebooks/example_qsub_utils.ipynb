{
 "cells": [
  {
   "cell_type": "markdown",
   "metadata": {},
   "source": [
    "# Very basic `qsub`, `qstat`, `qdel` Python wrapper"
   ]
  },
  {
   "cell_type": "markdown",
   "metadata": {},
   "source": [
    "## Basic code"
   ]
  },
  {
   "cell_type": "code",
   "execution_count": 33,
   "metadata": {
    "collapsed": true
   },
   "outputs": [],
   "source": [
    "# qsub_utils\n",
    "\n",
    "import os\n",
    "import subprocess\n",
    "import platform\n",
    "\n",
    "PBS_CONFIGURATION=\"\"\n",
    "\n",
    "def setup_configuration(nodes='', stdout='', stderr=''):\n",
    "    \"\"\"\n",
    "    Method to setup PBS configuration\n",
    "    :param nodes: specify nodes with list of features. `-l nodes={nodes}`\n",
    "    :param stdout: specify stdout file. `-o {stdout}`\n",
    "    :param stderr: specify stderr file. `-e {stderr}`\n",
    "    \"\"\"\n",
    "    global PBS_CONFIGURATION\n",
    "    conf = \"#PBS\"\n",
    "    if len(nodes) > 0:\n",
    "        conf += \" -l nodes=%s\" % nodes        \n",
    "    if len(stdout) > 0:\n",
    "        conf += \" -o %s\" % stdout\n",
    "    if len(stderr) > 0:\n",
    "        conf += \" -e %s\" % stderr\n",
    "        \n",
    "    PBS_CONFIGURATION=conf\n",
    "\n",
    "    \n",
    "def write_launch_file(cmd_str, name, cwd='', env=''):    \n",
    "    \"\"\"\n",
    "    Method to write a PBS launch file for qsub\n",
    "    \n",
    "    :param cmd_str: list of \n",
    "    \"\"\"\n",
    "    assert len(cmd_str) > 0, \"Job command can't be empty\"\n",
    "    assert len(name) > 0, \"Job name can't be empty\"\n",
    "    filename = os.path.join(cwd, \"job_%s.launch\" % name)\n",
    "    with open(filename, 'w') as w:\n",
    "        conf = PBS_CONFIGURATION\n",
    "        conf += \" -N %s\" % name\n",
    "        if len(cwd) > 0:\n",
    "            conf += \" -d %s\" % cwd        \n",
    "        w.write(conf + '\\n')        \n",
    "        if len(env) > 0:\n",
    "            w.write(env + '\\n')\n",
    "        w.write(cmd_str)    \n",
    "        \n",
    "    return filename\n",
    "    \n",
    "    \n",
    "def submit_job(cmd, name, cwd='', env=''):\n",
    "    \"\"\"\n",
    "    Method to submit a job writing a launch file and using qsub\n",
    "    `qsub job_{name}.launch`\n",
    "    \n",
    "    :param cmd:\n",
    "    \"\"\"\n",
    "                    \n",
    "    filename = write_launch_file(' '.join(cmd), name, cwd, env)    \n",
    "    \n",
    "    program = ['qsub', filename]\n",
    "    process = subprocess.Popen(program, \n",
    "                               stdout=subprocess.PIPE,\n",
    "                               stderr=subprocess.STDOUT,\n",
    "                               close_fds=False if platform.system() == 'Windows' else True)\n",
    "    job_id = None\n",
    "    while process.poll() is None:\n",
    "        time.sleep(0.01)\n",
    "    \n",
    "    job_id = process.stdout\n",
    "    assert job_id is not None and len(job_id) > 0, \"Failed to fetch job id from qsub\"\n",
    "    return job_id, filename\n",
    "    "
   ]
  },
  {
   "cell_type": "markdown",
   "metadata": {},
   "source": [
    "## Example"
   ]
  },
  {
   "cell_type": "code",
   "execution_count": 34,
   "metadata": {
    "collapsed": false
   },
   "outputs": [
    {
     "ename": "OSError",
     "evalue": "[Errno 2] No such file or directory",
     "output_type": "error",
     "traceback": [
      "\u001b[0;31m---------------------------------------------------------------------------\u001b[0m",
      "\u001b[0;31mOSError\u001b[0m                                   Traceback (most recent call last)",
      "\u001b[0;32m<ipython-input-34-8734490be843>\u001b[0m in \u001b[0;36m<module>\u001b[0;34m()\u001b[0m\n\u001b[1;32m      5\u001b[0m     \u001b[0;34m\"--help\"\u001b[0m\u001b[0;34m,\u001b[0m\u001b[0;34m\u001b[0m\u001b[0m\n\u001b[1;32m      6\u001b[0m ]\n\u001b[0;32m----> 7\u001b[0;31m \u001b[0mjob_id\u001b[0m\u001b[0;34m,\u001b[0m \u001b[0mfilename\u001b[0m \u001b[0;34m=\u001b[0m \u001b[0msubmit_job\u001b[0m\u001b[0;34m(\u001b[0m\u001b[0mcaffe_help_cmd\u001b[0m\u001b[0;34m,\u001b[0m \u001b[0;34m'help'\u001b[0m\u001b[0;34m,\u001b[0m \u001b[0menv\u001b[0m\u001b[0;34m=\u001b[0m\u001b[0;34m'export PATH=$PATH:/Users/vfomin/Documents/ML/caffe/build/tools/'\u001b[0m\u001b[0;34m)\u001b[0m\u001b[0;34m\u001b[0m\u001b[0m\n\u001b[0m",
      "\u001b[0;32m<ipython-input-33-aaaa34621883>\u001b[0m in \u001b[0;36msubmit_job\u001b[0;34m(cmd, name, cwd, env)\u001b[0m\n\u001b[1;32m     62\u001b[0m                                \u001b[0mstdout\u001b[0m\u001b[0;34m=\u001b[0m\u001b[0msubprocess\u001b[0m\u001b[0;34m.\u001b[0m\u001b[0mPIPE\u001b[0m\u001b[0;34m,\u001b[0m\u001b[0;34m\u001b[0m\u001b[0m\n\u001b[1;32m     63\u001b[0m                                \u001b[0mstderr\u001b[0m\u001b[0;34m=\u001b[0m\u001b[0msubprocess\u001b[0m\u001b[0;34m.\u001b[0m\u001b[0mSTDOUT\u001b[0m\u001b[0;34m,\u001b[0m\u001b[0;34m\u001b[0m\u001b[0m\n\u001b[0;32m---> 64\u001b[0;31m                                close_fds=False if platform.system() == 'Windows' else True)\n\u001b[0m\u001b[1;32m     65\u001b[0m     \u001b[0mjob_id\u001b[0m \u001b[0;34m=\u001b[0m \u001b[0mNone\u001b[0m\u001b[0;34m\u001b[0m\u001b[0m\n\u001b[1;32m     66\u001b[0m     \u001b[0;32mwhile\u001b[0m \u001b[0mprocess\u001b[0m\u001b[0;34m.\u001b[0m\u001b[0mpoll\u001b[0m\u001b[0;34m(\u001b[0m\u001b[0;34m)\u001b[0m \u001b[0;32mis\u001b[0m \u001b[0mNone\u001b[0m\u001b[0;34m:\u001b[0m\u001b[0;34m\u001b[0m\u001b[0m\n",
      "\u001b[0;32m/usr/local/Cellar/python/2.7.13/Frameworks/Python.framework/Versions/2.7/lib/python2.7/subprocess.pyc\u001b[0m in \u001b[0;36m__init__\u001b[0;34m(self, args, bufsize, executable, stdin, stdout, stderr, preexec_fn, close_fds, shell, cwd, env, universal_newlines, startupinfo, creationflags)\u001b[0m\n\u001b[1;32m    388\u001b[0m                                 \u001b[0mp2cread\u001b[0m\u001b[0;34m,\u001b[0m \u001b[0mp2cwrite\u001b[0m\u001b[0;34m,\u001b[0m\u001b[0;34m\u001b[0m\u001b[0m\n\u001b[1;32m    389\u001b[0m                                 \u001b[0mc2pread\u001b[0m\u001b[0;34m,\u001b[0m \u001b[0mc2pwrite\u001b[0m\u001b[0;34m,\u001b[0m\u001b[0;34m\u001b[0m\u001b[0m\n\u001b[0;32m--> 390\u001b[0;31m                                 errread, errwrite)\n\u001b[0m\u001b[1;32m    391\u001b[0m         \u001b[0;32mexcept\u001b[0m \u001b[0mException\u001b[0m\u001b[0;34m:\u001b[0m\u001b[0;34m\u001b[0m\u001b[0m\n\u001b[1;32m    392\u001b[0m             \u001b[0;31m# Preserve original exception in case os.close raises.\u001b[0m\u001b[0;34m\u001b[0m\u001b[0;34m\u001b[0m\u001b[0m\n",
      "\u001b[0;32m/usr/local/Cellar/python/2.7.13/Frameworks/Python.framework/Versions/2.7/lib/python2.7/subprocess.pyc\u001b[0m in \u001b[0;36m_execute_child\u001b[0;34m(self, args, executable, preexec_fn, close_fds, cwd, env, universal_newlines, startupinfo, creationflags, shell, to_close, p2cread, p2cwrite, c2pread, c2pwrite, errread, errwrite)\u001b[0m\n\u001b[1;32m   1022\u001b[0m                         \u001b[0;32mraise\u001b[0m\u001b[0;34m\u001b[0m\u001b[0m\n\u001b[1;32m   1023\u001b[0m                 \u001b[0mchild_exception\u001b[0m \u001b[0;34m=\u001b[0m \u001b[0mpickle\u001b[0m\u001b[0;34m.\u001b[0m\u001b[0mloads\u001b[0m\u001b[0;34m(\u001b[0m\u001b[0mdata\u001b[0m\u001b[0;34m)\u001b[0m\u001b[0;34m\u001b[0m\u001b[0m\n\u001b[0;32m-> 1024\u001b[0;31m                 \u001b[0;32mraise\u001b[0m \u001b[0mchild_exception\u001b[0m\u001b[0;34m\u001b[0m\u001b[0m\n\u001b[0m\u001b[1;32m   1025\u001b[0m \u001b[0;34m\u001b[0m\u001b[0m\n\u001b[1;32m   1026\u001b[0m \u001b[0;34m\u001b[0m\u001b[0m\n",
      "\u001b[0;31mOSError\u001b[0m: [Errno 2] No such file or directory"
     ]
    }
   ],
   "source": [
    "setup_configuration(nodes='1:knl7210:ram96gb', stdout='/home/u2459', stderr='/home/u2459')\n",
    "\n",
    "caffe_help_cmd = [\n",
    "    \"caffe\",\n",
    "    \"--help\", \n",
    "]\n",
    "job_id, filename = submit_job(caffe_help_cmd, 'help', env='export PATH=$PATH:/Users/vfomin/Documents/ML/caffe/build/tools/')"
   ]
  },
  {
   "cell_type": "code",
   "execution_count": 35,
   "metadata": {
    "collapsed": false
   },
   "outputs": [
    {
     "name": "stdout",
     "output_type": "stream",
     "text": [
      "cat: None: No such file or directory\r\n"
     ]
    }
   ],
   "source": [
    "!cat {filename}"
   ]
  },
  {
   "cell_type": "code",
   "execution_count": null,
   "metadata": {
    "collapsed": true
   },
   "outputs": [],
   "source": []
  }
 ],
 "metadata": {
  "kernelspec": {
   "display_name": "Python 2",
   "language": "python",
   "name": "python2"
  },
  "language_info": {
   "codemirror_mode": {
    "name": "ipython",
    "version": 2
   },
   "file_extension": ".py",
   "mimetype": "text/x-python",
   "name": "python",
   "nbconvert_exporter": "python",
   "pygments_lexer": "ipython2",
   "version": "2.7.13"
  }
 },
 "nbformat": 4,
 "nbformat_minor": 0
}
