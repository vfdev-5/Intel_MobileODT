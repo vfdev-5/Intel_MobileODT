{
 "cells": [
  {
   "cell_type": "markdown",
   "metadata": {},
   "source": [
    "# Bruteforce seek of right test values"
   ]
  },
  {
   "cell_type": "code",
   "execution_count": 1,
   "metadata": {
    "collapsed": true
   },
   "outputs": [],
   "source": [
    "import os\n",
    "import sys\n",
    "import numpy as np \n",
    "import pandas as pd"
   ]
  },
  {
   "cell_type": "code",
   "execution_count": 2,
   "metadata": {
    "collapsed": false
   },
   "outputs": [],
   "source": [
    "# Project\n",
    "import sys\n",
    "sys.path.append(os.path.join(os.path.abspath(os.path.dirname('.')), '..', 'common'))"
   ]
  },
  {
   "cell_type": "code",
   "execution_count": 3,
   "metadata": {
    "collapsed": false
   },
   "outputs": [],
   "source": [
    "from data_utils import test_ids"
   ]
  },
  {
   "cell_type": "code",
   "execution_count": null,
   "metadata": {
    "collapsed": true
   },
   "outputs": [],
   "source": []
  },
  {
   "cell_type": "markdown",
   "metadata": {},
   "source": [
    "# Maximal logloss = 34.53878"
   ]
  },
  {
   "cell_type": "code",
   "execution_count": 16,
   "metadata": {
    "collapsed": false
   },
   "outputs": [],
   "source": [
    "info = \"max_logloss\"\n",
    "\n",
    "df = pd.DataFrame(columns=['image_name', 'Type_1', 'Type_2', 'Type_3'])\n",
    "total_counter = 0\n",
    "ll = len(test_ids)\n",
    "for image_id in test_ids:\n",
    "    df.loc[total_counter, :] = (image_id + '.jpg',) + (0.0, 0.0, 0.0)\n",
    "    total_counter += 1\n",
    "sub_file = 'cheat_submission_' + info + '.csv'\n",
    "sub_file = os.path.join('..', 'results', sub_file)\n",
    "df.to_csv(sub_file, index=False)"
   ]
  },
  {
   "cell_type": "code",
   "execution_count": 17,
   "metadata": {
    "collapsed": false
   },
   "outputs": [
    {
     "name": "stdout",
     "output_type": "stream",
     "text": [
      "image_name,Type_1,Type_2,Type_3\r\n",
      "0.jpg,0.0,0.0,0.0\r\n",
      "1.jpg,0.0,0.0,0.0\r\n",
      "10.jpg,0.0,0.0,0.0\r\n",
      "100.jpg,0.0,0.0,0.0\r\n",
      "101.jpg,0.0,0.0,0.0\r\n",
      "102.jpg,0.0,0.0,0.0\r\n",
      "103.jpg,0.0,0.0,0.0\r\n",
      "104.jpg,0.0,0.0,0.0\r\n",
      "105.jpg,0.0,0.0,0.0\r\n"
     ]
    }
   ],
   "source": [
    "!cat {sub_file} | head"
   ]
  },
  {
   "cell_type": "code",
   "execution_count": null,
   "metadata": {
    "collapsed": true
   },
   "outputs": [],
   "source": []
  },
  {
   "cell_type": "markdown",
   "metadata": {},
   "source": [
    "# Image 0.jpg = (0.0, 1.0, 0.0)\n",
    "\n",
    "`logloss = 34.47132`"
   ]
  },
  {
   "cell_type": "code",
   "execution_count": 20,
   "metadata": {
    "collapsed": false
   },
   "outputs": [],
   "source": [
    "info = \"image_0\"\n",
    "\n",
    "df = pd.DataFrame(columns=['image_name', 'Type_1', 'Type_2', 'Type_3'])\n",
    "total_counter = 0\n",
    "ll = len(test_ids)\n",
    "for image_id in test_ids:\n",
    "    df.loc[total_counter, :] = (image_id + '.jpg',) + (0.0, 0.0, 0.0)\n",
    "    total_counter += 1\n",
    "    \n",
    "df.loc[0, 'Type_2'] = 1.0 \n",
    "sub_file = 'cheat_submission_' + info + '.csv'\n",
    "sub_file = os.path.join('..', 'results', sub_file)\n",
    "df.to_csv(sub_file, index=False)"
   ]
  },
  {
   "cell_type": "code",
   "execution_count": 21,
   "metadata": {
    "collapsed": false
   },
   "outputs": [
    {
     "name": "stdout",
     "output_type": "stream",
     "text": [
      "image_name,Type_1,Type_2,Type_3\r\n",
      "0.jpg,0.0,1.0,0.0\r\n",
      "1.jpg,0.0,0.0,0.0\r\n",
      "10.jpg,0.0,0.0,0.0\r\n",
      "100.jpg,0.0,0.0,0.0\r\n",
      "101.jpg,0.0,0.0,0.0\r\n",
      "102.jpg,0.0,0.0,0.0\r\n",
      "103.jpg,0.0,0.0,0.0\r\n",
      "104.jpg,0.0,0.0,0.0\r\n",
      "105.jpg,0.0,0.0,0.0\r\n"
     ]
    }
   ],
   "source": [
    "!cat {sub_file} | head"
   ]
  },
  {
   "cell_type": "code",
   "execution_count": null,
   "metadata": {
    "collapsed": true
   },
   "outputs": [],
   "source": []
  },
  {
   "cell_type": "code",
   "execution_count": null,
   "metadata": {
    "collapsed": true
   },
   "outputs": [],
   "source": []
  },
  {
   "cell_type": "code",
   "execution_count": null,
   "metadata": {
    "collapsed": true
   },
   "outputs": [],
   "source": []
  },
  {
   "cell_type": "code",
   "execution_count": null,
   "metadata": {
    "collapsed": true
   },
   "outputs": [],
   "source": []
  },
  {
   "cell_type": "code",
   "execution_count": null,
   "metadata": {
    "collapsed": true
   },
   "outputs": [],
   "source": []
  },
  {
   "cell_type": "code",
   "execution_count": null,
   "metadata": {
    "collapsed": true
   },
   "outputs": [],
   "source": []
  },
  {
   "cell_type": "code",
   "execution_count": null,
   "metadata": {
    "collapsed": true
   },
   "outputs": [],
   "source": []
  },
  {
   "cell_type": "code",
   "execution_count": 4,
   "metadata": {
    "collapsed": true
   },
   "outputs": [],
   "source": [
    "from metrics import logloss_mc"
   ]
  },
  {
   "cell_type": "code",
   "execution_count": 5,
   "metadata": {
    "collapsed": false
   },
   "outputs": [
    {
     "data": {
      "text/plain": [
       "34.471321"
      ]
     },
     "execution_count": 5,
     "metadata": {},
     "output_type": "execute_result"
    }
   ],
   "source": [
    "y_true = np.zeros((512, 3), dtype=np.float32)\n",
    "y_true[:, 0] = 1.0\n",
    "\n",
    "y_pred = np.zeros((512, 3), dtype=np.float32)\n",
    "y_pred[0, 0] = 1.0\n",
    "\n",
    "logloss_mc(y_true, y_pred)#, log_loss(y_true, y_pred)\n"
   ]
  },
  {
   "cell_type": "code",
   "execution_count": null,
   "metadata": {
    "collapsed": true
   },
   "outputs": [],
   "source": []
  },
  {
   "cell_type": "code",
   "execution_count": 37,
   "metadata": {
    "collapsed": false
   },
   "outputs": [
    {
     "data": {
      "text/plain": [
       "2"
      ]
     },
     "execution_count": 37,
     "metadata": {},
     "output_type": "execute_result"
    }
   ],
   "source": [
    "np.random.randint(3)"
   ]
  },
  {
   "cell_type": "code",
   "execution_count": 10,
   "metadata": {
    "collapsed": false
   },
   "outputs": [
    {
     "data": {
      "text/plain": [
       "15.448009"
      ]
     },
     "execution_count": 10,
     "metadata": {},
     "output_type": "execute_result"
    }
   ],
   "source": [
    "y_true = np.zeros((512, 3), dtype=np.float32)\n",
    "y_true[:, 0] = 1.0\n",
    "\n",
    "y_pred = np.zeros((512, 3), dtype=np.float32)\n",
    "#y_pred[:41, 0] = np.random.randint(3, size=(41,))\n",
    "#y_pred[41:, 0] = 1.0\n",
    "y_pred[41:, 0] = np.random.randint(3, size=(471,))\n",
    "\n",
    "logloss_mc(y_true, y_pred)#, log_loss(y_true, y_pred)\n"
   ]
  },
  {
   "cell_type": "code",
   "execution_count": null,
   "metadata": {
    "collapsed": true
   },
   "outputs": [],
   "source": []
  }
 ],
 "metadata": {
  "kernelspec": {
   "display_name": "Python 2",
   "language": "python",
   "name": "python2"
  },
  "language_info": {
   "codemirror_mode": {
    "name": "ipython",
    "version": 2
   },
   "file_extension": ".py",
   "mimetype": "text/x-python",
   "name": "python",
   "nbconvert_exporter": "python",
   "pygments_lexer": "ipython2",
   "version": "2.7.13"
  }
 },
 "nbformat": 4,
 "nbformat_minor": 0
}
