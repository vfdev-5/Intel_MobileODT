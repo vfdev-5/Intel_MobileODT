{
 "cells": [
  {
   "cell_type": "markdown",
   "metadata": {},
   "source": [
    "# Tryout DIGITS"
   ]
  },
  {
   "cell_type": "code",
   "execution_count": 5,
   "metadata": {
    "collapsed": false
   },
   "outputs": [],
   "source": [
    "import os"
   ]
  },
  {
   "cell_type": "code",
   "execution_count": null,
   "metadata": {
    "collapsed": true
   },
   "outputs": [],
   "source": [
    "# Project\n",
    "import sys\n",
    "pwd=os.path.abspath(os.path.dirname('.'))\n",
    "sys.path.append(os.path.join(pwd, '..', 'common'))"
   ]
  },
  {
   "cell_type": "code",
   "execution_count": 28,
   "metadata": {
    "collapsed": true
   },
   "outputs": [],
   "source": [
    "from data_utils import type_1_files, type_2_files, type_3_files, test_ids\n",
    "from data_utils import get_filename, type_to_index\n",
    "from training_utils import get_trainval_id_type_lists"
   ]
  },
  {
   "cell_type": "markdown",
   "metadata": {},
   "source": [
    "## Create training/validation text files to store images as datasets"
   ]
  },
  {
   "cell_type": "code",
   "execution_count": 2,
   "metadata": {
    "collapsed": false
   },
   "outputs": [
    {
     "name": "stdout",
     "output_type": "stream",
     "text": [
      "Train dataset contains : \n",
      "('-', [175, 546, 315], ' images of corresponding types')\n",
      "Validation dataset contains : \n",
      "('-', [75, 234, 135], ' images of corresponding types')\n"
     ]
    }
   ],
   "source": [
    "train_id_type_list, val_id_type_list = get_trainval_id_type_lists()\n",
    "RESOURCES_PATH=os.path.join(pwd, '..', 'resources')"
   ]
  },
  {
   "cell_type": "code",
   "execution_count": 21,
   "metadata": {
    "collapsed": false
   },
   "outputs": [
    {
     "name": "stdout",
     "output_type": "stream",
     "text": [
      "Remove file: /home/u2459/Intel_MobileODT/notebooks/../resources/digits/train.txt\n"
     ]
    }
   ],
   "source": [
    "# Create train.txt : all images without 1339.jpg in Type_1\n",
    "filename=os.path.join(RESOURCES_PATH, 'digits', 'train.txt')\n",
    "if os.path.exists(filename):\n",
    "    print(\"Remove file: %s\" % filename)\n",
    "    os.remove(filename)    \n",
    "    \n",
    "with open(filename, 'w') as r:    \n",
    "    for image_id, image_type in train_id_type_list:\n",
    "        if image_id == '1339' and image_type == \"Type_1\":\n",
    "            continue\n",
    "        r.write(get_filename(image_id, image_type) + \" %i\\n\" % type_to_index[image_type])"
   ]
  },
  {
   "cell_type": "code",
   "execution_count": 22,
   "metadata": {
    "collapsed": false
   },
   "outputs": [
    {
     "name": "stdout",
     "output_type": "stream",
     "text": [
      "1638\n",
      "/data/kaggle/train/Type_1/1194.jpg 0\n",
      "/data/kaggle/train/Type_2/929.jpg 1\n",
      "/data/kaggle/train/Type_3/878.jpg 2\n",
      "/data/kaggle/train/Type_1/356.jpg 0\n",
      "/data/kaggle/train/Type_2/867.jpg 1\n",
      "/data/kaggle/train/Type_3/277.jpg 2\n",
      "/data/kaggle/train/Type_1/1199.jpg 0\n",
      "/data/kaggle/train/Type_2/946.jpg 1\n",
      "/data/kaggle/train/Type_3/1244.jpg 2\n",
      "/data/kaggle/train/Type_1/677.jpg 0\n"
     ]
    }
   ],
   "source": [
    "!cat {filename} | wc -l\n",
    "!head -n 10 {filename}\n",
    "!cat {filename} | grep '1339'"
   ]
  },
  {
   "cell_type": "code",
   "execution_count": 26,
   "metadata": {
    "collapsed": false
   },
   "outputs": [],
   "source": [
    "# Create val.txt : all images without 1339.jpg in Type_1\n",
    "filename=os.path.join(RESOURCES_PATH, 'digits', 'val.txt')\n",
    "if os.path.exists(filename):\n",
    "    print(\"Remove file: %s\" % filename)\n",
    "    os.remove(filename)    \n",
    "    \n",
    "with open(filename, 'w') as r:    \n",
    "    for image_id, image_type in val_id_type_list:\n",
    "        if image_id == '1339' and image_type == \"Type_1\":\n",
    "            continue\n",
    "        r.write(get_filename(image_id, image_type) + \" %i\\n\" % type_to_index[image_type])"
   ]
  },
  {
   "cell_type": "code",
   "execution_count": 27,
   "metadata": {
    "collapsed": false
   },
   "outputs": [
    {
     "name": "stdout",
     "output_type": "stream",
     "text": [
      "699\n",
      "/data/kaggle/train/Type_1/580.jpg 0\n",
      "/data/kaggle/train/Type_2/717.jpg 1\n",
      "/data/kaggle/train/Type_3/512.jpg 2\n",
      "/data/kaggle/train/Type_1/660.jpg 0\n",
      "/data/kaggle/train/Type_2/447.jpg 1\n",
      "/data/kaggle/train/Type_3/1167.jpg 2\n",
      "/data/kaggle/train/Type_1/596.jpg 0\n",
      "/data/kaggle/train/Type_2/1054.jpg 1\n",
      "/data/kaggle/train/Type_3/646.jpg 2\n",
      "/data/kaggle/train/Type_1/308.jpg 0\n"
     ]
    }
   ],
   "source": [
    "!cat {filename} | wc -l\n",
    "!head -n 10 {filename}\n",
    "!cat {filename} | grep '1339'"
   ]
  },
  {
   "cell_type": "code",
   "execution_count": 24,
   "metadata": {
    "collapsed": true
   },
   "outputs": [],
   "source": [
    "# Create labels.txt\n",
    "filename=os.path.join(RESOURCES_PATH, 'digits', 'labels.txt')\n",
    "if os.path.exists(filename):\n",
    "    print(\"Remove file: %s\" % filename)\n",
    "    os.remove(filename)    \n",
    "    \n",
    "with open(filename, 'w') as r:\n",
    "    r.write(\"Type_1\\n\")\n",
    "    r.write(\"Type_2\\n\")\n",
    "    r.write(\"Type_3\\n\")"
   ]
  },
  {
   "cell_type": "code",
   "execution_count": 25,
   "metadata": {
    "collapsed": false
   },
   "outputs": [
    {
     "name": "stdout",
     "output_type": "stream",
     "text": [
      "Type_1\r\n",
      "Type_2\r\n",
      "Type_3\r\n"
     ]
    }
   ],
   "source": [
    "!cat {filename}"
   ]
  },
  {
   "cell_type": "code",
   "execution_count": null,
   "metadata": {
    "collapsed": true
   },
   "outputs": [],
   "source": []
  },
  {
   "cell_type": "markdown",
   "metadata": {},
   "source": [
    "## Submit a DIGITS dataset creation job to the cluster\n",
    "```\n",
    "Create DB (train) task started.\n",
    "\"/opt/intel/intelpython27/bin/python2 /home/u2459/DIGITS/digits/tools/create_db.py /home/u2459/Intel_MobileODT/resources/digits/train.txt /home/u2459/DIGITS/digits/jobs/20170318-130703-d9e2/train_db 224 224 --backend=lmdb --channels=3 --resize_mode=squash --mean_file=/home/u2459/DIGITS/digits/jobs/20170318-130703-d9e2/mean.binaryproto --mean_file=/home/u2459/DIGITS/digits/jobs/20170318-130703-d9e2/mean.jpg --shuffle --encoding=png\"\n",
    "\n",
    "Create DB (val) task started.\n",
    "\"/opt/intel/intelpython27/bin/python2 /home/u2459/DIGITS/digits/tools/create_db.py /home/u2459/Intel_MobileODT/resources/digits/val.txt /home/u2459/DIGITS/digits/jobs/20170318-130703-d9e2/val_db 224 224 --backend=lmdb --channels=3 --resize_mode=squash --shuffle --encoding=png\"\n",
    "```\n"
   ]
  },
  {
   "cell_type": "code",
   "execution_count": 140,
   "metadata": {
    "collapsed": true
   },
   "outputs": [],
   "source": [
    "env=\"PYTHONPATH=$PYTHONPATH:/home/u2459/digits_dependencies/lib/python2.7/site-packages/ CAFFE_ROOT=/opt/caffe-master/\"\n",
    "\n",
    "def submit_job(cmd, env=env):\n",
    "    job_id = !echo {env} {cmd} | qsub -l nodes=1:knl -d /home/u2459\n",
    "    return job_id \n",
    "\n",
    "def checkout_job(job_id):\n",
    "    print(job_id)\n",
    "    !qstat\n",
    "    !cat ~/STDIN.o{job_id[0].split('.')[0]}\n",
    "    !cat ~/STDIN.e{job_id[0].split('.')[0]}"
   ]
  },
  {
   "cell_type": "code",
   "execution_count": 30,
   "metadata": {
    "collapsed": true
   },
   "outputs": [],
   "source": [
    "INPUT_PATH=os.path.join(pwd, '..', 'input')"
   ]
  },
  {
   "cell_type": "code",
   "execution_count": 122,
   "metadata": {
    "collapsed": false
   },
   "outputs": [],
   "source": [
    "create_train_db_cmd=[\n",
    "    \"python\", \n",
    "    \"/home/u2459/DIGITS/digits/tools/create_db.py\",\n",
    "    os.path.join(RESOURCES_PATH, 'digits', 'train.txt'),\n",
    "    os.path.join(INPUT_PATH, 'train_db.lmdb'), \n",
    "    \"224\",\n",
    "    \"224\",\n",
    "    \"--backend=lmdb\", \n",
    "    \"--channels=3\",\n",
    "    \"--resize_mode=squash\",\n",
    "    \"--mean_file=\"+os.path.join(INPUT_PATH, 'mean.binaryproto'),\n",
    "    \"--mean_file=\"+os.path.join(INPUT_PATH, 'mean.jpg'),\n",
    "    \"--shuffle\",\n",
    "    \"--encoding=png\"\n",
    "]\n",
    "create_train_db_cmd = ' '.join(create_train_db_cmd)\n",
    "\n",
    "create_val_db_cmd=[\n",
    "    \"python\", \n",
    "    \"/home/u2459/DIGITS/digits/tools/create_db.py\",\n",
    "    os.path.join(RESOURCES_PATH, 'digits', 'val.txt'),\n",
    "    os.path.join(INPUT_PATH, 'val_db.lmdb'), \n",
    "    \"224\",\n",
    "    \"224\",\n",
    "    \"--backend=lmdb\", \n",
    "    \"--channels=3\",\n",
    "    \"--resize_mode=squash\",\n",
    "    \"--shuffle\",\n",
    "    \"--encoding=png\"\n",
    "]\n",
    "create_val_db_cmd = ' '.join(create_val_db_cmd)"
   ]
  },
  {
   "cell_type": "code",
   "execution_count": 87,
   "metadata": {
    "collapsed": false
   },
   "outputs": [],
   "source": [
    "job_id = submit_job(create_train_db_cmd)"
   ]
  },
  {
   "cell_type": "code",
   "execution_count": 128,
   "metadata": {
    "collapsed": false
   },
   "outputs": [
    {
     "name": "stdout",
     "output_type": "stream",
     "text": [
      "['3516.c001']\n",
      "Job ID                    Name             User            Time Use S Queue\n",
      "------------------------- ---------------- --------------- -------- - -----\n",
      "3499.c001                  kaggle_mobileODT u2459           10:28:26 R batch          \n",
      "3517.c001                  STDIN            u2459                  0 R batch          \n",
      "\n",
      "  ########################################################################\n",
      "  # Colfax Cluster - https://colfaxresearch.com/\n",
      "  #      Date:           Sat Mar 18 14:41:16 PDT 2017\n",
      "  #    Job ID:           3516.c001\n",
      "  #      User:           u2459\n",
      "  # Resources:           neednodes=1:knl,nodes=1:knl,walltime=24:00:00\n",
      "  ########################################################################\n",
      "  \n",
      "2017-03-18 14:41:26 [DEBUG] 1638 total lines in file\n",
      "2017-03-18 14:41:26 [INFO ] 1638 valid lines in file\n",
      "2017-03-18 14:41:26 [DEBUG] Category 0 has 546 images.\n",
      "2017-03-18 14:41:26 [DEBUG] Category 1 has 546 images.\n",
      "2017-03-18 14:41:26 [DEBUG] Category 2 has 546 images.\n",
      "2017-03-18 14:41:28 [DEBUG] Processed 0/1638\n",
      "2017-03-18 14:41:30 [DEBUG] Processed 0/1638\n",
      "2017-03-18 14:41:32 [DEBUG] Processed 0/1638\n",
      "2017-03-18 14:41:34 [DEBUG] Processed 0/1638\n",
      "2017-03-18 14:41:36 [DEBUG] Processed 0/1638\n",
      "2017-03-18 14:41:39 [DEBUG] Processed 0/1638\n",
      "2017-03-18 14:41:41 [DEBUG] Processed 0/1638\n",
      "2017-03-18 14:41:43 [DEBUG] Processed 0/1638\n",
      "2017-03-18 14:41:45 [DEBUG] Processed 0/1638\n",
      "2017-03-18 14:41:47 [DEBUG] Processed 0/1638\n",
      "2017-03-18 14:41:49 [DEBUG] Processed 0/1638\n",
      "2017-03-18 14:41:52 [DEBUG] Processed 0/1638\n",
      "2017-03-18 14:41:54 [DEBUG] Processed 0/1638\n",
      "2017-03-18 14:41:56 [DEBUG] Processed 0/1638\n",
      "2017-03-18 14:41:58 [DEBUG] Processed 0/1638\n",
      "2017-03-18 14:42:00 [DEBUG] Processed 0/1638\n",
      "2017-03-18 14:42:02 [DEBUG] Processed 0/1638\n",
      "2017-03-18 14:42:04 [DEBUG] Processed 0/1638\n",
      "2017-03-18 14:42:06 [DEBUG] Processed 0/1638\n",
      "2017-03-18 14:42:08 [DEBUG] Processed 0/1638\n",
      "2017-03-18 14:42:10 [DEBUG] Processed 100/1638\n",
      "2017-03-18 14:42:13 [DEBUG] Processed 100/1638\n",
      "2017-03-18 14:42:15 [DEBUG] Processed 100/1638\n",
      "2017-03-18 14:42:17 [DEBUG] Processed 100/1638\n",
      "2017-03-18 14:42:19 [DEBUG] Processed 100/1638\n",
      "2017-03-18 14:42:21 [DEBUG] Processed 100/1638\n",
      "2017-03-18 14:42:23 [DEBUG] Processed 100/1638\n",
      "2017-03-18 14:42:25 [DEBUG] Processed 100/1638\n",
      "2017-03-18 14:42:27 [DEBUG] Processed 100/1638\n",
      "2017-03-18 14:42:29 [DEBUG] Processed 100/1638\n",
      "2017-03-18 14:42:32 [DEBUG] Processed 100/1638\n",
      "2017-03-18 14:42:34 [DEBUG] Processed 100/1638\n",
      "2017-03-18 14:42:36 [DEBUG] Processed 100/1638\n",
      "2017-03-18 14:42:38 [DEBUG] Processed 100/1638\n",
      "2017-03-18 14:42:40 [DEBUG] Processed 100/1638\n",
      "2017-03-18 14:42:42 [DEBUG] Processed 200/1638\n",
      "2017-03-18 14:42:44 [DEBUG] Processed 200/1638\n",
      "2017-03-18 14:42:46 [DEBUG] Processed 200/1638\n",
      "2017-03-18 14:42:49 [DEBUG] Processed 200/1638\n",
      "2017-03-18 14:42:51 [DEBUG] Processed 200/1638\n",
      "2017-03-18 14:42:53 [DEBUG] Processed 200/1638\n",
      "2017-03-18 14:42:55 [DEBUG] Processed 200/1638\n",
      "2017-03-18 14:42:57 [DEBUG] Processed 200/1638\n",
      "2017-03-18 14:42:59 [DEBUG] Processed 200/1638\n",
      "2017-03-18 14:43:01 [DEBUG] Processed 200/1638\n",
      "2017-03-18 14:43:03 [DEBUG] Processed 200/1638\n",
      "2017-03-18 14:43:05 [DEBUG] Processed 200/1638\n",
      "2017-03-18 14:43:08 [DEBUG] Processed 200/1638\n",
      "2017-03-18 14:43:10 [DEBUG] Processed 200/1638\n",
      "2017-03-18 14:43:12 [DEBUG] Processed 200/1638\n",
      "2017-03-18 14:43:14 [DEBUG] Processed 200/1638\n",
      "2017-03-18 14:43:16 [DEBUG] Processed 300/1638\n",
      "2017-03-18 14:43:18 [DEBUG] Processed 300/1638\n",
      "2017-03-18 14:43:20 [DEBUG] Processed 300/1638\n",
      "2017-03-18 14:43:23 [DEBUG] Processed 300/1638\n",
      "2017-03-18 14:43:25 [DEBUG] Processed 300/1638\n",
      "2017-03-18 14:43:27 [DEBUG] Processed 300/1638\n",
      "2017-03-18 14:43:29 [DEBUG] Processed 300/1638\n",
      "2017-03-18 14:43:31 [DEBUG] Processed 300/1638\n",
      "2017-03-18 14:43:34 [DEBUG] Processed 300/1638\n",
      "2017-03-18 14:43:36 [DEBUG] Processed 300/1638\n",
      "2017-03-18 14:43:38 [DEBUG] Processed 300/1638\n",
      "2017-03-18 14:43:40 [DEBUG] Processed 300/1638\n",
      "2017-03-18 14:43:42 [DEBUG] Processed 300/1638\n",
      "2017-03-18 14:43:44 [DEBUG] Processed 300/1638\n",
      "2017-03-18 14:43:46 [DEBUG] Processed 300/1638\n",
      "2017-03-18 14:43:49 [DEBUG] Processed 400/1638\n",
      "2017-03-18 14:43:51 [DEBUG] Processed 400/1638\n",
      "2017-03-18 14:43:53 [DEBUG] Processed 400/1638\n",
      "2017-03-18 14:43:55 [DEBUG] Processed 400/1638\n",
      "2017-03-18 14:43:57 [DEBUG] Processed 400/1638\n",
      "2017-03-18 14:43:59 [DEBUG] Processed 400/1638\n",
      "2017-03-18 14:44:01 [DEBUG] Processed 400/1638\n",
      "2017-03-18 14:44:03 [DEBUG] Processed 400/1638\n",
      "2017-03-18 14:44:06 [DEBUG] Processed 400/1638\n",
      "2017-03-18 14:44:08 [DEBUG] Processed 400/1638\n",
      "2017-03-18 14:44:10 [DEBUG] Processed 400/1638\n",
      "2017-03-18 14:44:12 [DEBUG] Processed 400/1638\n",
      "2017-03-18 14:44:14 [DEBUG] Processed 400/1638\n",
      "2017-03-18 14:44:16 [DEBUG] Processed 400/1638\n",
      "2017-03-18 14:44:19 [DEBUG] Processed 400/1638\n",
      "2017-03-18 14:44:21 [DEBUG] Processed 500/1638\n",
      "2017-03-18 14:44:23 [DEBUG] Processed 500/1638\n",
      "2017-03-18 14:44:25 [DEBUG] Processed 500/1638\n",
      "2017-03-18 14:44:27 [DEBUG] Processed 500/1638\n",
      "2017-03-18 14:44:29 [DEBUG] Processed 500/1638\n",
      "2017-03-18 14:44:31 [DEBUG] Processed 500/1638\n",
      "2017-03-18 14:44:33 [DEBUG] Processed 500/1638\n",
      "2017-03-18 14:44:35 [DEBUG] Processed 500/1638\n",
      "2017-03-18 14:44:37 [DEBUG] Processed 500/1638\n",
      "2017-03-18 14:44:39 [DEBUG] Processed 500/1638\n",
      "2017-03-18 14:44:41 [DEBUG] Processed 500/1638\n",
      "2017-03-18 14:44:44 [DEBUG] Processed 500/1638\n",
      "2017-03-18 14:44:46 [DEBUG] Processed 500/1638\n",
      "2017-03-18 14:44:48 [DEBUG] Processed 500/1638\n",
      "2017-03-18 14:44:50 [DEBUG] Processed 500/1638\n",
      "2017-03-18 14:44:52 [DEBUG] Processed 600/1638\n",
      "2017-03-18 14:44:54 [DEBUG] Processed 600/1638\n",
      "2017-03-18 14:44:56 [DEBUG] Processed 600/1638\n",
      "2017-03-18 14:44:59 [DEBUG] Processed 600/1638\n",
      "2017-03-18 14:45:01 [DEBUG] Processed 600/1638\n",
      "2017-03-18 14:45:03 [DEBUG] Processed 600/1638\n",
      "2017-03-18 14:45:05 [DEBUG] Processed 600/1638\n",
      "2017-03-18 14:45:07 [DEBUG] Processed 600/1638\n",
      "2017-03-18 14:45:09 [DEBUG] Processed 600/1638\n",
      "2017-03-18 14:45:11 [DEBUG] Processed 600/1638\n",
      "2017-03-18 14:45:13 [DEBUG] Processed 600/1638\n",
      "2017-03-18 14:45:15 [DEBUG] Processed 600/1638\n",
      "2017-03-18 14:45:17 [DEBUG] Processed 600/1638\n",
      "2017-03-18 14:45:20 [DEBUG] Processed 600/1638\n",
      "2017-03-18 14:45:22 [DEBUG] Processed 600/1638\n",
      "2017-03-18 14:45:24 [DEBUG] Processed 600/1638\n",
      "2017-03-18 14:45:26 [DEBUG] Processed 700/1638\n",
      "2017-03-18 14:45:28 [DEBUG] Processed 700/1638\n",
      "2017-03-18 14:45:30 [DEBUG] Processed 700/1638\n",
      "2017-03-18 14:45:32 [DEBUG] Processed 700/1638\n",
      "2017-03-18 14:45:34 [DEBUG] Processed 700/1638\n",
      "2017-03-18 14:45:36 [DEBUG] Processed 700/1638\n",
      "2017-03-18 14:45:38 [DEBUG] Processed 700/1638\n",
      "2017-03-18 14:45:40 [DEBUG] Processed 700/1638\n",
      "2017-03-18 14:45:43 [DEBUG] Processed 700/1638\n",
      "2017-03-18 14:45:45 [DEBUG] Processed 700/1638\n",
      "2017-03-18 14:45:47 [DEBUG] Processed 700/1638\n",
      "2017-03-18 14:45:49 [DEBUG] Processed 700/1638\n",
      "2017-03-18 14:45:51 [DEBUG] Processed 700/1638\n",
      "2017-03-18 14:45:53 [DEBUG] Processed 700/1638\n",
      "2017-03-18 14:45:56 [DEBUG] Processed 700/1638\n",
      "2017-03-18 14:45:58 [DEBUG] Processed 800/1638\n",
      "2017-03-18 14:46:00 [DEBUG] Processed 800/1638\n",
      "2017-03-18 14:46:02 [DEBUG] Processed 800/1638\n",
      "2017-03-18 14:46:04 [DEBUG] Processed 800/1638\n",
      "2017-03-18 14:46:06 [DEBUG] Processed 800/1638\n",
      "2017-03-18 14:46:08 [DEBUG] Processed 800/1638\n",
      "2017-03-18 14:46:11 [DEBUG] Processed 800/1638\n",
      "2017-03-18 14:46:13 [DEBUG] Processed 800/1638\n",
      "2017-03-18 14:46:15 [DEBUG] Processed 800/1638\n",
      "2017-03-18 14:46:17 [DEBUG] Processed 800/1638\n",
      "2017-03-18 14:46:19 [DEBUG] Processed 800/1638\n",
      "2017-03-18 14:46:21 [DEBUG] Processed 800/1638\n",
      "2017-03-18 14:46:24 [DEBUG] Processed 800/1638\n",
      "2017-03-18 14:46:26 [DEBUG] Processed 800/1638\n",
      "2017-03-18 14:46:28 [DEBUG] Processed 800/1638\n",
      "2017-03-18 14:46:30 [DEBUG] Processed 900/1638\n",
      "2017-03-18 14:46:32 [DEBUG] Processed 900/1638\n",
      "2017-03-18 14:46:34 [DEBUG] Processed 900/1638\n",
      "2017-03-18 14:46:36 [DEBUG] Processed 900/1638\n",
      "2017-03-18 14:46:38 [DEBUG] Processed 900/1638\n",
      "2017-03-18 14:46:40 [DEBUG] Processed 900/1638\n",
      "2017-03-18 14:46:42 [DEBUG] Processed 900/1638\n",
      "2017-03-18 14:46:44 [DEBUG] Processed 900/1638\n",
      "2017-03-18 14:46:47 [DEBUG] Processed 900/1638\n",
      "2017-03-18 14:46:49 [DEBUG] Processed 900/1638\n",
      "2017-03-18 14:46:51 [DEBUG] Processed 900/1638\n",
      "2017-03-18 14:46:53 [DEBUG] Processed 900/1638\n",
      "2017-03-18 14:46:55 [DEBUG] Processed 900/1638\n",
      "2017-03-18 14:46:57 [DEBUG] Processed 900/1638\n",
      "2017-03-18 14:46:59 [DEBUG] Processed 900/1638\n",
      "2017-03-18 14:47:01 [DEBUG] Processed 1000/1638\n",
      "2017-03-18 14:47:04 [DEBUG] Processed 1000/1638\n",
      "2017-03-18 14:47:06 [DEBUG] Processed 1000/1638\n",
      "2017-03-18 14:47:08 [DEBUG] Processed 1000/1638\n",
      "2017-03-18 14:47:10 [DEBUG] Processed 1000/1638\n",
      "2017-03-18 14:47:12 [DEBUG] Processed 1000/1638\n",
      "2017-03-18 14:47:14 [DEBUG] Processed 1000/1638\n",
      "2017-03-18 14:47:16 [DEBUG] Processed 1000/1638\n",
      "2017-03-18 14:47:18 [DEBUG] Processed 1000/1638\n",
      "2017-03-18 14:47:21 [DEBUG] Processed 1000/1638\n",
      "2017-03-18 14:47:23 [DEBUG] Processed 1000/1638\n",
      "2017-03-18 14:47:25 [DEBUG] Processed 1000/1638\n",
      "2017-03-18 14:47:27 [DEBUG] Processed 1000/1638\n",
      "2017-03-18 14:47:29 [DEBUG] Processed 1000/1638\n",
      "2017-03-18 14:47:31 [DEBUG] Processed 1000/1638\n",
      "2017-03-18 14:47:34 [DEBUG] Processed 1100/1638\n",
      "2017-03-18 14:47:36 [DEBUG] Processed 1100/1638\n",
      "2017-03-18 14:47:38 [DEBUG] Processed 1100/1638\n",
      "2017-03-18 14:47:40 [DEBUG] Processed 1100/1638\n",
      "2017-03-18 14:47:42 [DEBUG] Processed 1100/1638\n",
      "2017-03-18 14:47:44 [DEBUG] Processed 1100/1638\n",
      "2017-03-18 14:47:46 [DEBUG] Processed 1100/1638\n",
      "2017-03-18 14:47:48 [DEBUG] Processed 1100/1638\n",
      "2017-03-18 14:47:50 [DEBUG] Processed 1100/1638\n",
      "2017-03-18 14:47:53 [DEBUG] Processed 1100/1638\n",
      "2017-03-18 14:47:55 [DEBUG] Processed 1100/1638\n",
      "2017-03-18 14:47:57 [DEBUG] Processed 1100/1638\n",
      "2017-03-18 14:47:59 [DEBUG] Processed 1100/1638\n",
      "2017-03-18 14:48:01 [DEBUG] Processed 1100/1638\n",
      "2017-03-18 14:48:03 [DEBUG] Processed 1100/1638\n",
      "2017-03-18 14:48:05 [DEBUG] Processed 1200/1638\n",
      "2017-03-18 14:48:07 [DEBUG] Processed 1200/1638\n",
      "2017-03-18 14:48:09 [DEBUG] Processed 1200/1638\n",
      "2017-03-18 14:48:11 [DEBUG] Processed 1200/1638\n",
      "2017-03-18 14:48:14 [DEBUG] Processed 1200/1638\n",
      "2017-03-18 14:48:16 [DEBUG] Processed 1200/1638\n",
      "2017-03-18 14:48:18 [DEBUG] Processed 1200/1638\n",
      "2017-03-18 14:48:20 [DEBUG] Processed 1200/1638\n",
      "2017-03-18 14:48:22 [DEBUG] Processed 1200/1638\n",
      "2017-03-18 14:48:24 [DEBUG] Processed 1200/1638\n",
      "2017-03-18 14:48:26 [DEBUG] Processed 1200/1638\n",
      "2017-03-18 14:48:29 [DEBUG] Processed 1200/1638\n",
      "2017-03-18 14:48:31 [DEBUG] Processed 1200/1638\n",
      "2017-03-18 14:48:33 [DEBUG] Processed 1200/1638\n",
      "2017-03-18 14:48:35 [DEBUG] Processed 1200/1638\n",
      "2017-03-18 14:48:37 [DEBUG] Processed 1300/1638\n",
      "2017-03-18 14:48:39 [DEBUG] Processed 1300/1638\n",
      "2017-03-18 14:48:41 [DEBUG] Processed 1300/1638\n",
      "2017-03-18 14:48:43 [DEBUG] Processed 1300/1638\n",
      "2017-03-18 14:48:45 [DEBUG] Processed 1300/1638\n",
      "2017-03-18 14:48:47 [DEBUG] Processed 1300/1638\n",
      "2017-03-18 14:48:50 [DEBUG] Processed 1300/1638\n",
      "2017-03-18 14:48:52 [DEBUG] Processed 1300/1638\n",
      "2017-03-18 14:48:54 [DEBUG] Processed 1300/1638\n",
      "2017-03-18 14:48:56 [DEBUG] Processed 1300/1638\n",
      "2017-03-18 14:48:58 [DEBUG] Processed 1300/1638\n",
      "2017-03-18 14:49:00 [DEBUG] Processed 1300/1638\n",
      "2017-03-18 14:49:02 [DEBUG] Processed 1300/1638\n",
      "2017-03-18 14:49:04 [DEBUG] Processed 1300/1638\n",
      "2017-03-18 14:49:06 [DEBUG] Processed 1300/1638\n",
      "2017-03-18 14:49:09 [DEBUG] Processed 1300/1638\n",
      "2017-03-18 14:49:11 [DEBUG] Processed 1400/1638\n",
      "2017-03-18 14:49:13 [DEBUG] Processed 1400/1638\n",
      "2017-03-18 14:49:15 [DEBUG] Processed 1400/1638\n",
      "2017-03-18 14:49:17 [DEBUG] Processed 1400/1638\n",
      "2017-03-18 14:49:19 [DEBUG] Processed 1400/1638\n",
      "2017-03-18 14:49:21 [DEBUG] Processed 1400/1638\n",
      "2017-03-18 14:49:24 [DEBUG] Processed 1400/1638\n",
      "2017-03-18 14:49:26 [DEBUG] Processed 1400/1638\n",
      "2017-03-18 14:49:28 [DEBUG] Processed 1400/1638\n",
      "2017-03-18 14:49:30 [DEBUG] Processed 1400/1638\n",
      "2017-03-18 14:49:32 [DEBUG] Processed 1400/1638\n",
      "2017-03-18 14:49:34 [DEBUG] Processed 1400/1638\n",
      "2017-03-18 14:49:36 [DEBUG] Processed 1400/1638\n",
      "2017-03-18 14:49:38 [DEBUG] Processed 1400/1638\n",
      "2017-03-18 14:49:41 [DEBUG] Processed 1400/1638\n",
      "2017-03-18 14:49:43 [DEBUG] Processed 1500/1638\n",
      "2017-03-18 14:49:45 [DEBUG] Processed 1500/1638\n",
      "2017-03-18 14:49:47 [DEBUG] Processed 1500/1638\n",
      "2017-03-18 14:49:49 [DEBUG] Processed 1500/1638\n",
      "2017-03-18 14:49:51 [DEBUG] Processed 1500/1638\n",
      "2017-03-18 14:49:53 [DEBUG] Processed 1500/1638\n",
      "2017-03-18 14:49:56 [DEBUG] Processed 1500/1638\n",
      "2017-03-18 14:49:58 [DEBUG] Processed 1500/1638\n",
      "2017-03-18 14:50:00 [DEBUG] Processed 1500/1638\n",
      "2017-03-18 14:50:02 [DEBUG] Processed 1500/1638\n",
      "2017-03-18 14:50:04 [DEBUG] Processed 1500/1638\n",
      "2017-03-18 14:50:06 [DEBUG] Processed 1500/1638\n",
      "2017-03-18 14:50:08 [DEBUG] Processed 1500/1638\n",
      "2017-03-18 14:50:10 [DEBUG] Processed 1500/1638\n",
      "2017-03-18 14:50:12 [DEBUG] Processed 1500/1638\n",
      "2017-03-18 14:50:14 [DEBUG] Processed 1600/1638\n",
      "2017-03-18 14:50:16 [DEBUG] Processed 1600/1638\n",
      "2017-03-18 14:50:19 [DEBUG] Processed 1600/1638\n",
      "2017-03-18 14:50:21 [DEBUG] Processed 1600/1638\n",
      "2017-03-18 14:50:23 [DEBUG] Processed 1600/1638\n",
      "2017-03-18 14:50:25 [DEBUG] Processed 1600/1638\n",
      "2017-03-18 14:50:26 [DEBUG] 1638 images loaded\n",
      "2017-03-18 14:50:26 [INFO ] 1638 images written to database\n",
      "2017-03-18 14:50:27 [INFO ] Mean saved at \"/home/u2459/Intel_MobileODT/notebooks/../input/mean.binaryproto\"\n",
      "2017-03-18 14:50:27 [INFO ] Mean saved at \"/home/u2459/Intel_MobileODT/notebooks/../input/mean.jpg\"\n",
      "2017-03-18 14:50:27 [INFO ] Database created after 541 seconds.\n",
      "\n",
      "  ########################################################################\n",
      "  # Colfax Cluster\n",
      "  # End of output for job 3516.c001\n",
      "  # Date: Sat Mar 18 14:50:28 PDT 2017\n",
      "  ########################################################################\n",
      "  \n"
     ]
    }
   ],
   "source": [
    "checkout_job(job_id)"
   ]
  },
  {
   "cell_type": "code",
   "execution_count": 142,
   "metadata": {
    "collapsed": true
   },
   "outputs": [],
   "source": [
    "job_id_2 = submit_job(create_val_db_cmd)"
   ]
  },
  {
   "cell_type": "code",
   "execution_count": 149,
   "metadata": {
    "collapsed": false,
    "scrolled": true
   },
   "outputs": [
    {
     "name": "stdout",
     "output_type": "stream",
     "text": [
      "['3518.c001']\n",
      "Job ID                    Name             User            Time Use S Queue\n",
      "------------------------- ---------------- --------------- -------- - -----\n",
      "3499.c001                  kaggle_mobileODT u2459           13:51:36 R batch          \n",
      "\n",
      "  ########################################################################\n",
      "  # Colfax Cluster - https://colfaxresearch.com/\n",
      "  #      Date:           Sat Mar 18 15:00:51 PDT 2017\n",
      "  #    Job ID:           3518.c001\n",
      "  #      User:           u2459\n",
      "  # Resources:           neednodes=1:knl,nodes=1:knl,walltime=24:00:00\n",
      "  ########################################################################\n",
      "  \n",
      "2017-03-18 15:01:02 [DEBUG] 699 total lines in file\n",
      "2017-03-18 15:01:02 [INFO ] 699 valid lines in file\n",
      "2017-03-18 15:01:02 [DEBUG] Category 0 has 231 images.\n",
      "2017-03-18 15:01:02 [DEBUG] Category 1 has 234 images.\n",
      "2017-03-18 15:01:02 [DEBUG] Category 2 has 234 images.\n",
      "2017-03-18 15:01:04 [DEBUG] Processed 0/699\n",
      "2017-03-18 15:01:06 [DEBUG] Processed 0/699\n",
      "2017-03-18 15:01:08 [DEBUG] Processed 0/699\n",
      "2017-03-18 15:01:10 [DEBUG] Processed 0/699\n",
      "2017-03-18 15:01:12 [DEBUG] Processed 0/699\n",
      "2017-03-18 15:01:14 [DEBUG] Processed 0/699\n",
      "2017-03-18 15:01:16 [DEBUG] Processed 0/699\n",
      "2017-03-18 15:01:18 [DEBUG] Processed 0/699\n",
      "2017-03-18 15:01:20 [DEBUG] Processed 0/699\n",
      "2017-03-18 15:01:22 [DEBUG] Processed 0/699\n",
      "2017-03-18 15:01:24 [DEBUG] Processed 0/699\n",
      "2017-03-18 15:01:26 [DEBUG] Processed 0/699\n",
      "2017-03-18 15:01:29 [DEBUG] Processed 0/699\n",
      "2017-03-18 15:01:31 [DEBUG] Processed 0/699\n",
      "2017-03-18 15:01:33 [DEBUG] Processed 0/699\n",
      "2017-03-18 15:01:35 [DEBUG] Processed 0/699\n",
      "2017-03-18 15:01:37 [DEBUG] Processed 0/699\n",
      "2017-03-18 15:01:39 [DEBUG] Processed 0/699\n",
      "2017-03-18 15:01:41 [DEBUG] Processed 100/699\n",
      "2017-03-18 15:01:44 [DEBUG] Processed 100/699\n",
      "2017-03-18 15:01:46 [DEBUG] Processed 100/699\n",
      "2017-03-18 15:01:48 [DEBUG] Processed 100/699\n",
      "2017-03-18 15:01:50 [DEBUG] Processed 100/699\n",
      "2017-03-18 15:01:52 [DEBUG] Processed 100/699\n",
      "2017-03-18 15:01:54 [DEBUG] Processed 100/699\n",
      "2017-03-18 15:01:56 [DEBUG] Processed 100/699\n",
      "2017-03-18 15:01:59 [DEBUG] Processed 100/699\n",
      "2017-03-18 15:02:01 [DEBUG] Processed 100/699\n",
      "2017-03-18 15:02:03 [DEBUG] Processed 100/699\n",
      "2017-03-18 15:02:05 [DEBUG] Processed 100/699\n",
      "2017-03-18 15:02:07 [DEBUG] Processed 100/699\n",
      "2017-03-18 15:02:09 [DEBUG] Processed 200/699\n",
      "2017-03-18 15:02:11 [DEBUG] Processed 200/699\n",
      "2017-03-18 15:02:14 [DEBUG] Processed 200/699\n",
      "2017-03-18 15:02:16 [DEBUG] Processed 200/699\n",
      "2017-03-18 15:02:18 [DEBUG] Processed 200/699\n",
      "2017-03-18 15:02:20 [DEBUG] Processed 200/699\n",
      "2017-03-18 15:02:22 [DEBUG] Processed 200/699\n",
      "2017-03-18 15:02:24 [DEBUG] Processed 200/699\n",
      "2017-03-18 15:02:26 [DEBUG] Processed 200/699\n",
      "2017-03-18 15:02:29 [DEBUG] Processed 200/699\n",
      "2017-03-18 15:02:31 [DEBUG] Processed 200/699\n",
      "2017-03-18 15:02:33 [DEBUG] Processed 200/699\n",
      "2017-03-18 15:02:35 [DEBUG] Processed 200/699\n",
      "2017-03-18 15:02:37 [DEBUG] Processed 200/699\n",
      "2017-03-18 15:02:39 [DEBUG] Processed 300/699\n",
      "2017-03-18 15:02:42 [DEBUG] Processed 300/699\n",
      "2017-03-18 15:02:44 [DEBUG] Processed 300/699\n",
      "2017-03-18 15:02:46 [DEBUG] Processed 300/699\n",
      "2017-03-18 15:02:48 [DEBUG] Processed 300/699\n",
      "2017-03-18 15:02:50 [DEBUG] Processed 300/699\n",
      "2017-03-18 15:02:52 [DEBUG] Processed 300/699\n",
      "2017-03-18 15:02:54 [DEBUG] Processed 300/699\n",
      "2017-03-18 15:02:56 [DEBUG] Processed 300/699\n",
      "2017-03-18 15:02:59 [DEBUG] Processed 300/699\n",
      "2017-03-18 15:03:01 [DEBUG] Processed 300/699\n",
      "2017-03-18 15:03:03 [DEBUG] Processed 300/699\n",
      "2017-03-18 15:03:05 [DEBUG] Processed 300/699\n",
      "2017-03-18 15:03:07 [DEBUG] Processed 400/699\n",
      "2017-03-18 15:03:09 [DEBUG] Processed 400/699\n",
      "2017-03-18 15:03:12 [DEBUG] Processed 400/699\n",
      "2017-03-18 15:03:14 [DEBUG] Processed 400/699\n",
      "2017-03-18 15:03:16 [DEBUG] Processed 400/699\n",
      "2017-03-18 15:03:18 [DEBUG] Processed 400/699\n",
      "2017-03-18 15:03:20 [DEBUG] Processed 400/699\n",
      "2017-03-18 15:03:22 [DEBUG] Processed 400/699\n",
      "2017-03-18 15:03:24 [DEBUG] Processed 400/699\n",
      "2017-03-18 15:03:26 [DEBUG] Processed 400/699\n",
      "2017-03-18 15:03:29 [DEBUG] Processed 400/699\n",
      "2017-03-18 15:03:31 [DEBUG] Processed 400/699\n",
      "2017-03-18 15:03:33 [DEBUG] Processed 400/699\n",
      "2017-03-18 15:03:35 [DEBUG] Processed 500/699\n",
      "2017-03-18 15:03:37 [DEBUG] Processed 500/699\n",
      "2017-03-18 15:03:39 [DEBUG] Processed 500/699\n",
      "2017-03-18 15:03:41 [DEBUG] Processed 500/699\n",
      "2017-03-18 15:03:43 [DEBUG] Processed 500/699\n",
      "2017-03-18 15:03:45 [DEBUG] Processed 500/699\n",
      "2017-03-18 15:03:47 [DEBUG] Processed 500/699\n",
      "2017-03-18 15:03:50 [DEBUG] Processed 500/699\n",
      "2017-03-18 15:03:52 [DEBUG] Processed 500/699\n",
      "2017-03-18 15:03:54 [DEBUG] Processed 500/699\n",
      "2017-03-18 15:03:56 [DEBUG] Processed 500/699\n",
      "2017-03-18 15:03:58 [DEBUG] Processed 500/699\n",
      "2017-03-18 15:04:00 [DEBUG] Processed 500/699\n",
      "2017-03-18 15:04:02 [DEBUG] Processed 600/699\n",
      "2017-03-18 15:04:04 [DEBUG] Processed 600/699\n",
      "2017-03-18 15:04:06 [DEBUG] Processed 600/699\n",
      "2017-03-18 15:04:08 [DEBUG] Processed 600/699\n",
      "2017-03-18 15:04:11 [DEBUG] Processed 600/699\n",
      "2017-03-18 15:04:13 [DEBUG] Processed 600/699\n",
      "2017-03-18 15:04:15 [DEBUG] Processed 600/699\n",
      "2017-03-18 15:04:17 [DEBUG] Processed 600/699\n",
      "2017-03-18 15:04:19 [DEBUG] Processed 600/699\n",
      "2017-03-18 15:04:21 [DEBUG] Processed 600/699\n",
      "2017-03-18 15:04:23 [DEBUG] Processed 600/699\n",
      "2017-03-18 15:04:26 [DEBUG] Processed 600/699\n",
      "2017-03-18 15:04:28 [DEBUG] Processed 600/699\n",
      "2017-03-18 15:04:30 [DEBUG] Processed 600/699\n",
      "2017-03-18 15:04:30 [DEBUG] 699 images loaded\n",
      "2017-03-18 15:04:30 [INFO ] 699 images written to database\n",
      "2017-03-18 15:04:30 [INFO ] Database created after 208 seconds.\n",
      "\n",
      "  ########################################################################\n",
      "  # Colfax Cluster\n",
      "  # End of output for job 3518.c001\n",
      "  # Date: Sat Mar 18 15:04:31 PDT 2017\n",
      "  ########################################################################\n",
      "  \n"
     ]
    }
   ],
   "source": [
    "checkout_job(job_id_2)"
   ]
  },
  {
   "cell_type": "code",
   "execution_count": 150,
   "metadata": {
    "collapsed": false
   },
   "outputs": [
    {
     "name": "stdout",
     "output_type": "stream",
     "text": [
      "mean.binaryproto  mean.jpg  train_db.lmdb  val_db.lmdb\r\n"
     ]
    }
   ],
   "source": [
    "!ls {INPUT_PATH}"
   ]
  },
  {
   "cell_type": "code",
   "execution_count": 133,
   "metadata": {
    "collapsed": false
   },
   "outputs": [
    {
     "name": "stdout",
     "output_type": "stream",
     "text": [
      "build_opencv\t     Intel_MobileODT  start_digits.sh\ttest.e3244   test.o3246\r\n",
      "DIGITS\t\t     keras_source     start_digits.sh~\ttest.e3246   test.py\r\n",
      "digits_dependencies  opencv\t      STDIN.e3516\ttest_launch  tmp\r\n",
      "env.local\t     opencv_source    STDIN.o3516\ttest.o3244\r\n"
     ]
    }
   ],
   "source": [
    "!ls ~/"
   ]
  },
  {
   "cell_type": "code",
   "execution_count": 106,
   "metadata": {
    "collapsed": true
   },
   "outputs": [],
   "source": [
    "!rm ~/STDIN.*"
   ]
  },
  {
   "cell_type": "code",
   "execution_count": null,
   "metadata": {
    "collapsed": true
   },
   "outputs": [],
   "source": []
  }
 ],
 "metadata": {
  "kernelspec": {
   "display_name": "Python 2",
   "language": "python",
   "name": "python2"
  },
  "language_info": {
   "codemirror_mode": {
    "name": "ipython",
    "version": 2
   },
   "file_extension": ".py",
   "mimetype": "text/x-python",
   "name": "python",
   "nbconvert_exporter": "python",
   "pygments_lexer": "ipython2",
   "version": "2.7.12"
  }
 },
 "nbformat": 4,
 "nbformat_minor": 1
}
