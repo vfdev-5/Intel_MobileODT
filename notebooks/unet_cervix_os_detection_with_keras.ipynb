{
 "cells": [
  {
   "cell_type": "markdown",
   "metadata": {},
   "source": [
    "# Train U-Net for cervix/os detection"
   ]
  },
  {
   "cell_type": "code",
   "execution_count": 1,
   "metadata": {
    "collapsed": false
   },
   "outputs": [],
   "source": [
    "# https://ipython.org/ipython-doc/3/config/extensions/autoreload.html\n",
    "%load_ext autoreload\n",
    "%autoreload 2"
   ]
  },
  {
   "cell_type": "code",
   "execution_count": 2,
   "metadata": {
    "collapsed": true
   },
   "outputs": [],
   "source": [
    "import os\n",
    "import datetime\n",
    "import pandas as pd # data processing, CSV file I/O (e.g. pd.read_csv)"
   ]
  },
  {
   "cell_type": "code",
   "execution_count": 3,
   "metadata": {
    "collapsed": false
   },
   "outputs": [],
   "source": [
    "# Project\n",
    "import sys\n",
    "sys.path.append(os.path.join(os.path.abspath(os.path.dirname('.')), '..', 'common'))\n",
    "from data_utils import type_1_ids, type_2_ids, type_3_ids, test_ids\n",
    "from data_utils import get_annotations\n",
    "from metrics import logloss_mc"
   ]
  },
  {
   "cell_type": "code",
   "execution_count": 4,
   "metadata": {
    "collapsed": true
   },
   "outputs": [],
   "source": [
    "from data_utils import RESOURCES_PATH, GENERATED_DATA"
   ]
  },
  {
   "cell_type": "code",
   "execution_count": 5,
   "metadata": {
    "collapsed": true
   },
   "outputs": [],
   "source": [
    "sloth_annotations_filename = os.path.join(RESOURCES_PATH, 'cervix_os.json')\n",
    "annotations = get_annotations(sloth_annotations_filename)"
   ]
  },
  {
   "cell_type": "code",
   "execution_count": 17,
   "metadata": {
    "collapsed": false
   },
   "outputs": [
    {
     "name": "stdout",
     "output_type": "stream",
     "text": [
      "Total : 208, Train : 156, Val : 52\n"
     ]
    }
   ],
   "source": [
    "import os\n",
    "import numpy as np\n",
    "np.random.seed(2017)\n",
    "\n",
    "from data_utils import RESOURCES_PATH, GENERATED_DATA, get_annotations\n",
    "from training_utils import get_trainval_id_type_lists2\n",
    "sloth_annotations_filename = os.path.join(RESOURCES_PATH, 'cervix_os.json')\n",
    "annotations = get_annotations(sloth_annotations_filename)\n",
    "\n",
    "train_id_type_list, val_id_type_list = get_trainval_id_type_lists2(annotations=annotations, val_split=0.25)\n",
    "\n",
    "print \"Total : %s, Train : %s, Val : %s\" % (len(annotations), len(train_id_type_list), len(val_id_type_list))"
   ]
  },
  {
   "cell_type": "code",
   "execution_count": null,
   "metadata": {
    "collapsed": true
   },
   "outputs": [],
   "source": []
  },
  {
   "cell_type": "code",
   "execution_count": 52,
   "metadata": {
    "collapsed": false,
    "scrolled": true
   },
   "outputs": [
    {
     "name": "stdout",
     "output_type": "stream",
     "text": [
      "____________________________________________________________________________________________________\n",
      "Layer (type)                     Output Shape          Param #     Connected to                     \n",
      "====================================================================================================\n",
      "input_4 (InputLayer)             (None, 3, 224, 224)   0                                            \n",
      "____________________________________________________________________________________________________\n",
      "convolution2d_47 (Convolution2D) (None, 32, 224, 224)  896         input_4[0][0]                    \n",
      "____________________________________________________________________________________________________\n",
      "batchnormalization_47 (BatchNorma(None, 32, 224, 224)  64          convolution2d_47[0][0]           \n",
      "____________________________________________________________________________________________________\n",
      "activation_47 (Activation)       (None, 32, 224, 224)  0           batchnormalization_47[0][0]      \n",
      "____________________________________________________________________________________________________\n",
      "convolution2d_48 (Convolution2D) (None, 32, 224, 224)  9248        activation_47[0][0]              \n",
      "____________________________________________________________________________________________________\n",
      "batchnormalization_48 (BatchNorma(None, 32, 224, 224)  64          convolution2d_48[0][0]           \n",
      "____________________________________________________________________________________________________\n",
      "activation_48 (Activation)       (None, 32, 224, 224)  0           batchnormalization_48[0][0]      \n",
      "____________________________________________________________________________________________________\n",
      "maxpooling2d_16 (MaxPooling2D)   (None, 32, 112, 112)  0           activation_48[0][0]              \n",
      "____________________________________________________________________________________________________\n",
      "convolution2d_49 (Convolution2D) (None, 64, 112, 112)  18496       maxpooling2d_16[0][0]            \n",
      "____________________________________________________________________________________________________\n",
      "batchnormalization_49 (BatchNorma(None, 64, 112, 112)  128         convolution2d_49[0][0]           \n",
      "____________________________________________________________________________________________________\n",
      "activation_49 (Activation)       (None, 64, 112, 112)  0           batchnormalization_49[0][0]      \n",
      "____________________________________________________________________________________________________\n",
      "convolution2d_50 (Convolution2D) (None, 64, 112, 112)  36928       activation_49[0][0]              \n",
      "____________________________________________________________________________________________________\n",
      "batchnormalization_50 (BatchNorma(None, 64, 112, 112)  128         convolution2d_50[0][0]           \n",
      "____________________________________________________________________________________________________\n",
      "activation_50 (Activation)       (None, 64, 112, 112)  0           batchnormalization_50[0][0]      \n",
      "____________________________________________________________________________________________________\n",
      "maxpooling2d_17 (MaxPooling2D)   (None, 64, 56, 56)    0           activation_50[0][0]              \n",
      "____________________________________________________________________________________________________\n",
      "convolution2d_51 (Convolution2D) (None, 128, 56, 56)   73856       maxpooling2d_17[0][0]            \n",
      "____________________________________________________________________________________________________\n",
      "batchnormalization_51 (BatchNorma(None, 128, 56, 56)   256         convolution2d_51[0][0]           \n",
      "____________________________________________________________________________________________________\n",
      "activation_51 (Activation)       (None, 128, 56, 56)   0           batchnormalization_51[0][0]      \n",
      "____________________________________________________________________________________________________\n",
      "convolution2d_52 (Convolution2D) (None, 128, 56, 56)   147584      activation_51[0][0]              \n",
      "____________________________________________________________________________________________________\n",
      "batchnormalization_52 (BatchNorma(None, 128, 56, 56)   256         convolution2d_52[0][0]           \n",
      "____________________________________________________________________________________________________\n",
      "activation_52 (Activation)       (None, 128, 56, 56)   0           batchnormalization_52[0][0]      \n",
      "____________________________________________________________________________________________________\n",
      "maxpooling2d_18 (MaxPooling2D)   (None, 128, 28, 28)   0           activation_52[0][0]              \n",
      "____________________________________________________________________________________________________\n",
      "convolution2d_53 (Convolution2D) (None, 256, 28, 28)   295168      maxpooling2d_18[0][0]            \n",
      "____________________________________________________________________________________________________\n",
      "batchnormalization_53 (BatchNorma(None, 256, 28, 28)   512         convolution2d_53[0][0]           \n",
      "____________________________________________________________________________________________________\n",
      "activation_53 (Activation)       (None, 256, 28, 28)   0           batchnormalization_53[0][0]      \n",
      "____________________________________________________________________________________________________\n",
      "convolution2d_54 (Convolution2D) (None, 256, 28, 28)   590080      activation_53[0][0]              \n",
      "____________________________________________________________________________________________________\n",
      "batchnormalization_54 (BatchNorma(None, 256, 28, 28)   512         convolution2d_54[0][0]           \n",
      "____________________________________________________________________________________________________\n",
      "activation_54 (Activation)       (None, 256, 28, 28)   0           batchnormalization_54[0][0]      \n",
      "____________________________________________________________________________________________________\n",
      "maxpooling2d_19 (MaxPooling2D)   (None, 256, 14, 14)   0           activation_54[0][0]              \n",
      "____________________________________________________________________________________________________\n",
      "convolution2d_55 (Convolution2D) (None, 512, 14, 14)   1180160     maxpooling2d_19[0][0]            \n",
      "____________________________________________________________________________________________________\n",
      "batchnormalization_55 (BatchNorma(None, 512, 14, 14)   1024        convolution2d_55[0][0]           \n",
      "____________________________________________________________________________________________________\n",
      "activation_55 (Activation)       (None, 512, 14, 14)   0           batchnormalization_55[0][0]      \n",
      "____________________________________________________________________________________________________\n",
      "convolution2d_56 (Convolution2D) (None, 512, 14, 14)   2359808     activation_55[0][0]              \n",
      "____________________________________________________________________________________________________\n",
      "batchnormalization_56 (BatchNorma(None, 512, 14, 14)   1024        convolution2d_56[0][0]           \n",
      "____________________________________________________________________________________________________\n",
      "activation_56 (Activation)       (None, 512, 14, 14)   0           batchnormalization_56[0][0]      \n",
      "____________________________________________________________________________________________________\n",
      "maxpooling2d_20 (MaxPooling2D)   (None, 512, 7, 7)     0           activation_56[0][0]              \n",
      "____________________________________________________________________________________________________\n",
      "convolution2d_57 (Convolution2D) (None, 1024, 7, 7)    4719616     maxpooling2d_20[0][0]            \n",
      "____________________________________________________________________________________________________\n",
      "batchnormalization_57 (BatchNorma(None, 1024, 7, 7)    2048        convolution2d_57[0][0]           \n",
      "____________________________________________________________________________________________________\n",
      "activation_57 (Activation)       (None, 1024, 7, 7)    0           batchnormalization_57[0][0]      \n",
      "____________________________________________________________________________________________________\n",
      "convolution2d_58 (Convolution2D) (None, 1024, 7, 7)    9438208     activation_57[0][0]              \n",
      "____________________________________________________________________________________________________\n",
      "batchnormalization_58 (BatchNorma(None, 1024, 7, 7)    2048        convolution2d_58[0][0]           \n",
      "____________________________________________________________________________________________________\n",
      "activation_58 (Activation)       (None, 1024, 7, 7)    0           batchnormalization_58[0][0]      \n",
      "____________________________________________________________________________________________________\n",
      "upsampling2d_6 (UpSampling2D)    (None, 1024, 14, 14)  0           activation_58[0][0]              \n",
      "____________________________________________________________________________________________________\n",
      "merge_6 (Merge)                  (None, 1536, 14, 14)  0           upsampling2d_6[0][0]             \n",
      "                                                                   activation_56[0][0]              \n",
      "____________________________________________________________________________________________________\n",
      "convolution2d_59 (Convolution2D) (None, 512, 14, 14)   7078400     merge_6[0][0]                    \n",
      "____________________________________________________________________________________________________\n",
      "batchnormalization_59 (BatchNorma(None, 512, 14, 14)   1024        convolution2d_59[0][0]           \n",
      "____________________________________________________________________________________________________\n",
      "activation_59 (Activation)       (None, 512, 14, 14)   0           batchnormalization_59[0][0]      \n",
      "____________________________________________________________________________________________________\n",
      "convolution2d_60 (Convolution2D) (None, 512, 14, 14)   2359808     activation_59[0][0]              \n",
      "____________________________________________________________________________________________________\n",
      "batchnormalization_60 (BatchNorma(None, 512, 14, 14)   1024        convolution2d_60[0][0]           \n",
      "____________________________________________________________________________________________________\n",
      "activation_60 (Activation)       (None, 512, 14, 14)   0           batchnormalization_60[0][0]      \n",
      "____________________________________________________________________________________________________\n",
      "upsampling2d_7 (UpSampling2D)    (None, 512, 28, 28)   0           activation_60[0][0]              \n",
      "____________________________________________________________________________________________________\n",
      "merge_7 (Merge)                  (None, 768, 28, 28)   0           upsampling2d_7[0][0]             \n",
      "                                                                   activation_54[0][0]              \n",
      "____________________________________________________________________________________________________\n",
      "convolution2d_61 (Convolution2D) (None, 256, 28, 28)   1769728     merge_7[0][0]                    \n",
      "____________________________________________________________________________________________________\n",
      "batchnormalization_61 (BatchNorma(None, 256, 28, 28)   512         convolution2d_61[0][0]           \n",
      "____________________________________________________________________________________________________\n",
      "activation_61 (Activation)       (None, 256, 28, 28)   0           batchnormalization_61[0][0]      \n",
      "____________________________________________________________________________________________________\n",
      "convolution2d_62 (Convolution2D) (None, 256, 28, 28)   590080      activation_61[0][0]              \n",
      "____________________________________________________________________________________________________\n",
      "batchnormalization_62 (BatchNorma(None, 256, 28, 28)   512         convolution2d_62[0][0]           \n",
      "____________________________________________________________________________________________________\n",
      "activation_62 (Activation)       (None, 256, 28, 28)   0           batchnormalization_62[0][0]      \n",
      "____________________________________________________________________________________________________\n",
      "upsampling2d_8 (UpSampling2D)    (None, 256, 56, 56)   0           activation_62[0][0]              \n",
      "____________________________________________________________________________________________________\n",
      "merge_8 (Merge)                  (None, 384, 56, 56)   0           upsampling2d_8[0][0]             \n",
      "                                                                   activation_52[0][0]              \n",
      "____________________________________________________________________________________________________\n",
      "convolution2d_63 (Convolution2D) (None, 128, 56, 56)   442496      merge_8[0][0]                    \n",
      "____________________________________________________________________________________________________\n",
      "batchnormalization_63 (BatchNorma(None, 128, 56, 56)   256         convolution2d_63[0][0]           \n",
      "____________________________________________________________________________________________________\n",
      "activation_63 (Activation)       (None, 128, 56, 56)   0           batchnormalization_63[0][0]      \n",
      "____________________________________________________________________________________________________\n",
      "convolution2d_64 (Convolution2D) (None, 128, 56, 56)   147584      activation_63[0][0]              \n",
      "____________________________________________________________________________________________________\n",
      "batchnormalization_64 (BatchNorma(None, 128, 56, 56)   256         convolution2d_64[0][0]           \n",
      "____________________________________________________________________________________________________\n",
      "activation_64 (Activation)       (None, 128, 56, 56)   0           batchnormalization_64[0][0]      \n",
      "____________________________________________________________________________________________________\n",
      "upsampling2d_9 (UpSampling2D)    (None, 128, 112, 112) 0           activation_64[0][0]              \n",
      "____________________________________________________________________________________________________\n",
      "merge_9 (Merge)                  (None, 192, 112, 112) 0           upsampling2d_9[0][0]             \n",
      "                                                                   activation_50[0][0]              \n",
      "____________________________________________________________________________________________________\n",
      "convolution2d_65 (Convolution2D) (None, 64, 112, 112)  110656      merge_9[0][0]                    \n",
      "____________________________________________________________________________________________________\n",
      "batchnormalization_65 (BatchNorma(None, 64, 112, 112)  128         convolution2d_65[0][0]           \n",
      "____________________________________________________________________________________________________\n",
      "activation_65 (Activation)       (None, 64, 112, 112)  0           batchnormalization_65[0][0]      \n",
      "____________________________________________________________________________________________________\n",
      "convolution2d_66 (Convolution2D) (None, 64, 112, 112)  36928       activation_65[0][0]              \n",
      "____________________________________________________________________________________________________\n",
      "batchnormalization_66 (BatchNorma(None, 64, 112, 112)  128         convolution2d_66[0][0]           \n",
      "____________________________________________________________________________________________________\n",
      "activation_66 (Activation)       (None, 64, 112, 112)  0           batchnormalization_66[0][0]      \n",
      "____________________________________________________________________________________________________\n",
      "upsampling2d_10 (UpSampling2D)   (None, 64, 224, 224)  0           activation_66[0][0]              \n",
      "____________________________________________________________________________________________________\n",
      "merge_10 (Merge)                 (None, 96, 224, 224)  0           upsampling2d_10[0][0]            \n",
      "                                                                   activation_48[0][0]              \n",
      "____________________________________________________________________________________________________\n",
      "convolution2d_67 (Convolution2D) (None, 32, 224, 224)  27680       merge_10[0][0]                   \n",
      "____________________________________________________________________________________________________\n",
      "batchnormalization_67 (BatchNorma(None, 32, 224, 224)  64          convolution2d_67[0][0]           \n",
      "____________________________________________________________________________________________________\n",
      "activation_67 (Activation)       (None, 32, 224, 224)  0           batchnormalization_67[0][0]      \n",
      "____________________________________________________________________________________________________\n",
      "convolution2d_68 (Convolution2D) (None, 32, 224, 224)  9248        activation_67[0][0]              \n",
      "____________________________________________________________________________________________________\n",
      "batchnormalization_68 (BatchNorma(None, 32, 224, 224)  64          convolution2d_68[0][0]           \n",
      "____________________________________________________________________________________________________\n",
      "activation_68 (Activation)       (None, 32, 224, 224)  0           batchnormalization_68[0][0]      \n",
      "____________________________________________________________________________________________________\n",
      "convolution2d_69 (Convolution2D) (None, 2, 224, 224)   66          activation_68[0][0]              \n",
      "____________________________________________________________________________________________________\n",
      "activation_69 (Activation)       (None, 2, 224, 224)   0           convolution2d_69[0][0]           \n",
      "====================================================================================================\n",
      "Total params: 31454754\n",
      "____________________________________________________________________________________________________\n"
     ]
    }
   ],
   "source": [
    "from unet_keras_v1 import get_unet\n",
    "unet = get_unet(input_shape=(3, 224, 224), n_classes=2)\n",
    "unet.summary()"
   ]
  },
  {
   "cell_type": "code",
   "execution_count": null,
   "metadata": {
    "collapsed": true
   },
   "outputs": [],
   "source": []
  },
  {
   "cell_type": "code",
   "execution_count": 33,
   "metadata": {
    "collapsed": true
   },
   "outputs": [],
   "source": [
    "from qsub_utils import submit_job\n",
    "from qsub_utils import setup_configuration\n",
    "from qsub_utils import PBS_CONFIGURATION"
   ]
  },
  {
   "cell_type": "code",
   "execution_count": 34,
   "metadata": {
    "collapsed": true
   },
   "outputs": [],
   "source": [
    "setup_configuration(nodes='1:knl7210:ram96gb')"
   ]
  },
  {
   "cell_type": "code",
   "execution_count": 57,
   "metadata": {
    "collapsed": false,
    "scrolled": false
   },
   "outputs": [
    {
     "name": "stdout",
     "output_type": "stream",
     "text": [
      "qsub: job 4694.c001 ready\n",
      "\n",
      "\n",
      "\n",
      "\n",
      "\n",
      "  ########################################################################\n",
      "\n",
      "  # Colfax Cluster - https://colfaxresearch.com/\n",
      "\n",
      "  #      Date:           Tue Mar 28 08:42:35 PDT 2017\n",
      "\n",
      "  #    Job ID:           4694.c001\n",
      "\n",
      "  #      User:           u2459\n",
      "\n",
      "  # Resources:           neednodes=1:knl7210:ram96gb,nodes=1:knl7210:ram96gb,walltime=24:00:00\n",
      "\n",
      "  ########################################################################\n",
      "\n",
      "  \n",
      "\n",
      "Using Theano backend.\n",
      "\n",
      "\n",
      "\n",
      " 2017-03-28 08:42:50.323444 - Get train/val lists ...\n",
      "\n",
      "Total : 208, Train : 156, Val : 52\n",
      "\n",
      "\n",
      "\n",
      " 2017-03-28 08:42:50.377709 - Get U-Net model ...\n",
      "\n",
      "\n",
      "\n",
      " 2017-03-28 08:42:57.689485 - Start training ...\n",
      "\n",
      "('Training parameters: ', 8, 10, 512, 128)\n",
      "\n",
      "Load existing file: /home/u2459/Intel_MobileODT/input/generated/os_cervix_stats.npz\n",
      "\n",
      "No need to recompute statistics\n",
      "\n",
      "Epoch 1/10\n",
      "\n",
      "Error in file [/home/u2459/.theano/compiledir_Linux-3.10-el7.xppsl_1.5.0.4036.x86_64-x86_64-with-centos-7.2.1511-Core-x86_64-2.7.12-64/tmpewrysa/mod.cpp:788], err code (-1)\n",
      "\n",
      "qsub: job 4694.c001 completed\n",
      "\n"
     ]
    }
   ],
   "source": [
    "import time \n",
    "\n",
    "unet_cervix_os_detection_with_keras_cmd = [\n",
    "    \"python\",\n",
    "    os.path.abspath(os.path.join(\"..\", \"scripts\", \"unet_cervix_os_detection_with_keras.py\"))\n",
    "]\n",
    "\n",
    "process, job_info = submit_job(unet_cervix_os_detection_with_keras_cmd, \n",
    "                               name='unet_cervix_os_detection', \n",
    "                               cwd=RESOURCES_PATH)\n",
    "\n",
    "try:\n",
    "    while True:\n",
    "        out = process.stdout.readline()    \n",
    "        if len(out) > 0:        \n",
    "            print out\n",
    "\n",
    "        if process.poll() is not None and len(out) == 0:\n",
    "            break\n",
    "except KeyboardInterrupt:\n",
    "    !qdel {job_info['id']}\n",
    "    time.sleep(1.0)\n",
    "    !qstat"
   ]
  },
  {
   "cell_type": "code",
   "execution_count": 48,
   "metadata": {
    "collapsed": true
   },
   "outputs": [],
   "source": [
    "!qstat"
   ]
  },
  {
   "cell_type": "code",
   "execution_count": 45,
   "metadata": {
    "collapsed": false
   },
   "outputs": [
    {
     "name": "stdout",
     "output_type": "stream",
     "text": [
      "Using Theano backend.\n",
      "WARNING (theano.tensor.blas): We did not found a dynamic library into the library_dir of the library we use for blas. If you use ATLAS, make sure to compile it with dynamics library.\n",
      "\n",
      " 2017-03-28 06:58:30.556073 - Get train/val lists ...\n",
      "Total : 208, Train : 156, Val : 52\n",
      "\n",
      " 2017-03-28 06:58:30.577475 - Get U-Net model ...\n",
      "\n",
      " 2017-03-28 06:58:32.762387 - Start training ...\n",
      "('Training parameters: ', 16, 10, 2048, 1024)\n",
      "Load existing file: /home/u2459/Intel_MobileODT/input/generated/os_cervix_stats.npz\n",
      "No need to recompute statistics\n"
     ]
    }
   ],
   "source": [
    "#!{\" \".join(unet_cervix_os_detection_with_keras_cmd)}"
   ]
  },
  {
   "cell_type": "code",
   "execution_count": null,
   "metadata": {
    "collapsed": true
   },
   "outputs": [],
   "source": []
  }
 ],
 "metadata": {
  "kernelspec": {
   "display_name": "Python 2",
   "language": "python",
   "name": "python2"
  },
  "language_info": {
   "codemirror_mode": {
    "name": "ipython",
    "version": 2
   },
   "file_extension": ".py",
   "mimetype": "text/x-python",
   "name": "python",
   "nbconvert_exporter": "python",
   "pygments_lexer": "ipython2",
   "version": "2.7.12"
  }
 },
 "nbformat": 4,
 "nbformat_minor": 0
}
