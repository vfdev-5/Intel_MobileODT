{
 "cells": [
  {
   "cell_type": "markdown",
   "metadata": {},
   "source": [
    "# Data exploration\n",
    "\n",
    "-  Visualization of all training data, all testing data\n",
    "\n"
   ]
  },
  {
   "cell_type": "code",
   "execution_count": 1,
   "metadata": {
    "collapsed": true
   },
   "outputs": [],
   "source": [
    "import numpy as np # linear algebra\n",
    "import pandas as pd # data processing, CSV file I/O (e.g. pd.read_csv)\n",
    "import cv2"
   ]
  },
  {
   "cell_type": "code",
   "execution_count": 2,
   "metadata": {
    "collapsed": true
   },
   "outputs": [],
   "source": [
    "import sys\n",
    "sys.path.append('../common')"
   ]
  },
  {
   "cell_type": "code",
   "execution_count": 3,
   "metadata": {
    "collapsed": true
   },
   "outputs": [],
   "source": [
    "from data_utils import type_1_ids, type_2_ids, type_3_ids, test_ids\n",
    "from image_utils import get_image_data"
   ]
  },
  {
   "cell_type": "code",
   "execution_count": 4,
   "metadata": {
    "collapsed": true
   },
   "outputs": [],
   "source": [
    "import matplotlib.pylab as plt\n",
    "\n",
    "def plt_st(l1,l2):\n",
    "    plt.figure(figsize=(l1,l2))\n"
   ]
  },
  {
   "cell_type": "markdown",
   "metadata": {},
   "source": [
    "## Display all train images of Type_1, Type_2, Type_3"
   ]
  },
  {
   "cell_type": "code",
   "execution_count": null,
   "metadata": {
    "collapsed": false
   },
   "outputs": [
    {
     "name": "stdout",
     "output_type": "stream",
     "text": [
      "('Corrupted image: ', '1339', 'Type_1')\n"
     ]
    }
   ],
   "source": [
    "tile_size = (256, 256)\n",
    "n = 15\n",
    "\n",
    "complete_images = []\n",
    "for k, type_ids in enumerate([type_1_ids, type_2_ids, type_3_ids]):\n",
    "    m = int(np.ceil(len(type_ids) / n))\n",
    "    complete_image = np.zeros((m*(tile_size[0]+2), n*(tile_size[1]+2), 3), dtype=np.uint8)\n",
    "    train_ids = sorted(type_ids)\n",
    "    counter = 0\n",
    "    for i in range(m):\n",
    "        ys = i*(tile_size[1] + 2)\n",
    "        ye = ys + tile_size[1]\n",
    "        for j in range(n):\n",
    "            xs = j*(tile_size[0] + 2)\n",
    "            xe = xs + tile_size[0]\n",
    "            if counter == len(train_ids):\n",
    "                break\n",
    "            image_id = train_ids[counter]; counter+=1\n",
    "            img = get_image_data(image_id, 'Type_%i' % (k+1))\n",
    "            if img.dtype.kind != 'u':\n",
    "                print(\"Corrupted image: \", image_id, 'Type_%i' % (k+1))\n",
    "                continue\n",
    "            img = cv2.resize(img, dsize=tile_size)\n",
    "            img = cv2.putText(img, image_id, (5,img.shape[0] - 5), cv2.FONT_HERSHEY_SIMPLEX, 2.0, (255, 255, 255), thickness=3)\n",
    "            complete_image[ys:ye, xs:xe, :] = img[:,:,:]\n",
    "        if counter == len(train_ids):\n",
    "            break\n",
    "    complete_images.append(complete_image)           "
   ]
  },
  {
   "cell_type": "code",
   "execution_count": null,
   "metadata": {
    "collapsed": true
   },
   "outputs": [],
   "source": [
    "plt_st(20, 20)\n",
    "plt.imshow(complete_images[0])\n",
    "plt.title(\"Training dataset of type %i\" % (1))"
   ]
  },
  {
   "cell_type": "code",
   "execution_count": null,
   "metadata": {
    "collapsed": true
   },
   "outputs": [],
   "source": [
    "index = 1\n",
    "m = complete_images[index].shape[0] / (tile_size[0] + 2)\n",
    "n = int(np.ceil(m / 20))\n",
    "for i in range(n):\n",
    "    plt_st(20, 20)\n",
    "    ys = i*(tile_size[0] + 2)*20\n",
    "    ye = min((i+1)*(tile_size[0] + 2)*20, complete_images[index].shape[0])\n",
    "    plt.imshow(complete_images[index][ys:ye,:,:])\n",
    "    plt.title(\"Training dataset of type %i, part %i\" % (index + 1, i))"
   ]
  },
  {
   "cell_type": "code",
   "execution_count": null,
   "metadata": {
    "collapsed": true
   },
   "outputs": [],
   "source": [
    "index = 2\n",
    "m = complete_images[index].shape[0] / (tile_size[0] + 2)\n",
    "n = int(np.ceil(m / 20))\n",
    "for i in range(n):\n",
    "    plt_st(20, 20)\n",
    "    ys = i*(tile_size[0] + 2)*20\n",
    "    ye = min((i+1)*(tile_size[0] + 2)*20, complete_images[index].shape[0])\n",
    "    plt.imshow(complete_images[index][ys:ye,:,:])\n",
    "    plt.title(\"Training dataset of type %i, part %i\" % (index + 1, i))"
   ]
  },
  {
   "cell_type": "markdown",
   "metadata": {},
   "source": [
    "## Display all test images"
   ]
  },
  {
   "cell_type": "code",
   "execution_count": null,
   "metadata": {
    "collapsed": true
   },
   "outputs": [],
   "source": [
    "tile_size = (256, 256)\n",
    "n = 15\n",
    "m = int(np.ceil(len(test_ids) / n))\n",
    "complete_test_image = np.zeros((m*(tile_size[0]+2), n*(tile_size[1]+2), 3), dtype=np.uint8)\n",
    "counter = 0\n",
    "for i in range(m):\n",
    "    ys = i*(tile_size[1] + 2)\n",
    "    ye = ys + tile_size[1]\n",
    "    for j in range(n):\n",
    "        xs = j*(tile_size[0] + 2)\n",
    "        xe = xs + tile_size[0]\n",
    "        if counter == len(test_ids):\n",
    "            break\n",
    "        image_id = test_ids[counter]; counter+=1\n",
    "        img = get_image_data(image_id, 'Test')\n",
    "        img = cv2.resize(img, dsize=tile_size)\n",
    "        img = cv2.putText(img, image_id, (5,img.shape[0] - 5), cv2.FONT_HERSHEY_SIMPLEX, 2.0, (255, 255, 255), thickness=3)\n",
    "        complete_test_image[ys:ye, xs:xe, :] = img[:,:,:]\n",
    "    if counter == len(test_ids):\n",
    "        break\n"
   ]
  },
  {
   "cell_type": "code",
   "execution_count": null,
   "metadata": {
    "collapsed": true
   },
   "outputs": [],
   "source": [
    "m = complete_test_image.shape[0] / (tile_size[0] + 2)\n",
    "n = int(np.ceil(m / 20))\n",
    "for i in range(n):\n",
    "    plt_st(20, 20)\n",
    "    ys = i*(tile_size[0] + 2)*20\n",
    "    ye = min((i+1)*(tile_size[0] + 2)*20, complete_test_image.shape[0])\n",
    "    plt.imshow(complete_test_image[ys:ye,:,:])\n",
    "    plt.title(\"Test dataset, part %i\" % (i))"
   ]
  },
  {
   "cell_type": "code",
   "execution_count": null,
   "metadata": {
    "collapsed": true
   },
   "outputs": [],
   "source": []
  }
 ],
 "metadata": {
  "kernelspec": {
   "display_name": "Python 2",
   "language": "python",
   "name": "python2"
  },
  "language_info": {
   "codemirror_mode": {
    "name": "ipython",
    "version": 2
   },
   "file_extension": ".py",
   "mimetype": "text/x-python",
   "name": "python",
   "nbconvert_exporter": "python",
   "pygments_lexer": "ipython2",
   "version": "2.7.12"
  }
 },
 "nbformat": 4,
 "nbformat_minor": 1
}
