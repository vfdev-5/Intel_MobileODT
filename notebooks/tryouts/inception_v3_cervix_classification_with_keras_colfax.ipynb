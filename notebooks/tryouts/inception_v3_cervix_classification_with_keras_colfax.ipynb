{
 "cells": [
  {
   "cell_type": "markdown",
   "metadata": {},
   "source": [
    "# Trained Inception v3 network on classification on cervix images on Colfax"
   ]
  },
  {
   "cell_type": "code",
   "execution_count": 1,
   "metadata": {
    "collapsed": false
   },
   "outputs": [],
   "source": [
    "# https://ipython.org/ipython-doc/3/config/extensions/autoreload.html\n",
    "%load_ext autoreload\n",
    "%autoreload 2"
   ]
  },
  {
   "cell_type": "code",
   "execution_count": 2,
   "metadata": {
    "collapsed": false
   },
   "outputs": [
    {
     "name": "stdout",
     "output_type": "stream",
     "text": [
      "(ValueError('list.remove(x): x not in list',), '5893')\n",
      "(ValueError('list.remove(x): x not in list',), '3507')\n"
     ]
    }
   ],
   "source": [
    "import os\n",
    "import sys\n",
    "from datetime import datetime\n",
    "    \n",
    "# Project\n",
    "project_common_path = os.path.abspath(os.path.join('..', 'common'))\n",
    "if not project_common_path in sys.path:\n",
    "    sys.path.append(project_common_path)    \n",
    "    \n",
    "from data_utils import RESOURCES_PATH, GENERATED_DATA\n",
    "    \n",
    "from qsub_utils import submit_job\n",
    "from qsub_utils import setup_configuration\n",
    "from qsub_utils import PBS_CONFIGURATION    "
   ]
  },
  {
   "cell_type": "code",
   "execution_count": 3,
   "metadata": {
    "collapsed": true
   },
   "outputs": [],
   "source": [
    "setup_configuration(nodes='1:knl7210:ram96gb')"
   ]
  },
  {
   "cell_type": "markdown",
   "metadata": {},
   "source": [
    "## Train network"
   ]
  },
  {
   "cell_type": "code",
   "execution_count": 23,
   "metadata": {
    "collapsed": false
   },
   "outputs": [
    {
     "name": "stdout",
     "output_type": "stream",
     "text": [
      "qsub: job 6612.c001 ready\n",
      "\n",
      "\n",
      "\n",
      "\n",
      "\n",
      "########################################################################\n",
      "\n",
      "# Colfax Cluster - https://colfaxresearch.com/\n",
      "\n",
      "#      Date:           Mon Apr 17 05:06:29 PDT 2017\n",
      "\n",
      "#    Job ID:           6612.c001\n",
      "\n",
      "#      User:           u2459\n",
      "\n",
      "# Resources:           neednodes=1:knl7210:ram96gb,nodes=1:knl7210:ram96gb,walltime=24:00:00\n",
      "\n",
      "########################################################################\n",
      "\n",
      "\n",
      "\n",
      "Using Theano backend.\n",
      "\n",
      "Keras version:  1.2.2\n",
      "\n",
      "mkl_available:  True\n",
      "\n",
      "(ValueError('list.remove(x): x not in list',), '5893')\n",
      "\n",
      "(ValueError('list.remove(x): x not in list',), '3507')\n",
      "\n",
      "\n",
      "\n",
      " 2017-04-17 05:06:51.474478 - Get train/val lists ...\n",
      "\n",
      "(1860, 330)\n",
      "\n",
      "\n",
      "\n",
      " 2017-04-17 05:06:51.481353 - Get InceptionV3 model ...\n",
      "\n",
      "\n",
      "\n",
      " 2017-04-17 05:07:09.041750 - Start training ...\n",
      "\n",
      "\n",
      "\n",
      "-- Training parameters: 16, 50, 2048, 512\n",
      "\n",
      "\n",
      "\n",
      "-- Fit model\n",
      "\n"
     ]
    }
   ],
   "source": [
    "import time \n",
    "\n",
    "cmd = [\n",
    "    \"python\",\n",
    "    os.path.abspath(os.path.join(\"..\", \"scripts\", \"inception_classification_with_keras.py\"))\n",
    "]\n",
    "\n",
    "process, job_info = submit_job(cmd, \n",
    "                               name='inception_classification_with_keras', \n",
    "                               cwd=RESOURCES_PATH)\n",
    "\n",
    "try:\n",
    "    while True:\n",
    "        out = process.stdout.readline()    \n",
    "        if len(out) > 0:        \n",
    "            print out\n",
    "\n",
    "        if process.poll() is not None and len(out) == 0:\n",
    "            break\n",
    "except KeyboardInterrupt:\n",
    "    !qdel {job_info['id']}\n",
    "    time.sleep(1.0)\n",
    "    !qstat"
   ]
  },
  {
   "cell_type": "code",
   "execution_count": 24,
   "metadata": {
    "collapsed": false
   },
   "outputs": [],
   "source": [
    "!qstat"
   ]
  },
  {
   "cell_type": "code",
   "execution_count": null,
   "metadata": {
    "collapsed": true
   },
   "outputs": [],
   "source": []
  },
  {
   "cell_type": "code",
   "execution_count": null,
   "metadata": {
    "collapsed": true
   },
   "outputs": [],
   "source": []
  },
  {
   "cell_type": "code",
   "execution_count": null,
   "metadata": {
    "collapsed": true
   },
   "outputs": [],
   "source": []
  }
 ],
 "metadata": {
  "kernelspec": {
   "display_name": "Python 2",
   "language": "python",
   "name": "python2"
  },
  "language_info": {
   "codemirror_mode": {
    "name": "ipython",
    "version": 2
   },
   "file_extension": ".py",
   "mimetype": "text/x-python",
   "name": "python",
   "nbconvert_exporter": "python",
   "pygments_lexer": "ipython2",
   "version": "2.7.12"
  }
 },
 "nbformat": 4,
 "nbformat_minor": 0
}
